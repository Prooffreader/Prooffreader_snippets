{
 "metadata": {
  "name": "",
  "signature": "sha256:2afcb0a95936d109dbe25ec42dddc766ecea9b8cc55d86fe9302f4d0fcf77d16"
 },
 "nbformat": 3,
 "nbformat_minor": 0,
 "worksheets": [
  {
   "cells": [
    {
     "cell_type": "heading",
     "level": 1,
     "metadata": {},
     "source": [
      "Apply lambda function to a column\n"
     ]
    },
    {
     "cell_type": "code",
     "collapsed": false,
     "input": [
      "replace_group = lambda x: x if x in groups_to_keep else aggregate_name # function to replace non-kept column names\n",
      "dfplot[grouped_column] = dfplot[grouped_column].apply(replace_group) # replace column names\n",
      "\n",
      "bb['decade'] = bb.apply(lambda row: int(str(row.year)[:3])*10, axis=1)"
     ],
     "language": "python",
     "metadata": {},
     "outputs": []
    },
    {
     "cell_type": "code",
     "collapsed": false,
     "input": [
      "#Changing value instead of view in iterrows:\n",
      "dfmi.loc[:,('one','second')] = x\n",
      "isntead of\n",
      "dfmi['one']['second'] = x"
     ],
     "language": "python",
     "metadata": {},
     "outputs": []
    },
    {
     "cell_type": "heading",
     "level": 1,
     "metadata": {},
     "source": [
      "Calculate percentage in group"
     ]
    },
    {
     "cell_type": "code",
     "collapsed": false,
     "input": [
      "# add column 'pct': the number of births of that name and sex in that year\n",
      "# divided by the total number of births of that sex in that year, multiplied by\n",
      "# 100 to turn into a percentage and reduce leading zeroes\n",
      "def add_pct(group):\n",
      "    births = group.births.astype(float)\n",
      "    group['pct'] = (births / births.sum() * 100)\n",
      "    return group\n",
      "yob = yob.groupby(['year', 'sex']).apply(add_pct)\n",
      "#add rank of each name each year each sex\n",
      "yob['ranked'] = yob.groupby(['year', 'sex'])['births'].rank(ascending=False)"
     ],
     "language": "python",
     "metadata": {},
     "outputs": []
    },
    {
     "cell_type": "code",
     "collapsed": false,
     "input": [
      "#pandas #add #fill in #missing #rows, e.g. #years\n",
      "\n",
      "import pandas as pd\n",
      "df = pd.DataFrame({'year':[2000, 2001, 2002, 2004, 2005, 2006], 'qty':[10, 20, 15, 25, 20, 30]})\n",
      "\n",
      "tocomplete = set(df.year)\n",
      "\n",
      "for i in range(2000, 2007):\n",
      "    if i not in tocomplete:\n",
      "        df = df.append(pd.DataFrame({'year':[i], 'qty':[0]}), ignore_index=True)"
     ],
     "language": "python",
     "metadata": {},
     "outputs": []
    },
    {
     "cell_type": "heading",
     "level": 3,
     "metadata": {},
     "source": [
      "Using csv.writer and pandas together"
     ]
    },
    {
     "cell_type": "code",
     "collapsed": false,
     "input": [
      "#calculate comorbidity matrix\n",
      "\n",
      "import csv\n",
      "with open('drugs_comorbid.csv', 'wb') as csvfile:\n",
      "    writer = csv.writer(csvfile)\n",
      "    writer.writerow(['drug1', 'drug2', 'comorbnum'])\n",
      "    for dualflag in dualflags:\n",
      "        drug1 = full_drugs[dualflag[0]]\n",
      "        drug2 = full_drugs[dualflag[1]]\n",
      "        comorbnum = df[(df[dualflag[0]]==1) &\n",
      "                       (df[dualflag[1]]==1)].ANALWT_C.sum()\n",
      "        writer.writerow([drug1, drug2, comorbnum])\n",
      "        if drug1 != drug2:\n",
      "            writer.writerow([drug2, drug1, comorbnum])\n",
      "\n",
      "dfcmb = pd.read_csv('drugs_comorbid.csv', index_col=None)\n",
      "dfcmb"
     ],
     "language": "python",
     "metadata": {},
     "outputs": []
    },
    {
     "cell_type": "heading",
     "level": 2,
     "metadata": {},
     "source": [
      "new calculated column with .apply"
     ]
    },
    {
     "cell_type": "code",
     "collapsed": false,
     "input": [
      "def calc_letter(row):\n",
      "    if row.grade >= 90:\n",
      "        letter_grade = 'A'\n",
      "    elif row['grade'] > 75:\n",
      "        letter_grade = 'B'\n",
      "    elif row['grade'] > 60:\n",
      "        letter_grade = 'C'\n",
      "    else:\n",
      "        letter_grade = 'F'\n",
      "    return letter_grade\n",
      "\n",
      "df['ltr'] = df.apply(calc_letter, axis=1)\n",
      "\n",
      "# pandas #new#column based on others #merge #map #apply\n",
      "\n",
      "# import pandas as pd\n",
      "\n",
      "# def calculate(s):\n",
      "#     a = s['path'] + 2*s['row'] # Simple calc for example\n",
      "#     b = s['path'] * 0.153\n",
      "#     return pd.Series({'col1'=a, 'col2'=b})\n",
      "\n",
      "# df = df.merge(df.apply(calculate, axis=1), left_index=True, right_index=True)\n",
      "\n",
      "or\n",
      "\n",
      "df2 = pd.DataFrame({'col1':[1,2,3],'col2':['a', 'b', 'c']})\n",
      "\n",
      "def fn(one, two):\n",
      "   return str(str(one**2) + two)\n",
      "\n",
      "def calculate(df):\n",
      "    return pd.Series({'col3':str(df['col1'])+df['col2']})\n",
      "\n",
      "df2 = df2.merge(df2.apply(calculate, axis=1), left_index=True, right_index=True)\n",
      "\n",
      "print df2\n",
      "\n",
      "or\n",
      "\n",
      "def add_pct(group):\n",
      "    births = group.births.astype(float)\n",
      "    group['pct'] = (births / births.sum() * 100)\n",
      "    return group\n",
      "yob = yob.groupby(['year', 'sex']).apply(add_pct)\n",
      "#add #rank of each name each year each sex\n",
      "yob['ranked'] = yob.groupby(['year', 'sex'])['births'].rank(ascending=False)\n",
      "\n",
      "or\n",
      "\n",
      "df_train['Gender'] = df_train['Sex'].map( {'female': 0, 'male': 1} ).astype(int)\n",
      "\n",
      "#\n",
      "\n",
      "percent column\n",
      "\n",
      "#pandas #percent column\n",
      "#needs to be adjusted for any dataset\n",
      "\n",
      "    # add column 'pct': the number of births of that name and sex in that year\n",
      "    # divided by the total number of births of that sex in that year, multiplied by\n",
      "    # 100 to turn into a percentage and reduce leading zeroes\n",
      "    def add_pct(group):\n",
      "        births = group.births.astype(float)\n",
      "        group['pct'] = (births / births.sum() * 100)\n",
      "        return group\n",
      "    yobgroups = yob.groupby(['year', 'sex']).apply(add_pct)\n",
      "    #add rank of each name each year each sex\n",
      "    yob['ranked'] = yobgroups.groupby(['year', 'sex'])['births'].rank(ascending=False)\n",
      "\n",
      "    \n",
      "    ### new column from boolean of existing column, leaves old values\n",
      "myfunc = lambda s: 'newval' if (s['one'] == 'x')\n",
      "df['newcol'] = df.apply(myfunc, axis=1)\n",
      "\n",
      "###\n",
      "\n",
      "apply\n",
      "\n",
      "   # an example of apply\n",
      "def calc_letter(row):\n",
      "    if row.grade >= 90:\n",
      "        letter_grade = 'A'\n",
      "    elif row['grade'] > 75:\n",
      "        letter_grade = 'B'\n",
      "    elif row['grade'] > 60:\n",
      "        letter_grade = 'C'\n",
      "    else:\n",
      "        letter_grade = 'F'\n",
      "    return letter_grade\n",
      "\n",
      "df['ltr'] = df.apply(calc_letter, axis=1)\n",
      "print ' '\n",
      "print df[df.ltr == 'C']"
     ],
     "language": "python",
     "metadata": {},
     "outputs": []
    },
    {
     "cell_type": "code",
     "collapsed": false,
     "input": [
      "x = \"\"\"\n",
      "  ____ ____  _        _             ___ ___  \n",
      " / ___/ ___|| |_ _ __(_)_ __   __ _|_ _/ _ \\ \n",
      "| |   \\___ \\| __| '__| | '_ \\ / _` || | | | |\n",
      "| |___ ___) | |_| |  | | | | | (_| || | |_| |\n",
      " \\____|____/ \\__|_|  |_|_| |_|\\__, |___\\___/ \n",
      "                              |___/           \"\"\"        \n",
      "\n",
      "#cStringIO #stringio to load #inline #text #table to #dataframe #df\n",
      "\n",
      "thecsv = \"\"\"\n",
      "letter,freq\n",
      "a,0.081670\n",
      "b,0.014920\n",
      "c,0.027820\n",
      "\"\"\"\n",
      "\n",
      "from six.moves import cStringIO as cStringIO\n",
      "df = pd.read_csv(cStringIO(thecsv), skiprows=1, skipinitialspace=True)"
     ],
     "language": "python",
     "metadata": {},
     "outputs": []
    },
    {
     "cell_type": "code",
     "collapsed": false,
     "input": [
      "#pandas #pivot #unpivot to replace missing values with zero for graphing\n",
      "def pivot_unpivot(df, row_name, column_name, value_name):\n",
      "    \"\"\" Pivot and unpivot a dataframe to replace missing values with zeroes \"\"\"\n",
      "    pivoted = pd.DataFrame(pd.pivot_table(df, values=value_name, index = row_name, columns=column_name)).fillna(0.0)\n",
      "    unpivoted = pd.DataFrame()\n",
      "    for column in pivoted.columns:\n",
      "        unpivoted = unpivoted.append(pd.DataFrame({row_name: list(pivoted.index), column_name: [column]*len(pivoted),\n",
      "                                       value_name: list(pivoted[column])}), ignore_index=True)\n",
      "    return unpivoted"
     ],
     "language": "python",
     "metadata": {},
     "outputs": []
    }
   ],
   "metadata": {}
  }
 ]
}