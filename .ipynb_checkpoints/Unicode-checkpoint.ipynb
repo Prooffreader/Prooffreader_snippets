{
 "metadata": {
  "name": "",
  "signature": "sha256:c01295769a20baca4012648868a93dc61c93951f8420a60b22e2170efcd895cb"
 },
 "nbformat": 3,
 "nbformat_minor": 0,
 "worksheets": [
  {
   "cells": [
    {
     "cell_type": "code",
     "collapsed": false,
     "input": [
      "#Unicode is non-encoded"
     ],
     "language": "python",
     "metadata": {},
     "outputs": []
    },
    {
     "cell_type": "code",
     "collapsed": false,
     "input": [
      "txt = 'This is a string of bytes'\n",
      "uni = u'This is unicode'\n",
      "print type(txt), type(uni)\n",
      "print \"These are both subtypes of <type 'basestring'> in Python 2\""
     ],
     "language": "python",
     "metadata": {},
     "outputs": [
      {
       "output_type": "stream",
       "stream": "stdout",
       "text": [
        "<type 'str'> <type 'unicode'>\n",
        "These are both subtypes of <type 'basestring'> in Python 2\n"
       ]
      }
     ],
     "prompt_number": 5
    },
    {
     "cell_type": "markdown",
     "metadata": {},
     "source": [
      "A string is encoded; unicode is not.\n",
      "So to transform bytes into unicode, s.decode(encoding)\n",
      "To transform unicode into bytes (e.g. to save), s.encode(encoding)"
     ]
    },
    {
     "cell_type": "code",
     "collapsed": false,
     "input": [],
     "language": "python",
     "metadata": {},
     "outputs": [],
     "prompt_number": 3
    },
    {
     "cell_type": "code",
     "collapsed": false,
     "input": [],
     "language": "python",
     "metadata": {},
     "outputs": [
      {
       "metadata": {},
       "output_type": "pyout",
       "prompt_number": 4,
       "text": [
        "str"
       ]
      }
     ],
     "prompt_number": 4
    },
    {
     "cell_type": "code",
     "collapsed": false,
     "input": [],
     "language": "python",
     "metadata": {},
     "outputs": []
    }
   ],
   "metadata": {}
  }
 ]
}