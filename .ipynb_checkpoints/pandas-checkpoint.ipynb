{
 "metadata": {
  "name": "",
  "signature": "sha256:b3868e2de59505161b381567f0d6bfb0e7182bb31173a0821285baaafbb879d8"
 },
 "nbformat": 3,
 "nbformat_minor": 0,
 "worksheets": [
  {
   "cells": [
    {
     "cell_type": "heading",
     "level": 1,
     "metadata": {},
     "source": [
      "Apply lambda function to a column\n"
     ]
    },
    {
     "cell_type": "code",
     "collapsed": false,
     "input": [
      "replace_group = lambda x: x if x in groups_to_keep else aggregate_name # function to replace non-kept column names\n",
      "dfplot[grouped_column] = dfplot[grouped_column].apply(replace_group) # replace column names"
     ],
     "language": "python",
     "metadata": {},
     "outputs": []
    },
    {
     "cell_type": "heading",
     "level": 1,
     "metadata": {},
     "source": [
      "Calculate percentage in group"
     ]
    },
    {
     "cell_type": "code",
     "collapsed": false,
     "input": [
      "# add column 'pct': the number of births of that name and sex in that year\n",
      "# divided by the total number of births of that sex in that year, multiplied by\n",
      "# 100 to turn into a percentage and reduce leading zeroes\n",
      "def add_pct(group):\n",
      "    births = group.births.astype(float)\n",
      "    group['pct'] = (births / births.sum() * 100)\n",
      "    return group\n",
      "yob = yob.groupby(['year', 'sex']).apply(add_pct)\n",
      "#add rank of each name each year each sex\n",
      "yob['ranked'] = yob.groupby(['year', 'sex'])['births'].rank(ascending=False)"
     ],
     "language": "python",
     "metadata": {},
     "outputs": []
    },
    {
     "cell_type": "heading",
     "level": 3,
     "metadata": {},
     "source": [
      "Using csv.writer and pandas together"
     ]
    },
    {
     "cell_type": "code",
     "collapsed": false,
     "input": [
      "#calculate comorbidity matrix\n",
      "\n",
      "import csv\n",
      "with open('drugs_comorbid.csv', 'wb') as csvfile:\n",
      "    writer = csv.writer(csvfile)\n",
      "    writer.writerow(['drug1', 'drug2', 'comorbnum'])\n",
      "    for dualflag in dualflags:\n",
      "        drug1 = full_drugs[dualflag[0]]\n",
      "        drug2 = full_drugs[dualflag[1]]\n",
      "        comorbnum = df[(df[dualflag[0]]==1) &\n",
      "                       (df[dualflag[1]]==1)].ANALWT_C.sum()\n",
      "        writer.writerow([drug1, drug2, comorbnum])\n",
      "        if drug1 != drug2:\n",
      "            writer.writerow([drug2, drug1, comorbnum])\n",
      "\n",
      "dfcmb = pd.read_csv('drugs_comorbid.csv', index_col=None)\n",
      "dfcmb"
     ],
     "language": "python",
     "metadata": {},
     "outputs": []
    },
    {
     "cell_type": "heading",
     "level": 2,
     "metadata": {},
     "source": [
      "new calculated column with .apply"
     ]
    },
    {
     "cell_type": "code",
     "collapsed": false,
     "input": [
      "def calc_letter(row):\n",
      "    if row.grade >= 90:\n",
      "        letter_grade = 'A'\n",
      "    elif row['grade'] > 75:\n",
      "        letter_grade = 'B'\n",
      "    elif row['grade'] > 60:\n",
      "        letter_grade = 'C'\n",
      "    else:\n",
      "        letter_grade = 'F'\n",
      "    return letter_grade\n",
      "\n",
      "df['ltr'] = df.apply(calc_letter, axis=1)"
     ],
     "language": "python",
     "metadata": {},
     "outputs": []
    },
    {
     "cell_type": "code",
     "collapsed": false,
     "input": [
      "\n",
      "\n",
      "#cStringIO #stringio to load #inline #text #table to #dataframe #df\n",
      "\n",
      "thecsv = \"\"\"\n",
      "letter,freq\n",
      "a,0.081670\n",
      "b,0.014920\n",
      "c,0.027820\n",
      "\"\"\"\n",
      "\n",
      "from six.moves import cStringIO as cStringIO\n",
      "df = pd.read_csv(cStringIO(thecsv), skiprows=1, skipinitialspace=True)"
     ],
     "language": "python",
     "metadata": {},
     "outputs": []
    }
   ],
   "metadata": {}
  }
 ]
}