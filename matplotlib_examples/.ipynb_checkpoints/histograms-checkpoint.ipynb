{
 "metadata": {
  "name": "",
  "signature": "sha256:f812a3730bc974eacf7533a591c430abb0491b3677c8723b81bc4039aeb68504"
 },
 "nbformat": 3,
 "nbformat_minor": 0,
 "worksheets": [
  {
   "cells": [
    {
     "cell_type": "markdown",
     "metadata": {},
     "source": [
      "[Sebastian Raschka](http://www.sebastianraschka.com)"
     ]
    },
    {
     "cell_type": "code",
     "collapsed": false,
     "input": [
      "import time\n",
      "print('Last updated:', time.strftime('%m/%d/%Y'))"
     ],
     "language": "python",
     "metadata": {},
     "outputs": [
      {
       "output_type": "stream",
       "stream": "stdout",
       "text": [
        "Last updated: 06/12/2014\n"
       ]
      }
     ],
     "prompt_number": 1
    },
    {
     "cell_type": "code",
     "collapsed": false,
     "input": [
      "%matplotlib inline"
     ],
     "language": "python",
     "metadata": {},
     "outputs": [],
     "prompt_number": 2
    },
    {
     "cell_type": "markdown",
     "metadata": {},
     "source": [
      "<br>\n",
      "<br>"
     ]
    },
    {
     "cell_type": "heading",
     "level": 1,
     "metadata": {},
     "source": [
      "Sections"
     ]
    },
    {
     "cell_type": "markdown",
     "metadata": {},
     "source": [
      "- [Simple histogram](#Simple-histogram)\n",
      "\n",
      "- [Histogram of 2 overlapping data sets](#Histogram-of-2-overlapping-data-sets)"
     ]
    },
    {
     "cell_type": "markdown",
     "metadata": {},
     "source": [
      "<br>\n",
      "<br>"
     ]
    },
    {
     "cell_type": "markdown",
     "metadata": {},
     "source": [
      "<br>\n",
      "<br>"
     ]
    },
    {
     "cell_type": "heading",
     "level": 1,
     "metadata": {},
     "source": [
      "Simple histogram"
     ]
    },
    {
     "cell_type": "markdown",
     "metadata": {},
     "source": [
      "[[back to top](#Sections)]"
     ]
    },
    {
     "cell_type": "code",
     "collapsed": false,
     "input": [
      "import numpy as np\n",
      "import random\n",
      "from matplotlib import pyplot as plt\n",
      "\n",
      "data = [random.gauss(10,10) for i in range(1000)]  \n",
      "bins = np.arange(-60, 60, 5)\n",
      "plt.xlim([min(data)-5, max(data)+5])\n",
      "\n",
      "plt.hist(data, bins=bins, alpha=0.5)\n",
      "plt.title('Random Gaussian data')\n",
      "plt.xlabel('variable X')\n",
      "plt.ylabel('count')\n",
      "\n",
      "\n",
      "plt.show()\n"
     ],
     "language": "python",
     "metadata": {},
     "outputs": [
      {
       "metadata": {},
       "output_type": "display_data",
       "png": "[encoded data removed]",
       "text": [
        "<matplotlib.figure.Figure at 0x105fe7450>"
       ]
      }
     ],
     "prompt_number": 3
    },
    {
     "cell_type": "markdown",
     "metadata": {},
     "source": [
      "<br>\n",
      "<br>"
     ]
    },
    {
     "cell_type": "heading",
     "level": 1,
     "metadata": {},
     "source": [
      "Histogram of 2 overlapping data sets"
     ]
    },
    {
     "cell_type": "markdown",
     "metadata": {},
     "source": [
      "[[back to top](#Sections)]"
     ]
    },
    {
     "cell_type": "code",
     "collapsed": false,
     "input": [
      "import numpy as np\n",
      "import random\n",
      "from matplotlib import pyplot as plt\n",
      "\n",
      "data1 = [random.gauss(15,10) for i in range(500)]  \n",
      "data2 = [random.gauss(5,5) for i in range(500)]  \n",
      "bins = np.arange(-60, 60, 2.5)\n",
      "plt.xlim([min(data1+data2)-5, max(data1+data2)+5])\n",
      "\n",
      "plt.hist(data1, bins=bins, alpha=0.3, label='class 1')\n",
      "plt.hist(data2, bins=bins, alpha=0.3, label='class 2')\n",
      "plt.title('Random Gaussian data')\n",
      "plt.xlabel('variable X')\n",
      "plt.ylabel('count')\n",
      "plt.legend(loc='upper right')\n",
      "\n",
      "\n",
      "plt.show()"
     ],
     "language": "python",
     "metadata": {},
     "outputs": [
      {
       "metadata": {},
       "output_type": "display_data",
       "png": "[encoded data removed]",
       "text": [
        "<matplotlib.figure.Figure at 0x10654ddd0>"
       ]
      }
     ],
     "prompt_number": 4
    }
   ],
   "metadata": {}
  }
 ]
}