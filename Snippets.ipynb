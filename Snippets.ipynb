{
 "metadata": {
  "name": "",
  "signature": "sha256:c4a507532c9d6250a72eca2f11feb923471105a91c454e8f3f4e6f926a654f0a"
 },
 "nbformat": 3,
 "nbformat_minor": 0,
 "worksheets": [
  {
   "cells": [
    {
     "cell_type": "code",
     "collapsed": false,
     "input": [
      "# cStringIO to load inline table to dataframe\n",
      "\n",
      "thecsv = \"\"\"\n",
      "letter,freq\n",
      "a,0.081670\n",
      "b,0.014920\n",
      "c,0.027820\n",
      "\"\"\"\n",
      "\n",
      "from six.moves import cStringIO as cStringIO\n",
      "df = pd.read_csv(cStringIO(thecsv), skiprows=1, skipinitialspace=True)"
     ],
     "language": "python",
     "metadata": {},
     "outputs": []
    },
    {
     "cell_type": "code",
     "collapsed": false,
     "input": [
      "#increment #counting #dict, e.g. {'a':1, 'b':5...}\n",
      "\n",
      "def increment_dict(d, key, increment=1):\n",
      "    if key in d.keys():\n",
      "        d[key] += increment\n",
      "    else:\n",
      "        d[key] = increment\n",
      "    return d\n",
      "        \n",
      "exampl = {}\n",
      "exampl = increment_dict(exampl, 'x')\n",
      "print exampl\n",
      "\n"
     ],
     "language": "python",
     "metadata": {},
     "outputs": [
      {
       "output_type": "stream",
       "stream": "stdout",
       "text": [
        "{'x': 1}\n"
       ]
      }
     ],
     "prompt_number": 3
    },
    {
     "cell_type": "code",
     "collapsed": false,
     "input": [
      "# turn dict of key-value pairs into dataframe\n",
      "\n",
      "import pandas as pd\n",
      "def dict_pairs_to_df(d, sortby='value', indexby='number'):\n",
      "    \"\"\" returns pandas df of key value pairs in dict without recursiom. if sortby != 'value', will sort on key; if indexby != number, will index by key\"\"\"\n",
      "    rdf = pd.DataFrame()\n",
      "    for key in d.keys():\n",
      "        rdf = rdf.append(pd.DataFrame({'key':[key], 'value':[d[key]]}), ignore_index=True)\n",
      "    if sortby == 'value':\n",
      "        rdf.sort('value', ascending=True, inplace=True)\n",
      "    else:\n",
      "        rdf.sort('key', ascending=True, inplace=True)\n",
      "    if indexby == 'value':\n",
      "        rdf.reset_index(drop=True, inplace=True)\n",
      "    else:\n",
      "        rdf.set_index('key', drop=False, inplace=True)\n",
      "    return rdf\n",
      "\n",
      "df = dict_pairs_to_df({'a':2, 'b':5, 'c':'na'})\n",
      "print df"
     ],
     "language": "python",
     "metadata": {},
     "outputs": [
      {
       "output_type": "stream",
       "stream": "stdout",
       "text": [
        "    key value\n",
        "key          \n",
        "a     a     2\n",
        "b     b     5\n",
        "c     c    na\n"
       ]
      }
     ],
     "prompt_number": 6
    },
    {
     "cell_type": "code",
     "collapsed": false,
     "input": [
      "import matplotlib.pyplot as plt\n",
      "%matplotlib inline\n",
      "\n",
      "#data\n",
      "x = [1, 2, 3, 4, 5, 6, 7, 8, 9, 10]\n",
      "y = [3, 2, 5, 7, 4, 2, 4, 6, 7, 8]\n",
      "ysize = [10, 20, 4, 15, 9, 9, 14, 8, 4, 9]\n",
      "    \n",
      "\n",
      "for i in range (0, len(x)):\n",
      "    plt.plot(x[i], y[i], linestyle=\"None\", marker=\"o\", markersize=ysize[i], color=\"red\")\n",
      "    \n",
      "plt.plot(x, y, linestyle=\"dotted\", color=\"red\")\n",
      "\n",
      "\n",
      "plt.xlim(np.min(x)-1.3, np.max(x)+1.3) #optional \n",
      "plt.ylim(np.min(y)-1.3, np.max(y)+1.3) #optional \n",
      "\n",
      "plt.xlabel(\"random y\")\n",
      "plt.ylabel(\"random x\")\n",
      "\n",
      "plt.show()"
     ],
     "language": "python",
     "metadata": {},
     "outputs": []
    },
    {
     "cell_type": "code",
     "collapsed": false,
     "input": [
      "# PIL show image inline\n",
      "\n",
      "# after this, just call the image object and it will be displayed inline\n",
      "\n",
      "from io import BytesIO\n",
      "\n",
      "from IPython.core import display\n",
      "from PIL import Image\n",
      "\n",
      "\n",
      "def display_pil_image(im):\n",
      "   \"\"\"Displayhook function for PIL Images, rendered as PNG.\"\"\"\n",
      "\n",
      "   b = BytesIO()\n",
      "   im.save(b, format='png')\n",
      "   data = b.getvalue()\n",
      "\n",
      "   ip_img = display.Image(data=data, format='png', embed=True)\n",
      "   return ip_img._repr_png_()\n",
      "\n",
      "\n",
      "# register display func with PNG formatter:\n",
      "png_formatter = get_ipython().display_formatter.formatters['image/png']\n",
      "dpi = png_formatter.for_type(Image.Image, display_pil_image)"
     ],
     "language": "python",
     "metadata": {},
     "outputs": []
    },
    {
     "cell_type": "code",
     "collapsed": false,
     "input": [
      "# NLTK\n",
      "\n",
      "txt = open(file_path, 'rU').read()\n",
      "tokens = nltk.word_tokenize(txt)\n",
      "freqdist = nltk.FreqDist(tokens)"
     ],
     "language": "python",
     "metadata": {},
     "outputs": []
    },
    {
     "cell_type": "code",
     "collapsed": false,
     "input": [
      "# countdown, progress bar\n",
      "\n",
      "# used like a progress bar\n",
      "\n",
      "    ### begin counter code block 1 of 2 (before loop) ###\n",
      "      counter_max = len(VARIABLETOCOUNT)\n",
      "      counter_list = []\n",
      "          for i in range(20):\n",
      "             counter_list.append(int(i * counter_max / 20))\n",
      "          counter = -1\n",
      "          countdown = 100\n",
      "    ### end counter code block 1 of 2 ###\n",
      "    \n",
      "        ### begin counter code block 2 of 2 (within loop) ###\n",
      "        counter += 1\n",
      "        if counter in counter_list:\n",
      "            print countdown,\n",
      "            countdown -= 5\n",
      "        ### end counter code block 2 of 2 ###"
     ],
     "language": "python",
     "metadata": {},
     "outputs": []
    },
    {
     "cell_type": "code",
     "collapsed": false,
     "input": [
      "# sort a dict\n",
      "\n",
      "def sortdict(dict):\n",
      "    sortedkeys = dict.keys().sort()\n",
      "    newdict = {}\n",
      "    for key in sortedkeys:\n",
      "        newdict[key] = dict[key]\n",
      "    return newdict\n",
      "# not tested"
     ],
     "language": "python",
     "metadata": {},
     "outputs": []
    },
    {
     "cell_type": "code",
     "collapsed": false,
     "input": [
      "# logger, logging\n",
      "\n",
      "import logging\n",
      "\n",
      "#-----> USER VARIABLE <-----#\n",
      "log_name = 'mylog.txt'\n",
      "# curr_dir = 'C:/mypath/'\n",
      "log_dir = curr_dir\n",
      "\n",
      "logger = logging.getLogger(log_name)\n",
      "log_handler = logging.FileHandler(log_dir + '/' + log_name + '.log')\n",
      "log_formatter = logging.Formatter('%(asctime)s %(levelname)s %(message)s')\n",
      "log_handler.setFormatter(log_formatter)\n",
      "if logger.handlers == []:\n",
      "    logger.addHandler(log_handler) \n",
      "    logger.setLevel(logging.INFO)\n",
      "logger.info(log_name + 'session started in ' + curr_dir)\n",
      "\n",
      "#-----> examples of logger use:\n",
      "#logger.error('Saving of {0} did not work'.format(filename))\n",
      "#logger.info('{0} saved'.format(filename))"
     ],
     "language": "python",
     "metadata": {},
     "outputs": []
    },
    {
     "cell_type": "code",
     "collapsed": false,
     "input": [
      "#glob traverse directories recursive\n",
      "\n",
      "import os\n",
      "\n",
      "path = 'C:/Users/David/Sync2014/Py2014/111'\n",
      "\n",
      "filelist = [os.path.join(dirpath, f)\n",
      "     for dirpath, dirnames, files in os.walk(path)\n",
      "     for f in files if f.endswith('.json')]\n",
      "\n",
      "print filelist[0].split('\\\\')\n",
      "# ['C:/Users/David/Sync2014/Py2014/111', 'votes', '2009', 'h1', 'data.json']\n",
      "\n",
      "for fil in filelist:\n",
      "    ds = fil.split('\\\\')\n",
      "    newname = os.path.split(fil)[0] + '\\\\' + ds[0][-3:] + ds[1] + ds[2] + ds[3] + ds[4]\n",
      "    os.rename(fil, newname)"
     ],
     "language": "python",
     "metadata": {},
     "outputs": []
    },
    {
     "cell_type": "code",
     "collapsed": false,
     "input": [
      "#accent diacritic dict\n",
      "\n",
      "# this is not complete; notably missing are Hungarian diacritics\n",
      "accents = [(r'\u0104', r'A'), (r'\u0105', r'a'), (r'\u010c', r'C'), (r'\u010d', r'c'), (r'\u010f', r'd'), (r'\u0118', r'E'), (r'\u0119', r'e'), \n",
      "           (r'\u011a', r'E'), (r'\u011b', r'e'), (r'\u0139', r'L'), (r'\u013a', r'l'), (r'\u0147', r'N'), (r'\u0148', r'n'), (r'\u0154', r'R'), \n",
      "           (r'\u0155', r'r'), (r'\u0158', r'R'), (r'\u0159', r'r'), (r'\u0165', r't'), (r'\u016e', r'r'), (r'\u016f', r'r'), (r'\u017d', r'Z'), \n",
      "           (r'\u017e', r'z'), (r'\u00c1', r'A'), (r'\u00e1', r'a'), (r'\u00c2', r'A'), (r'\u00e2', r'a'), (r'\u00d8', r'o'), (r'\u00f5', r'o'), \n",
      "           (r'\u00c0', r'A'), (r'\u00e0', r'a'), (r'\u00c4', r'A'), (r'\u00e4', r'a'), (r'\u00c7', r'C'), (r'\u00e7', r'c'), (r'\u00c9', r'E'), \n",
      "           (r'\u00e9', r'e'), (r'\u00ca', r'E'), (r'\u00ea', r'e'), (r'\u00c8', r'E'), (r'\u00e8', r'e'), (r'\u00cb', r'E'), (r'\u00eb', r'e'), \n",
      "           (r'\u00cd', r'I'), (r'\u00ed', r'i'), (r'\u00ce', r'I'), (r'\u00ee', r'i'), (r'\u00cc', r'I'), (r'\u00ec', r'i'), (r'\u00cf', r'I'), \n",
      "           (r'\u00ef', r'i'), (r'\u00d1', r'N'), (r'\u00f1', r'n'), (r'\u00d3', r'O'), (r'\u00f3', r'o'), (r'\u00d4', r'O'), (r'\u00f4', r'o'), \n",
      "           (r'\u00d2', r'O'), (r'\u00f2', r'o'), (r'\u00d6', r'O'), (r'\u00f6', r'o'), (r'\u00f8', r'o'), (r'\u00d5', r'O'), (r'\u00e4', r'a'),\n",
      "           (r'\u00da', r'r'), (r'\u00fa', r'r'), (r'\u00db', r'r'), (r'\u00fb', r'r'), (r'\u00d9', r'r'), (r'\u00f9', r'r'), (r'\u00dc', r'r'), \n",
      "           (r'\u00fc', r'r'), (r'\u00dd', r'Y'), (r'\u00fd', r'y'), (r'\u0160', r'S'), (r'\u0161', r's'), (r'\u00ff', r'y'), (r'\u0178', r'Y'), \n",
      "           (r'\u00c5', r'A'), (r'\u00e5', r'a'), (r'\u00c3', r'A'), (r'\u00e3', r'a'), (r'\u00c4', r'A'), \n",
      "           (r'\u00c6', r'Ae'), (r'\u00e6', r'ae'), (r'\u0152', r'Oe'), (r'\u0153', r'oe'), (r'\u00df', r'ss')]"
     ],
     "language": "python",
     "metadata": {},
     "outputs": []
    },
    {
     "cell_type": "code",
     "collapsed": false,
     "input": [
      "#consonant or #vowel #tagger\n",
      "\n",
      "def cv(name):\n",
      "    \"returns consonant-vowel pattern tuplet: every one, then alternations only\"\n",
      "    import re\n",
      "    cv = name.lower()\n",
      "    cv = re.sub('[bcdfghjklmnpqrstvxz]', 'c', cv)\n",
      "    cv = re.sub('cy$', 'cv', cv)\n",
      "    cv = re.sub('[aeo][wy][^aeiou]', 'vvc', cv)\n",
      "    cv = re.sub('[aeo][wy]$', 'vv', cv) \n",
      "    cv = re.sub('[wy]', 'c', cv) \n",
      "    cv = re.sub('[aeiou]', 'v', cv)\n",
      "    cv2 = re.sub('[v]{2,}', 'v', cv)\n",
      "    cv2 = re.sub('[c]{2,}', 'c', cv)\n",
      "    return cv, cv2"
     ],
     "language": "python",
     "metadata": {},
     "outputs": []
    },
    {
     "cell_type": "code",
     "collapsed": false,
     "input": [
      "determine validate #type eg #list\n",
      "\n",
      "x = ['1', 2]\n",
      "isinstance(x, list)"
     ],
     "language": "python",
     "metadata": {},
     "outputs": [
      {
       "metadata": {},
       "output_type": "pyout",
       "prompt_number": 3,
       "text": [
        "True"
       ]
      }
     ],
     "prompt_number": 3
    },
    {
     "cell_type": "code",
     "collapsed": false,
     "input": [
      "# make list of pariwise combinations (not permutations)\n",
      "\n",
      "def list_pairwise(listforfn):\n",
      "    ni = len(listforfn)\n",
      "    if ni == 1:\n",
      "        return None\n",
      "    else:\n",
      "        pairwiselist = []\n",
      "        for i in (range(ni - 1)):\n",
      "            for j in range (i + 1):\n",
      "                pairwiselist.append((listforfn[i], listforfn[j]))\n",
      "        return pairwiselist\n",
      "    \n",
      "print list_pairwise([1,2,3,4])"
     ],
     "language": "python",
     "metadata": {},
     "outputs": []
    },
    {
     "cell_type": "code",
     "collapsed": false,
     "input": [
      "# print ljust or rjust to align columns using whitespace\n",
      "\n",
      ">>> def printit():\n",
      "...     print 'Location: 10-10-10-10'.ljust(40) + 'Revision: 1'\n",
      "...     print 'District: Tower'.ljust(40) + 'Date: May 16, 2012'\n",
      "...     print 'User: LOD'.ljust(40) + 'Time: 10:15'\n",
      "...\n",
      ">>> printit()\n",
      "Location: 10-10-10-10                   Revision: 1\n",
      "District: Tower                         Date: May 16, 2012\n",
      "User: LOD                               Time: 10:15"
     ],
     "language": "python",
     "metadata": {},
     "outputs": []
    },
    {
     "cell_type": "code",
     "collapsed": false,
     "input": [
      "import pandas as pd\n",
      "\n",
      "df = pd.DataFrame({'col1':[1,2,3],'col2':['a', 'b', 'c']})\n",
      "\n",
      "def fn(one, two):\n",
      "   return str(str(one**2) + two)\n",
      "\n",
      "def calculate(df):\n",
      "    return pd.Series({'col3':str(df['col1'])+df['col2']})\n",
      "\n",
      "df = df.merge(df.apply(calculate, axis=1), left_index=True, right_index=True)\n",
      "\n",
      "df"
     ],
     "language": "python",
     "metadata": {},
     "outputs": [
      {
       "html": [
        "<div style=\"max-height:1000px;max-width:1500px;overflow:auto;\">\n",
        "<table border=\"1\" class=\"dataframe\">\n",
        "  <thead>\n",
        "    <tr style=\"text-align: right;\">\n",
        "      <th></th>\n",
        "      <th>col1</th>\n",
        "      <th>col2</th>\n",
        "      <th>col3</th>\n",
        "    </tr>\n",
        "  </thead>\n",
        "  <tbody>\n",
        "    <tr>\n",
        "      <th>0</th>\n",
        "      <td> 1</td>\n",
        "      <td> a</td>\n",
        "      <td> 1a</td>\n",
        "    </tr>\n",
        "    <tr>\n",
        "      <th>1</th>\n",
        "      <td> 2</td>\n",
        "      <td> b</td>\n",
        "      <td> 2b</td>\n",
        "    </tr>\n",
        "    <tr>\n",
        "      <th>2</th>\n",
        "      <td> 3</td>\n",
        "      <td> c</td>\n",
        "      <td> 3c</td>\n",
        "    </tr>\n",
        "  </tbody>\n",
        "</table>\n",
        "</div>"
       ],
       "metadata": {},
       "output_type": "pyout",
       "prompt_number": 16,
       "text": [
        "   col1 col2 col3\n",
        "0     1    a   1a\n",
        "1     2    b   2b\n",
        "2     3    c   3c"
       ]
      }
     ],
     "prompt_number": 16
    },
    {
     "cell_type": "code",
     "collapsed": false,
     "input": [
      "# pandas new column based on others\n",
      "\n",
      "def calculate(s):\n",
      "    a = s['path'] + 2*s['row'] # Simple calc for example\n",
      "    b = s['path'] * 0.153\n",
      "    return pd.Series({'col1'=a, 'col2'=b})\n",
      "\n",
      "df = df.merge(df.apply(calculate, axis=1), left_index=True, right_index=True)"
     ],
     "language": "python",
     "metadata": {},
     "outputs": []
    },
    {
     "cell_type": "code",
     "collapsed": false,
     "input": [
      "# json and pickle i/o\n",
      "\n",
      "import json\n",
      "\n",
      "d = {'a':1, 'b':2}\n",
      "\n",
      "with open('eraseme.json', 'w+') as f:\n",
      "    f.write(json.dumps(d))\n",
      "    \n",
      "d = json.loads(open('eraseme.json', 'r').read())\n",
      "\n",
      "####\n",
      "\n",
      "import pickle\n",
      "\n",
      "pickle.dump( forest, open( \"forest.pickle\", \"wb+\" ) )\n",
      "\n",
      "favorite_color = pickle.load( open( \"save.p\", \"rb\" ) )"
     ],
     "language": "python",
     "metadata": {},
     "outputs": [],
     "prompt_number": 2
    },
    {
     "cell_type": "code",
     "collapsed": false,
     "input": [
      "# change windows paths with backslashes to posix paths with forward slashes and allowed characters\n",
      "# note that this does not validate that the resulting path is posix-compliant; the following function does.\n",
      "\n",
      "def win2posix(path):\n",
      "    return path.replace(\"\\\\\", \"/\")\n",
      "\n",
      "# validate posix path\n",
      "\n",
      "def isvalidposix(path):\n",
      "    itisvalid = True\n",
      "    import re\n",
      "    for i in range(len(path)):\n",
      "        if 2>0:\n",
      "            if ((i == 0 and path[i] == '-') or\n",
      "            (i < len(path) and path[i:i+2] == '/-')):\n",
      "                itisvalid = False\n",
      "                print \"- is not permitted as the first character of a path or file\"\n",
      "        srch = re.search(\"[^A-Za-z0-9_\\.\\-// ]\", path[i])\n",
      "        if srch:\n",
      "            itisvalid = False\n",
      "            print srch.group(0) + ' is not permitted permitted in POSIX filenames'\n",
      "        if path[i] == ' ':\n",
      "            itisvalid = False\n",
      "            print \"Spaces are not permitted in POSIX filenames\"\n",
      "    return itisvalid\n",
      "\n",
      "print win2posix(\"C:\\Users\\Popeye\\whatacool.jpg\")\n",
      "print isvalidposix(\"C:/Program Files/-thisfile&thatfile.exe\")\n",
      "print isvalidposix(\"usr/bin/data.py\")"
     ],
     "language": "python",
     "metadata": {},
     "outputs": [
      {
       "output_type": "stream",
       "stream": "stdout",
       "text": [
        "C:/Users/Popeye/whatacool.jpg\n",
        ": is not permitted permitted in POSIX filenames\n",
        "Spaces are not permitted in POSIX filenames\n",
        "- is not permitted as the first character of a path or file\n",
        "& is not permitted permitted in POSIX filenames\n",
        "False\n",
        "True\n"
       ]
      }
     ],
     "prompt_number": 35
    },
    {
     "cell_type": "code",
     "collapsed": false,
     "input": [],
     "language": "python",
     "metadata": {},
     "outputs": []
    }
   ],
   "metadata": {}
  }
 ]
}