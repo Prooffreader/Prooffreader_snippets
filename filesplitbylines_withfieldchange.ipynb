{
 "metadata": {
  "name": "",
  "signature": "sha256:4c2fb91137f5ed7335fbb92adc2f1758c9bac5049a5dd4915a99a5e683debd04"
 },
 "nbformat": 3,
 "nbformat_minor": 0,
 "worksheets": [
  {
   "cells": [
    {
     "cell_type": "code",
     "collapsed": false,
     "input": [
      "import os\n",
      "\n",
      "def split_file(filepath, lines=numlines):\n",
      "    \"\"\"Split a file based on a number of lines, after a change in the first field of a csv. Presumes there is always at least one \n",
      "    field change between each block of lines.\"\"\"\n",
      "    counter = 0\n",
      "    path, filename = os.path.split(filepath)\n",
      "    # filename.split('.') would not work for filenames with more than one .\n",
      "    basename, ext = os.path.splitext(filename)\n",
      "    # open input file\n",
      "    with open(filepath, 'r') as f_in:\n",
      "        try:\n",
      "            # open the first output file\n",
      "            f_out = open(os.path.join(path, '{}_{}{}'.format(basename, counter, ext)), 'w')\n",
      "            status = 'incomplete'\n",
      "            # loop over all lines in the input file, and number them\n",
      "            for i, line in enumerate(f_in):\n",
      "                if i == 0:\n",
      "                    firstline = line\n",
      "                if status == 'waiting for field change':\n",
      "                    if line.strip().split(',')[0] != field:\n",
      "                        f_out.close()\n",
      "                        counter += 1\n",
      "                        print counter\n",
      "                        f_out = open(os.path.join(path, '{}_{}{}'.format(basename, counter, ext)), 'w')\n",
      "                        status = 'incomplete'\n",
      "                        f_out.write(firstline)\n",
      "                if (i > 5 and i % lines == 0):\n",
      "                    status = 'waiting for field change'\n",
      "                    field = line.strip().split(',')[0]\n",
      "                # write the line to the output file\n",
      "                if i <> 1: # remove second line of file, which is not data\n",
      "                    f_out.write(line)\n",
      "        finally:\n",
      "            # close the last output file\n",
      "            f_out.close()\n",
      "\n",
      "split_file(\"C:/Users/David/Documents/IPython Notebooks/elancematthew/wxdatarawclean.csv\", 567000)\n"
     ],
     "language": "python",
     "metadata": {},
     "outputs": [],
     "prompt_number": 10
    },
    {
     "cell_type": "code",
     "collapsed": false,
     "input": [
      "path = \"C:/Users/David/Documents/IPython Notebooks/elancematthew/wxdatarawclean.csv\"\n",
      "\n"
     ],
     "language": "python",
     "metadata": {},
     "outputs": [
      {
       "output_type": "stream",
       "stream": "stdout",
       "text": [
        "2\n",
        "3"
       ]
      },
      {
       "output_type": "stream",
       "stream": "stdout",
       "text": [
        "\n",
        "4"
       ]
      },
      {
       "output_type": "stream",
       "stream": "stdout",
       "text": [
        "\n",
        "5"
       ]
      },
      {
       "output_type": "stream",
       "stream": "stdout",
       "text": [
        "\n",
        "6"
       ]
      },
      {
       "output_type": "stream",
       "stream": "stdout",
       "text": [
        "\n",
        "7"
       ]
      },
      {
       "output_type": "stream",
       "stream": "stdout",
       "text": [
        "\n",
        "8"
       ]
      },
      {
       "output_type": "stream",
       "stream": "stdout",
       "text": [
        "\n",
        "9"
       ]
      },
      {
       "output_type": "stream",
       "stream": "stdout",
       "text": [
        "\n",
        "10"
       ]
      },
      {
       "output_type": "stream",
       "stream": "stdout",
       "text": [
        "\n"
       ]
      }
     ],
     "prompt_number": 12
    },
    {
     "cell_type": "code",
     "collapsed": false,
     "input": [
      "import re\n",
      "path = \"\"\"\"C:\\Users\\David\\Documents\\IPython Notebooks\\elancematthew\\query_result.csv\"\"\"\n",
      "print path\n",
      "path = re.sub(r'\\\\', '/', path)\n",
      "print path\n",
      "\n",
      "if __name__ == '__main__':\n",
      "    with open('split_file.txt', 'w') as f:\n",
      "        for x in range(950):\n",
      "            f.write('{}\\n'.format(x))\n",
      "    split_file('split_file.txt')"
     ],
     "language": "python",
     "metadata": {},
     "outputs": [
      {
       "output_type": "stream",
       "stream": "stdout",
       "text": [
        "\"C:\\Users\\David\\Downloads\u0007ctors.list\u0007ctors.list\n",
        "\"C:/Users/David/Downloads\u0007ctors.list\u0007ctors.list\n"
       ]
      }
     ],
     "prompt_number": 14
    },
    {
     "cell_type": "code",
     "collapsed": false,
     "input": [
      "import glob\n",
      "file_list = glob.glob('*.txt')     \n",
      "print file_list[:5]\n",
      "\n",
      "for filename in file_list:\n",
      "    print filename\n",
      "    split_file(filename, 1000000)"
     ],
     "language": "python",
     "metadata": {},
     "outputs": []
    }
   ],
   "metadata": {}
  }
 ]
}