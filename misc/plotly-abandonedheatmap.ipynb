{
 "metadata": {
  "name": "",
  "signature": "sha256:15a297f14914580a6cae11e695c7735ed2c9a91aa345e651e25d53f6628f6f92"
 },
 "nbformat": 3,
 "nbformat_minor": 0,
 "worksheets": [
  {
   "cells": [
    {
     "cell_type": "code",
     "collapsed": false,
     "input": [
      "#  Finishing Touches\n",
      "fig,ax=plt.subplots()\n",
      "# using the ax subplot object, we use the same \n",
      "# syntax as above, but it allows us a little\n",
      "# bit more advanced control\n",
      "ax.pcolor(data,cmap=plt.cm.Reds,edgecolors='k')\n",
      "ax.set_xticks(np.arange(0,6)+0.5)\n",
      "ax.set_yticks(np.arange(0,10)+0.5)\n",
      " \n",
      "# Here we put the x-axis tick labels\n",
      "# on the top of the plot.  The y-axis\n",
      "# command is redundant, but inocuous.\n",
      "ax.xaxis.tick_top()\n",
      "ax.yaxis.tick_left()\n",
      "# similar syntax as previous examples\n",
      "ax.set_xticklabels(columns,minor=False,fontsize=20)\n",
      "ax.set_yticklabels(rows,minor=False,fontsize=20)\n",
      " \n",
      "# Here we use a text command instead of the title\n",
      "# to avoid collision between the x-axis tick labels\n",
      "# and the normal title position\n",
      "plt.text(0.5,1.08,'Main Plot Title',\n",
      "         fontsize=25,\n",
      "         horizontalalignment='center',\n",
      "         transform=ax.transAxes\n",
      "         )\n",
      "          \n",
      "# standard axis elements\n",
      "plt.ylabel('Y Axis Label',fontsize=20)\n",
      "plt.xlabel('X Axis Label',fontsize=20)\n",
      "plt.show()"
     ],
     "language": "python",
     "metadata": {},
     "outputs": []
    }
   ],
   "metadata": {}
  }
 ]
}