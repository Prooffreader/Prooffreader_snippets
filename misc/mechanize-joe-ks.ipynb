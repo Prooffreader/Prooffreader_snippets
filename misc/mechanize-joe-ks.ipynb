{
 "metadata": {
  "name": "",
  "signature": "sha256:c352b70bb479de59480c4fda0916a0979d1ad86e7b61066d7c80a79babae8ca7"
 },
 "nbformat": 3,
 "nbformat_minor": 0,
 "worksheets": [
  {
   "cells": [
    {
     "cell_type": "code",
     "collapsed": false,
     "input": [
      "import mechanize\n",
      "from random import randrange\n",
      "from bs4 import BeautifulSoup\n",
      "import time\n"
     ],
     "language": "python",
     "metadata": {},
     "outputs": [],
     "prompt_number": 1
    },
    {
     "cell_type": "heading",
     "level": 4,
     "metadata": {},
     "source": [
      "It does not go to next page\n"
     ]
    },
    {
     "cell_type": "code",
     "collapsed": false,
     "input": [
      "br = mechanize.Browser()\n",
      "#br.set_all_readonly(False)    # allow everything to be written to\n",
      "br.set_handle_robots(False)   # ignore robots\n",
      "br.set_handle_refresh(False)  # can sometimes hang without this\n",
      "br.addheaders = [('User-agent', 'Mozilla/5.0 (X11; U; Linux i686; en-US; rv:1.9.0.1) Gecko/2008071615 Fedora/3.0.1-1.fc9 Firefox/3.0.1')]"
     ],
     "language": "python",
     "metadata": {},
     "outputs": [],
     "prompt_number": 16
    },
    {
     "cell_type": "code",
     "collapsed": false,
     "input": [
      "response = br.open('http://www.joe-ks.com/factsheets/inspirations.php')"
     ],
     "language": "python",
     "metadata": {},
     "outputs": [],
     "prompt_number": 17
    },
    {
     "cell_type": "code",
     "collapsed": false,
     "input": [
      "html = response.read()"
     ],
     "language": "python",
     "metadata": {},
     "outputs": [
      {
       "ename": "AttributeError",
       "evalue": "read",
       "output_type": "pyerr",
       "traceback": [
        "\u001b[1;31m---------------------------------------------------------------------------\u001b[0m\n\u001b[1;31mAttributeError\u001b[0m                            Traceback (most recent call last)",
        "\u001b[1;32m<ipython-input-28-8bdae0b2f427>\u001b[0m in \u001b[0;36m<module>\u001b[1;34m()\u001b[0m\n\u001b[1;32m----> 1\u001b[1;33m \u001b[0mhtml\u001b[0m \u001b[1;33m=\u001b[0m \u001b[0mresponse\u001b[0m\u001b[1;33m.\u001b[0m\u001b[0mread\u001b[0m\u001b[1;33m(\u001b[0m\u001b[1;33m)\u001b[0m\u001b[1;33m\u001b[0m\u001b[0m\n\u001b[0m",
        "\u001b[1;32mC:\\Users\\David\\Anaconda\\lib\\site-packages\\mechanize\\_urllib2_fork.pyc\u001b[0m in \u001b[0;36m__getattr__\u001b[1;34m(self, attr)\u001b[0m\n\u001b[0;32m    171\u001b[0m                 \u001b[0mgetattr\u001b[0m\u001b[1;33m(\u001b[0m\u001b[0mself\u001b[0m\u001b[1;33m,\u001b[0m \u001b[1;34m'get_'\u001b[0m \u001b[1;33m+\u001b[0m \u001b[0mname\u001b[0m\u001b[1;33m)\u001b[0m\u001b[1;33m(\u001b[0m\u001b[1;33m)\u001b[0m\u001b[1;33m\u001b[0m\u001b[0m\n\u001b[0;32m    172\u001b[0m                 \u001b[1;32mreturn\u001b[0m \u001b[0mgetattr\u001b[0m\u001b[1;33m(\u001b[0m\u001b[0mself\u001b[0m\u001b[1;33m,\u001b[0m \u001b[0mattr\u001b[0m\u001b[1;33m)\u001b[0m\u001b[1;33m\u001b[0m\u001b[0m\n\u001b[1;32m--> 173\u001b[1;33m         \u001b[1;32mraise\u001b[0m \u001b[0mAttributeError\u001b[0m\u001b[1;33m,\u001b[0m \u001b[0mattr\u001b[0m\u001b[1;33m\u001b[0m\u001b[0m\n\u001b[0m\u001b[0;32m    174\u001b[0m \u001b[1;33m\u001b[0m\u001b[0m\n\u001b[0;32m    175\u001b[0m     \u001b[1;32mdef\u001b[0m \u001b[0mget_method\u001b[0m\u001b[1;33m(\u001b[0m\u001b[0mself\u001b[0m\u001b[1;33m)\u001b[0m\u001b[1;33m:\u001b[0m\u001b[1;33m\u001b[0m\u001b[0m\n",
        "\u001b[1;31mAttributeError\u001b[0m: read"
       ]
      }
     ],
     "prompt_number": 28
    },
    {
     "cell_type": "code",
     "collapsed": false,
     "input": [
      "print html[6650:6700]"
     ],
     "language": "python",
     "metadata": {},
     "outputs": [
      {
       "output_type": "stream",
       "stream": "stdout",
       "text": [
        "8\"></a><center>Wolves and lambs can enjoy no meeti\n"
       ]
      }
     ],
     "prompt_number": 26
    },
    {
     "cell_type": "code",
     "collapsed": false,
     "input": [
      "response = br.click_link(link)"
     ],
     "language": "python",
     "metadata": {},
     "outputs": [],
     "prompt_number": 27
    },
    {
     "cell_type": "code",
     "collapsed": false,
     "input": [
      "html = response.read()\n",
      "print html[6650:6700]"
     ],
     "language": "python",
     "metadata": {},
     "outputs": [
      {
       "output_type": "stream",
       "stream": "stdout",
       "text": [
        "8\"></a><center>Wolves and lambs can enjoy no meeti\n"
       ]
      }
     ],
     "prompt_number": 11
    },
    {
     "cell_type": "code",
     "collapsed": false,
     "input": [
      "for link in br.links(text_regex='2'):\n",
      "    print link"
     ],
     "language": "python",
     "metadata": {},
     "outputs": [
      {
       "output_type": "stream",
       "stream": "stdout",
       "text": [
        "Link(base_url='http://www.joe-ks.com/factsheets/inspirations.php', url='#', text='2', tag='a', attrs=[('class', 'navigation'), ('href', '#'), ('title', 'Jump to page 2'), ('onclick', \"fnFactsSubmitForm('2');\")])\n",
        "Link(base_url='http://www.joe-ks.com/factsheets/inspirations.php', url='#', text='2', tag='a', attrs=[('class', 'navigation'), ('href', '#'), ('title', 'Jump to page 2'), ('onclick', \"fnFactsSubmitForm('2');\")])\n"
       ]
      }
     ],
     "prompt_number": 21
    },
    {
     "cell_type": "code",
     "collapsed": false,
     "input": [
      "print link"
     ],
     "language": "python",
     "metadata": {},
     "outputs": [
      {
       "output_type": "stream",
       "stream": "stdout",
       "text": [
        "Link(base_url='http://www.joe-ks.com/factsheets/inspirations.php', url='#', text='2', tag='a', attrs=[('class', 'navigation'), ('href', '#'), ('title', 'Jump to page 2'), ('onclick', \"fnFactsSubmitForm('2');\")])\n"
       ]
      }
     ],
     "prompt_number": 22
    },
    {
     "cell_type": "code",
     "collapsed": false,
     "input": [
      "counter = 2\n",
      "\n",
      "while counter < 4:\n",
      "    \n",
      "    if str(counter) in listlink:\n",
      "        for link in br.links():\n",
      "            if link.text == str(counter):\n",
      "                request = br.click_link(link)\n",
      "                response = br.follow_link(link)\n",
      "                html = request.read()\n",
      "                break\n",
      "    time.sleep(randrange(2)*5)\n",
      "    counter += 1\n",
      "    \n",
      "    print html[1000:1500]+'\\n***\\n'\n"
     ],
     "language": "python",
     "metadata": {},
     "outputs": [
      {
       "ename": "AttributeError",
       "evalue": "read",
       "output_type": "pyerr",
       "traceback": [
        "\u001b[1;31m---------------------------------------------------------------------------\u001b[0m\n\u001b[1;31mAttributeError\u001b[0m                            Traceback (most recent call last)",
        "\u001b[1;32m<ipython-input-18-b9a4cace76c2>\u001b[0m in \u001b[0;36m<module>\u001b[1;34m()\u001b[0m\n\u001b[0;32m      8\u001b[0m                 \u001b[0mrequest\u001b[0m \u001b[1;33m=\u001b[0m \u001b[0mbr\u001b[0m\u001b[1;33m.\u001b[0m\u001b[0mclick_link\u001b[0m\u001b[1;33m(\u001b[0m\u001b[0mlink\u001b[0m\u001b[1;33m)\u001b[0m\u001b[1;33m\u001b[0m\u001b[0m\n\u001b[0;32m      9\u001b[0m                 \u001b[1;31m#response = br.follow_link(link)\u001b[0m\u001b[1;33m\u001b[0m\u001b[1;33m\u001b[0m\u001b[0m\n\u001b[1;32m---> 10\u001b[1;33m                 \u001b[0mhtml\u001b[0m \u001b[1;33m=\u001b[0m \u001b[0mrequest\u001b[0m\u001b[1;33m.\u001b[0m\u001b[0mread\u001b[0m\u001b[1;33m(\u001b[0m\u001b[1;33m)\u001b[0m\u001b[1;33m\u001b[0m\u001b[0m\n\u001b[0m\u001b[0;32m     11\u001b[0m                 \u001b[1;32mbreak\u001b[0m\u001b[1;33m\u001b[0m\u001b[0m\n\u001b[0;32m     12\u001b[0m     \u001b[0mtime\u001b[0m\u001b[1;33m.\u001b[0m\u001b[0msleep\u001b[0m\u001b[1;33m(\u001b[0m\u001b[0mrandrange\u001b[0m\u001b[1;33m(\u001b[0m\u001b[1;36m2\u001b[0m\u001b[1;33m)\u001b[0m\u001b[1;33m*\u001b[0m\u001b[1;36m5\u001b[0m\u001b[1;33m)\u001b[0m\u001b[1;33m\u001b[0m\u001b[0m\n",
        "\u001b[1;32mC:\\Users\\David\\Anaconda\\lib\\site-packages\\mechanize\\_urllib2_fork.pyc\u001b[0m in \u001b[0;36m__getattr__\u001b[1;34m(self, attr)\u001b[0m\n\u001b[0;32m    171\u001b[0m                 \u001b[0mgetattr\u001b[0m\u001b[1;33m(\u001b[0m\u001b[0mself\u001b[0m\u001b[1;33m,\u001b[0m \u001b[1;34m'get_'\u001b[0m \u001b[1;33m+\u001b[0m \u001b[0mname\u001b[0m\u001b[1;33m)\u001b[0m\u001b[1;33m(\u001b[0m\u001b[1;33m)\u001b[0m\u001b[1;33m\u001b[0m\u001b[0m\n\u001b[0;32m    172\u001b[0m                 \u001b[1;32mreturn\u001b[0m \u001b[0mgetattr\u001b[0m\u001b[1;33m(\u001b[0m\u001b[0mself\u001b[0m\u001b[1;33m,\u001b[0m \u001b[0mattr\u001b[0m\u001b[1;33m)\u001b[0m\u001b[1;33m\u001b[0m\u001b[0m\n\u001b[1;32m--> 173\u001b[1;33m         \u001b[1;32mraise\u001b[0m \u001b[0mAttributeError\u001b[0m\u001b[1;33m,\u001b[0m \u001b[0mattr\u001b[0m\u001b[1;33m\u001b[0m\u001b[0m\n\u001b[0m\u001b[0;32m    174\u001b[0m \u001b[1;33m\u001b[0m\u001b[0m\n\u001b[0;32m    175\u001b[0m     \u001b[1;32mdef\u001b[0m \u001b[0mget_method\u001b[0m\u001b[1;33m(\u001b[0m\u001b[0mself\u001b[0m\u001b[1;33m)\u001b[0m\u001b[1;33m:\u001b[0m\u001b[1;33m\u001b[0m\u001b[0m\n",
        "\u001b[1;31mAttributeError\u001b[0m: read"
       ]
      }
     ],
     "prompt_number": 18
    },
    {
     "cell_type": "code",
     "collapsed": false,
     "input": [
      "for link in br.links():\n",
      "    print link.text"
     ],
     "language": "python",
     "metadata": {},
     "outputs": [
      {
       "output_type": "stream",
       "stream": "stdout",
       "text": [
        "Return to Joe-ks.com[IMG]\n",
        "Quote Puzzles\n",
        "2\n",
        "3\n",
        "4\n",
        "5\n",
        "6\n",
        "7\n",
        "8\n",
        "9\n",
        "10\n",
        "11\n",
        "[IMG]\n",
        "[IMG]\n",
        "2\n",
        "3\n",
        "4\n",
        "5\n",
        "6\n",
        "7\n",
        "8\n",
        "9\n",
        "10\n",
        "11\n",
        "[IMG]\n",
        "[IMG]\n",
        "Full list of credits[IMG]\n",
        "Facebook[IMG]\n",
        "Twitter[IMG]\n",
        "Digg[IMG]\n",
        "StumbleUpon[IMG]\n",
        "Delicious[IMG]\n",
        "Voted #1 Humor Site\n",
        "Does A Double Positive ...\n",
        "Overpass Passover\n",
        "Bridge Uplift\n",
        "Fence Sitter\n",
        "A Horse's Ass IS Import ...\n",
        "Word Search Puzzles\n",
        "Bacon Sandwich\n",
        "Braid Hair Pair\n",
        "Kickstarter Funding for ...\n",
        "Bike Trike\n",
        "Scottish Choices\n",
        "CloudZilla\n",
        "Giant Texas Red Centipe ...\n",
        "Bulge That All Women Lo ...\n",
        "National Husband Care P ...\n",
        "Duck Heist - Ducks Gone ...\n",
        "1957 Woolworth Menu\n",
        "New IRS Form\n",
        "Marzipan Babies\n",
        "Why Buy Expensive Toys?\n",
        "Cowboy's Gift From Reve ...\n",
        "Bear Surveillance\n",
        "Spring Is Just Around T ...\n",
        "Window Cleaning in New ...\n",
        "Addictive Mahjong\n",
        "Cancel Our Date\n",
        "Redneck Quotes\n",
        "Elastic Baby - Family S ...\n",
        "Mission Statement Gener ...\n",
        "Pickup Dropoff\n",
        "Phrases, Expressions & ...\n",
        "Spring Flowers\n",
        "Chicken, Fox & Grain Pu ...\n",
        "Phrases, Clich\u00e9s, Expr ...\n",
        "Autumn Tree\n",
        "Daffynitions\n",
        "Books Never Written\n",
        "Texting Abbreviations f ...\n",
        "How To Draw An Owl\n",
        "Redneck Ceiling Tiles\n",
        "Human Adaption\n",
        "Fish Bowl Costume\n",
        "Chin Up Exercise For Th ...\n",
        "Skeleton Opera\n",
        "Tattoo Fountain\n",
        "Supervised Motorcycle W ...\n",
        "Hot Air Oven\n",
        "Dinner Around The Corne ...\n",
        "Cartographer\n",
        "Tire-d Workers\n",
        "Fish Walker\n",
        "Always Enough TP\n",
        "Quote Puzzles\n"
       ]
      }
     ],
     "prompt_number": 14
    },
    {
     "cell_type": "code",
     "collapsed": false,
     "input": [
      "html"
     ],
     "language": "python",
     "metadata": {},
     "outputs": [
      {
       "metadata": {},
       "output_type": "pyout",
       "prompt_number": 15,
       "text": [
        "'<!DOCTYPE HTML PUBLIC \"-//W3C//DTD HTML 4.01 Transitional//EN\" \"http://www.w3.org/TR/html4/loose.dtd\">\\n<html>\\n<header>\\n<meta http-equiv=\"Content-Type\" content=\"text/html; charset=iso-8859-1\">\\n<meta name=\"description\" CONTENT=\"Ultimate source of inspirational quotes\">\\n<meta name=\"keywords\" CONTENT=\"Quotes, inspirations, inspirational quotes\">\\n\\n<link rel=\"shortcut icon\" href=\"http://...favicon.ico\" />\\n<link rel=\"stylesheet\" type=\"text/css\" href=\"http://www.joe-ks.com/joeksB.css\">\\n<link rel=\"stylesheet\" type=\"text/css\" href=\"/factsheets/libraries/css/factsheets.css\">\\n\\n<script type=\"text/javascript\" src=\"/bertcore/libraries/javascript/stdFunctions.js\"></script>\\n<script type=\"text/javascript\" src=\"/bertcore/libraries/javascript/stdFormFunctions.js\"></script>\\n\\n<script type=\"text/javascript\">\\n// factsheets Javascript Functions:\\n</script>\\n\\n\\n<title>Inspirational Quotes from joe-ks.com</title>\\n\\n<script type=\"text/javascript\" language=\"javascript\" src=\"/factsheets/libraries/javascript/factsheets.js\"></script>\\n\\n<script type=\"text/javascript\" language=\"javascript\">\\n// Page specific javascript functions:\\nfunction fnGoogleAdHorizontal() {\\n\\tgoogle_ad_client = \"ca-pub-2587246828426244\";\\n\\tgoogle_ad_slot = \"5510472400\";\\n\\tgoogle_ad_width = 728;\\n\\tgoogle_ad_height = 90;\\n}\\n</script>\\n\\n</header>\\n<body class=\"quotes\">\\n\\n<table align=center width=100% border=0>\\n   <tr>\\n      <td valign=\"top\" width=25%>\\n\\t<a href=\"http://www.joe-ks.com\" title=\"Return to Joe-ks.com - Largest Source of Internet Humour, eh!\">\\n\\t<img border=\"0\" src=\"/images/Eureka.gif\" alt=\"Return to Joe-ks.com\" /></a></td>\\n      <td valign=\"top\"><center>\\n         <span class=\"c47\"><strong>Inspirational Quotes&nbsp;&nbsp;&nbsp;(<span id=\"RecordCount\"></span>)</strong></span><br />\\n         <span class=\"c48\"><strong><em><span id=\"RandomQuote\"></span></em></strong></span><br />\\n<script type=\"text/javascript\">fnGoogleAdHorizontal();</script>\\n<script type=\"text/javascript\" src=\"http://pagead2.googlesyndication.com/pagead/show_ads.js\"></script>\\n      </td>\\n      <td align=\"left\" valign=\"top\" width=25%>&nbsp;</td>\\n   </tr>\\n</table>\\n\\n<table width=\"100%\" border=\"0\">\\n<tr><td>\\n<script type=\"text/javascript\" language=\"javascript\">\\nvar strDefaultSearchText = \"Enter search text here\"; \\nfunction fnSearchOnFocus(inItem) {\\n\\tif (inItem.value==strDefaultSearchText) {\\n\\t\\tinItem.value=\"\"; \\n\\t\\tinItem.style.color=\"#000\";\\n\\t}\\n}\\nfunction fnSearchOnBlur(inItem) {\\n\\tif (inItem.value==\"\") {\\n\\t\\tinItem.value=strDefaultSearchText; \\n\\t\\tinItem.style.color=\"#888\";\\n\\t}\\n}\\n</script>\\n\\n\\t<form name=\"FactsSearchForm\" method=\"post\"  action=\"/factsheets/inspirations.php\">\\n\\t<input type=\"hidden\" name=\"FactCategory\"    value=\"QUOTES\"></input>\\n\\t<input type=\"hidden\" name=\"FactType\"        value=\"Inspirationals\"></input>\\n\\t<input type=\"hidden\" name=\"PageNumber\"      value=\"1\"></input>\\n\\t<input type=\"hidden\" name=\"PageSearchAlpha\" value=\"\"></input>\\n\\t<input type=\"text\"   name=\"PageSearch\"      value=\"\" onChange=\"fnSearchChange(this);\" onFocus=\"fnSearchOnFocus(this);\" onBlur=\"fnSearchOnBlur(this);\" size=\"25\" maxlength=25></input>\\n\\n\\t<input type=\"submit\" name=\"PageSubmit\" value=\"Search\" onClick=\"fnSearchOnFocus(document.FactsSearchForm.PageSearch);\"></input>\\n\\t<input type=\"submit\" name=\"PageReset\"  value=\"Full List\" onClick=\"fnClearForm(this.form);\"></input>\\n\\n\\t<select name=\"PageOrder\" onChange=\"fnSearchChange(this);fnFactsSubmitForm(1);\">\\n\\t<option value=\"\" selected>Sort by newest</option>\\n\\t<option value=\"A\" >Sort by author</option>\\n\\t<option value=\"S\" >Sort by size</option>\\n\\t</select>\\n\\n\\t</form>\\n\\n<script type=\"text/javascript\" language=\"javascript\">\\n\\tif (document.FactsSearchForm.PageSearch.value==\"\" || document.FactsSearchForm.PageSearch.value==strDefaultSearchText) {\\n\\t\\tdocument.FactsSearchForm.PageSearch.value=strDefaultSearchText;\\n\\t\\tdocument.FactsSearchForm.PageSearch.style.color=\"#888\";\\n\\t}\\n</script>\\n\\n</td><td class=\"quotes\" align=\"center\">\\n     <a href=\"http://www.quotepuzzle.com\" target=\"_blank\" title=\"Solve these Quote puzzles\">Quote Puzzles</a>\\n     </td>\\n</tr></table>\\n<script type=\"text/javascript\" language=\"javascript\">\\nvar objCount = document.getElementById(\"RecordCount\");\\n\\n\\tdocument.FactsSearchForm.PageSubmit.value=\"Search - Inspirational Quotes\";\\n\\tobjCount.innerHTML = \"6,762\";\\n</script>\\n\\n\\t<table width=\"100%\" border=\"0\">\\n\\t<tr>\\n\\t\\t<td valign=top >\\n\\t\\t\\t<table class=\"facts\" width=\"100%\" border=\"0\" cellspacing=0 cellpadding=0>\\n\\t\\t\\t<thead>\\n<tr>\\n<td width=\"5%\"  class=\"navigation\" style=\"text-align:center;\"><img src=\"/factsheets/images/blanknav.png\" border=0></img></td>\\n<td width=\"5%\"  class=\"navigation\" style=\"text-align:center;\"><img src=\"/factsheets/images/blanknav.png\" border=0></img></td>\\n<td width=\"\"    class=\"navigation\" style=\"text-align:center;\">&nbsp;&nbsp;<img src=\"/factsheets/images/blanknav.png\" border=0></img>&nbsp;&nbsp;<b>1</b>&nbsp;&nbsp;<a class=\"navigation\" href=\"#\" title=\"Jump to page 2\" onclick=\"fnFactsSubmitForm(\\'2\\');\">2</a>&nbsp;&nbsp;\\n&nbsp;&nbsp;<a class=\"navigation\" href=\"#\" title=\"Jump to page 3\" onclick=\"fnFactsSubmitForm(\\'3\\');\">3</a>&nbsp;&nbsp;\\n&nbsp;&nbsp;<a class=\"navigation\" href=\"#\" title=\"Jump to page 4\" onclick=\"fnFactsSubmitForm(\\'4\\');\">4</a>&nbsp;&nbsp;\\n&nbsp;&nbsp;<a class=\"navigation\" href=\"#\" title=\"Jump to page 5\" onclick=\"fnFactsSubmitForm(\\'5\\');\">5</a>&nbsp;&nbsp;\\n&nbsp;&nbsp;<a class=\"navigation\" href=\"#\" title=\"Jump to page 6\" onclick=\"fnFactsSubmitForm(\\'6\\');\">6</a>&nbsp;&nbsp;\\n&nbsp;&nbsp;<a class=\"navigation\" href=\"#\" title=\"Jump to page 7\" onclick=\"fnFactsSubmitForm(\\'7\\');\">7</a>&nbsp;&nbsp;\\n&nbsp;&nbsp;<a class=\"navigation\" href=\"#\" title=\"Jump to page 8\" onclick=\"fnFactsSubmitForm(\\'8\\');\">8</a>&nbsp;&nbsp;\\n&nbsp;&nbsp;<a class=\"navigation\" href=\"#\" title=\"Jump to page 9\" onclick=\"fnFactsSubmitForm(\\'9\\');\">9</a>&nbsp;&nbsp;\\n&nbsp;&nbsp;<a class=\"navigation\" href=\"#\" title=\"Jump to page 10\" onclick=\"fnFactsSubmitForm(\\'10\\');\">10</a>&nbsp;&nbsp;\\n&nbsp;&nbsp;<a class=\"navigation\" href=\"#\" title=\"Jump to page 11\" onclick=\"fnFactsSubmitForm(\\'11\\');\">11</a>&nbsp;&nbsp;\\n&nbsp;&nbsp;<img src=\"/factsheets/images/dot3.png\" border=0></img>&nbsp;&nbsp;</td>\\n<td width=\"5%\"  class=\"navigation\" style=\"text-align:center;\"><a class=\"navigation\" href=\"#\" title=\"Next Page\" onclick=\"fnFactsSubmitForm(2);\"><img src=\"/factsheets/images/nextpage.png\" border=0 </img></a></td>\\n<td width=\"5%\"  class=\"navigation\" style=\"text-align:center;\"><a class=\"navigation\" href=\"#\" title=\"Last Page\" onclick=\"fnFactsSubmitForm(136);\"><img src=\"/factsheets/images/last.png\" border=0 </img></a></td>\\n<td width=\"15%\" class=\"navigation\" style=\"text-align:right;\">Page: 1 of 136</td>\\n</tr>\\n\\t\\t\\t</thead>\\n\\t\\t\\t<tbody>\\n<tr>\\n<td colspan=\"6\" class=\"quotes\"><a name=\"17048\"></a><center>Wolves and lambs can enjoy no meeting of the minds.<br><i><font color=\"blue\">Achilles</font></i></center></td></tr>\\n<tr>\\n<td colspan=\"6\" class=\"action\"><center>&nbsp;</center></td>\\n</tr>\\n<tr>\\n<td colspan=\"6\" class=\"quotes\"><a name=\"17046\"></a><center>The amount of sleep required by the average person is five minutes more.<br><i><font color=\"blue\">Wilson Mizner</font></i></center></td></tr>\\n<tr>\\n<td colspan=\"6\" class=\"action\"><center>&nbsp;</center></td>\\n</tr>\\n<tr>\\n<td colspan=\"6\" class=\"quotes\"><a name=\"17045\"></a><center>Fiction writing is great, you can make up almost anything.<br><i><font color=\"blue\">Ivana Trump</font></i></center></td></tr>\\n<tr>\\n<td colspan=\"6\" class=\"action\"><center>&nbsp;</center></td>\\n</tr>\\n<tr>\\n<td colspan=\"6\" class=\"quotes\"><a name=\"17044\"></a><center>Isn&#39;t it wonderful to be here in the great state of Chicago.<br><i><font color=\"blue\">Dan Quayle</font></i></center></td></tr>\\n<tr>\\n<td colspan=\"6\" class=\"action\"><center>&nbsp;</center></td>\\n</tr>\\n<tr>\\n<td colspan=\"6\" class=\"quotes\"><a name=\"17043\"></a><center>Radio has no future.<br><i><font color=\"blue\">Lord Kelvin</font></i><br><font size=\"-1\"><i>British mathematician and physicist, 1897</i></font></center></td></tr>\\n<tr>\\n<td colspan=\"6\" class=\"action\"><center>&nbsp;</center></td>\\n</tr>\\n<tr>\\n<td colspan=\"6\" class=\"quotes\"><a name=\"17042\"></a><center>When turkeys mate they think of swans.<br><i><font color=\"blue\">Johnny Carson</font></i></center></td></tr>\\n<tr>\\n<td colspan=\"6\" class=\"action\"><center>&nbsp;</center></td>\\n</tr>\\n<tr>\\n<td colspan=\"6\" class=\"quotes\"><a name=\"17041\"></a><center>I love a dog. He does nothing for political reasons.<br><i><font color=\"blue\">Will Rogers</font></i></center></td></tr>\\n<tr>\\n<td colspan=\"6\" class=\"action\"><center>&nbsp;</center></td>\\n</tr>\\n<tr>\\n<td colspan=\"6\" class=\"quotes\"><a name=\"17040\"></a><center>I came from a big family. As a matter of fact, I never got to sleep alone until I was married.<br><i><font color=\"blue\">Lewis Grizzard</font></i></center></td></tr>\\n<tr>\\n<td colspan=\"6\" class=\"action\"><center>&nbsp;</center></td>\\n</tr>\\n<tr>\\n<td colspan=\"6\" class=\"quotes\"><a name=\"17039\"></a><center>Marriage halves our griefs, doubles our joys, and quadruples our expenses.<br><i><font color=\"blue\">G.K. Chesterton</font></i></center></td></tr>\\n<tr>\\n<td colspan=\"6\" class=\"action\"><center>&nbsp;</center></td>\\n</tr>\\n<tr>\\n<td colspan=\"6\" class=\"quotes\"><a name=\"17038\"></a><center>If his IQ slips any lower, we&#39;ll have to water him twice a day.<br><i><font color=\"blue\">Molly Ivins</font></i><br><font size=\"-1\"><i>of a local congressman</i></font></center></td></tr>\\n<tr>\\n<td colspan=\"6\" class=\"action\"><center>&nbsp;</center></td>\\n</tr>\\n<tr>\\n<td colspan=\"6\" class=\"quotes\"><a name=\"17037\"></a><center>The search for happiness is one of the chief sources of unhappiness.<br><i><font color=\"blue\">Eric Hoffer</font></i></center></td></tr>\\n<tr>\\n<td colspan=\"6\" class=\"action\"><center>&nbsp;</center></td>\\n</tr>\\n<tr>\\n<td colspan=\"6\" class=\"quotes\"><a name=\"17036\"></a><center>No Englishman is ever fairly beaten.<br><i><font color=\"blue\">George Bernard Shaw</font></i><br><font size=\"-1\"><i>St. Joan</i></font></center></td></tr>\\n<tr>\\n<td colspan=\"6\" class=\"action\"><center>&nbsp;</center></td>\\n</tr>\\n<tr>\\n<td colspan=\"6\" class=\"quotes\"><a name=\"17035\"></a><center>Modern rugby players like to get their retaliation in first.<br><i><font color=\"blue\">Kim Fletcher</font></i></center></td></tr>\\n<tr>\\n<td colspan=\"6\" class=\"action\"><center>&nbsp;</center></td>\\n</tr>\\n<tr>\\n<td colspan=\"6\" class=\"quotes\"><a name=\"17034\"></a><center>I have made it a rule never to smoke more than one cigar at a time.<br><i><font color=\"blue\">Mark Twain</font></i></center></td></tr>\\n<tr>\\n<td colspan=\"6\" class=\"action\"><center>&nbsp;</center></td>\\n</tr>\\n<tr>\\n<td colspan=\"6\" class=\"quotes\"><a name=\"17033\"></a><center>A computer once beat me at chess, but it was no match for me at kick boxing.<br><i><font color=\"blue\">Emo Philips</font></i></center></td></tr>\\n<tr>\\n<td colspan=\"6\" class=\"action\"><center>&nbsp;</center></td>\\n</tr>\\n<tr>\\n<td colspan=\"6\" class=\"quotes\"><a name=\"17032\"></a><center>Never send a human to do a machine&#39;s job.<br><i><font color=\"blue\">Hugo Weaving</font></i><br><font size=\"-1\"><i>as Agent Smith in The Matrix</i></font></center></td></tr>\\n<tr>\\n<td colspan=\"6\" class=\"action\"><center>&nbsp;</center></td>\\n</tr>\\n<tr>\\n<td colspan=\"6\" class=\"quotes\"><a name=\"17031\"></a><center>Has anyone noticed that in heaven all the interesting men are missing?<br><i><font color=\"blue\">Friedrich Nietzsche</font></i></center></td></tr>\\n<tr>\\n<td colspan=\"6\" class=\"action\"><center>&nbsp;</center></td>\\n</tr>\\n<tr>\\n<td colspan=\"6\" class=\"quotes\"><a name=\"17030\"></a><center>I do benefits for all religions - I&#39;d hate to blow the hereafter on a technicality.<br><i><font color=\"blue\">Bob Hope</font></i></center></td></tr>\\n<tr>\\n<td colspan=\"6\" class=\"action\"><center>&nbsp;</center></td>\\n</tr>\\n<tr>\\n<td colspan=\"6\" class=\"quotes\"><a name=\"17029\"></a><center>Things are never so bad they can&#39;t be made worse.<br><i><font color=\"blue\">Humphrey Bogart</font></i></center></td></tr>\\n<tr>\\n<td colspan=\"6\" class=\"action\"><center>&nbsp;</center></td>\\n</tr>\\n<tr>\\n<td colspan=\"6\" class=\"quotes\"><a name=\"17028\"></a><center>A banker is a fellow who lends you his umbrella when the sun is shining and wants it back the minute it begins to rain.<br><i><font color=\"blue\">Mark Twain</font></i></center></td></tr>\\n<tr>\\n<td colspan=\"6\" class=\"action\"><center>&nbsp;</center></td>\\n</tr>\\n<tr>\\n<td colspan=\"6\" class=\"quotes\"><a name=\"17027\"></a><center>He&#39;s the kind of man a woman would have to marry to get rid of.<br><i><font color=\"blue\">Mae West</font></i></center></td></tr>\\n<tr>\\n<td colspan=\"6\" class=\"action\"><center>&nbsp;</center></td>\\n</tr>\\n<tr>\\n<td colspan=\"6\" class=\"quotes\"><a name=\"17026\"></a><center>A girl must marry for love, and keep on marrying until she finds it.<br><i><font color=\"blue\">Zsa Zsa Gabor</font></i></center></td></tr>\\n<tr>\\n<td colspan=\"6\" class=\"action\"><center>&nbsp;</center></td>\\n</tr>\\n<tr>\\n<td colspan=\"6\" class=\"quotes\"><a name=\"17025\"></a><center>Let&#39;s meet as little as we can.<br><i><font color=\"blue\">William Shakespeare</font></i><br><font size=\"-1\"><i>As You Like It</i></font></center></td></tr>\\n<tr>\\n<td colspan=\"6\" class=\"action\"><center>&nbsp;</center></td>\\n</tr>\\n<tr>\\n<td colspan=\"6\" class=\"quotes\"><a name=\"17024\"></a><center>Love your enemy. But don&#39;t forget he is not your friend.<br><i><font color=\"blue\">Paulo Coelho</font></i></center></td></tr>\\n<tr>\\n<td colspan=\"6\" class=\"action\"><center>&nbsp;</center></td>\\n</tr>\\n<tr>\\n<td colspan=\"6\" class=\"quotes\"><a name=\"17023\"></a><center>A friend can tell you things you don&#39;t want to tell yourself.<br><i><font color=\"blue\">Frances Weller</font></i><br><font size=\"-1\"><i>Boat Song</i></font></center></td></tr>\\n<tr>\\n<td colspan=\"6\" class=\"action\"><center>&nbsp;</center></td>\\n</tr>\\n<tr>\\n<td colspan=\"6\" class=\"quotes\"><a name=\"17022\"></a><center>Beulah, peel me a grape.<br><i><font color=\"blue\">Mae West</font></i><br><font size=\"-1\"><i>I&#39;m No Angel</i></font></center></td></tr>\\n<tr>\\n<td colspan=\"6\" class=\"action\"><center>&nbsp;</center></td>\\n</tr>\\n<tr>\\n<td colspan=\"6\" class=\"quotes\"><a name=\"17021\"></a><center>Everything you see I owe to spaghetti.<br><i><font color=\"blue\">Sophia Loren</font></i></center></td></tr>\\n<tr>\\n<td colspan=\"6\" class=\"action\"><center>&nbsp;</center></td>\\n</tr>\\n<tr>\\n<td colspan=\"6\" class=\"quotes\"><a name=\"17020\"></a><center>He was a bold man that first did eat an oyster.<br><i><font color=\"blue\">Jonathan Swift</font></i></center></td></tr>\\n<tr>\\n<td colspan=\"6\" class=\"action\"><center>&nbsp;</center></td>\\n</tr>\\n<tr>\\n<td colspan=\"6\" class=\"quotes\"><a name=\"17019\"></a><center>The English never draw a line without blurring it.<br><i><font color=\"blue\">Winston Churchill</font></i></center></td></tr>\\n<tr>\\n<td colspan=\"6\" class=\"action\"><center>&nbsp;</center></td>\\n</tr>\\n<tr>\\n<td colspan=\"6\" class=\"quotes\"><a name=\"17018\"></a><center>I don&#39;t have to look up my family tree, because I know that I&#39;m the sap.<br><i><font color=\"blue\">Fred Allen</font></i></center></td></tr>\\n<tr>\\n<td colspan=\"6\" class=\"action\"><center>&nbsp;</center></td>\\n</tr>\\n<tr>\\n<td colspan=\"6\" class=\"quotes\"><a name=\"17017\"></a><center>I speak two languages, English and Body.<br><i><font color=\"blue\">Mae West</font></i></center></td></tr>\\n<tr>\\n<td colspan=\"6\" class=\"action\"><center>&nbsp;</center></td>\\n</tr>\\n<tr>\\n<td colspan=\"6\" class=\"quotes\"><a name=\"17016\"></a><center>One can survive everything nowadays, except death.<br><i><font color=\"blue\">Oscar Wilde</font></i><br><font size=\"-1\"><i>A Woman of No Importance</i></font></center></td></tr>\\n<tr>\\n<td colspan=\"6\" class=\"action\"><center>&nbsp;</center></td>\\n</tr>\\n<tr>\\n<td colspan=\"6\" class=\"quotes\"><a name=\"17015\"></a><center>Children really brighten up a household. They never turn the lights off.<br><i><font color=\"blue\">Ralph Bus</font></i></center></td></tr>\\n<tr>\\n<td colspan=\"6\" class=\"action\"><center>&nbsp;</center></td>\\n</tr>\\n<tr>\\n<td colspan=\"6\" class=\"quotes\"><a name=\"17014\"></a><center>Hiring someone to write your autobiography is like hiring someone to take a bath for you.<br><i><font color=\"blue\">Mae West</font></i></center></td></tr>\\n<tr>\\n<td colspan=\"6\" class=\"action\"><center>&nbsp;</center></td>\\n</tr>\\n<tr>\\n<td colspan=\"6\" class=\"quotes\"><a name=\"17013\"></a><center>Parents should leave books lying around marked &quot;forbidden&quot; if they want their children to read.<br><i><font color=\"blue\">Doris Lessing</font></i></center></td></tr>\\n<tr>\\n<td colspan=\"6\" class=\"action\"><center>&nbsp;</center></td>\\n</tr>\\n<tr>\\n<td colspan=\"6\" class=\"quotes\"><a name=\"17012\"></a><center>Art is making something out of nothing and selling it.<br><i><font color=\"blue\">Frank Zappa</font></i></center></td></tr>\\n<tr>\\n<td colspan=\"6\" class=\"action\"><center>&nbsp;</center></td>\\n</tr>\\n<tr>\\n<td colspan=\"6\" class=\"quotes\"><a name=\"17011\"></a><center>One should either be a work of art, or wear a work of art.<br><i><font color=\"blue\">Oscar Wilde</font></i></center></td></tr>\\n<tr>\\n<td colspan=\"6\" class=\"action\"><center>&nbsp;</center></td>\\n</tr>\\n<tr>\\n<td colspan=\"6\" class=\"quotes\"><a name=\"17010\"></a><center>My favorite animal is steak.<br><i><font color=\"blue\">Fran Lebowitz</font></i></center></td></tr>\\n<tr>\\n<td colspan=\"6\" class=\"action\"><center>&nbsp;</center></td>\\n</tr>\\n<tr>\\n<td colspan=\"6\" class=\"quotes\"><a name=\"17009\"></a><center>If one tells the truth, one is sure, sooner or later, to be found out.<br><i><font color=\"blue\">Oscar Wilde</font></i></center></td></tr>\\n<tr>\\n<td colspan=\"6\" class=\"action\"><center>&nbsp;</center></td>\\n</tr>\\n<tr>\\n<td colspan=\"6\" class=\"quotes\"><a name=\"17008\"></a><center>The more I practice, the luckier I get.<br><i><font color=\"blue\">Gary Player</font></i></center></td></tr>\\n<tr>\\n<td colspan=\"6\" class=\"action\"><center>&nbsp;</center></td>\\n</tr>\\n<tr>\\n<td colspan=\"6\" class=\"quotes\"><a name=\"17007\"></a><center>Politicians are the same all over. They promise to build a bridge even where there is no river.<br><i><font color=\"blue\">Nikita Khrushchev</font></i></center></td></tr>\\n<tr>\\n<td colspan=\"6\" class=\"action\"><center>&nbsp;</center></td>\\n</tr>\\n<tr>\\n<td colspan=\"6\" class=\"quotes\"><a name=\"17006\"></a><center>No nice men are good at getting taxis.<br><i><font color=\"blue\">Katharine Whitehorn</font></i></center></td></tr>\\n<tr>\\n<td colspan=\"6\" class=\"action\"><center>&nbsp;</center></td>\\n</tr>\\n<tr>\\n<td colspan=\"6\" class=\"quotes\"><a name=\"17005\"></a><center>Life is like an onion; you peel it off one layer at a time, and sometimes you weep.<br><i><font color=\"blue\">Carl Sandburg</font></i></center></td></tr>\\n<tr>\\n<td colspan=\"6\" class=\"action\"><center>&nbsp;</center></td>\\n</tr>\\n<tr>\\n<td colspan=\"6\" class=\"quotes\"><a name=\"17004\"></a><center>He has a brain like Einstein&#39;s - dead since 1955.<br><i><font color=\"blue\">Gene Perret</font></i></center></td></tr>\\n<tr>\\n<td colspan=\"6\" class=\"action\"><center>&nbsp;</center></td>\\n</tr>\\n<tr>\\n<td colspan=\"6\" class=\"quotes\"><a name=\"17003\"></a><center>From each according to his ability, to each according to his work<br><i><font color=\"blue\">Claude de Rouvroy</font></i></center></td></tr>\\n<tr>\\n<td colspan=\"6\" class=\"action\"><center>&nbsp;</center></td>\\n</tr>\\n<tr>\\n<td colspan=\"6\" class=\"quotes\"><a name=\"16979\"></a><center>Cricket is basically baseball on valium.<br><i><font color=\"blue\">Robin Williams</font></i></center></td></tr>\\n<tr>\\n<td colspan=\"6\" class=\"action\"><center>&nbsp;</center></td>\\n</tr>\\n<tr>\\n<td colspan=\"6\" class=\"quotes\"><a name=\"16978\"></a><center>Bride: A woman with a fine prospect of happiness behind her.<br><i><font color=\"blue\">Ambrose Bierce</font></i></center></td></tr>\\n<tr>\\n<td colspan=\"6\" class=\"action\"><center>&nbsp;</center></td>\\n</tr>\\n<tr>\\n<td colspan=\"6\" class=\"quotes\"><a name=\"16977\"></a><center>My children refuse to eat anything that hasn&#39;t danced on television.<br><i><font color=\"blue\">Erma Bombeck</font></i></center></td></tr>\\n<tr>\\n<td colspan=\"6\" class=\"action\"><center>&nbsp;</center></td>\\n</tr>\\n<tr>\\n<td colspan=\"6\" class=\"quotes\"><a name=\"16976\"></a><center>Americans will put up with anything provided it doesn&#39;t block traffic.<br><i><font color=\"blue\">Dan Rather</font></i></center></td></tr>\\n<tr>\\n<td colspan=\"6\" class=\"action\"><center>&nbsp;</center></td>\\n</tr>\\n<tr>\\n<td colspan=\"6\" class=\"quotes\"><a name=\"16975\"></a><center>My bottom is so big it&#39;s got its own gravitational field.<br><i><font color=\"blue\">Carol Vorderman</font></i></center></td></tr>\\n<tr>\\n<td colspan=\"6\" class=\"action\"><center>&nbsp;</center></td>\\n</tr>\\n\\t\\t\\t</tbody>\\n\\t\\t\\t<tfoot>\\n<tr>\\n<td width=\"5%\"  class=\"navigation\" style=\"text-align:center;\"><img src=\"/factsheets/images/blanknav.png\" border=0></img></td>\\n<td width=\"5%\"  class=\"navigation\" style=\"text-align:center;\"><img src=\"/factsheets/images/blanknav.png\" border=0></img></td>\\n<td width=\"\"    class=\"navigation\" style=\"text-align:center;\">&nbsp;&nbsp;<img src=\"/factsheets/images/blanknav.png\" border=0></img>&nbsp;&nbsp;<b>1</b>&nbsp;&nbsp;<a class=\"navigation\" href=\"#\" title=\"Jump to page 2\" onclick=\"fnFactsSubmitForm(\\'2\\');\">2</a>&nbsp;&nbsp;\\n&nbsp;&nbsp;<a class=\"navigation\" href=\"#\" title=\"Jump to page 3\" onclick=\"fnFactsSubmitForm(\\'3\\');\">3</a>&nbsp;&nbsp;\\n&nbsp;&nbsp;<a class=\"navigation\" href=\"#\" title=\"Jump to page 4\" onclick=\"fnFactsSubmitForm(\\'4\\');\">4</a>&nbsp;&nbsp;\\n&nbsp;&nbsp;<a class=\"navigation\" href=\"#\" title=\"Jump to page 5\" onclick=\"fnFactsSubmitForm(\\'5\\');\">5</a>&nbsp;&nbsp;\\n&nbsp;&nbsp;<a class=\"navigation\" href=\"#\" title=\"Jump to page 6\" onclick=\"fnFactsSubmitForm(\\'6\\');\">6</a>&nbsp;&nbsp;\\n&nbsp;&nbsp;<a class=\"navigation\" href=\"#\" title=\"Jump to page 7\" onclick=\"fnFactsSubmitForm(\\'7\\');\">7</a>&nbsp;&nbsp;\\n&nbsp;&nbsp;<a class=\"navigation\" href=\"#\" title=\"Jump to page 8\" onclick=\"fnFactsSubmitForm(\\'8\\');\">8</a>&nbsp;&nbsp;\\n&nbsp;&nbsp;<a class=\"navigation\" href=\"#\" title=\"Jump to page 9\" onclick=\"fnFactsSubmitForm(\\'9\\');\">9</a>&nbsp;&nbsp;\\n&nbsp;&nbsp;<a class=\"navigation\" href=\"#\" title=\"Jump to page 10\" onclick=\"fnFactsSubmitForm(\\'10\\');\">10</a>&nbsp;&nbsp;\\n&nbsp;&nbsp;<a class=\"navigation\" href=\"#\" title=\"Jump to page 11\" onclick=\"fnFactsSubmitForm(\\'11\\');\">11</a>&nbsp;&nbsp;\\n&nbsp;&nbsp;<img src=\"/factsheets/images/dot3.png\" border=0></img>&nbsp;&nbsp;</td>\\n<td width=\"5%\"  class=\"navigation\" style=\"text-align:center;\"><a class=\"navigation\" href=\"#\" title=\"Next Page\" onclick=\"fnFactsSubmitForm(2);\"><img src=\"/factsheets/images/nextpage.png\" border=0 </img></a></td>\\n<td width=\"5%\"  class=\"navigation\" style=\"text-align:center;\"><a class=\"navigation\" href=\"#\" title=\"Last Page\" onclick=\"fnFactsSubmitForm(136);\"><img src=\"/factsheets/images/last.png\" border=0 </img></a></td>\\n<td width=\"15%\" class=\"navigation\" style=\"text-align:right;\">Page: 1 of 136</td>\\n</tr>\\n\\t\\t\\t\\t<tr><td class=\"navigation\" colspan=\"6\">Quotes on this page: 50</td></tr>\\n\\t\\t\\t</tfoot>\\n\\t\\t\\t</table>\\n\\t\\t</td>\\n\\t\\t<td style=\"width:290px;\" valign=\"top\"><center>\\n<!--google_ad_section_start(weight=ignore)-->\\n<center><a title=\"Full list of credits\" target=\"_blank\" href=\"/credits.htm\"><img alt=\"Full list of credits\" hspace=\"2\" vspace=\"2\" src=\"/icon/credits.png\" onmouseover=\" this.src=\\'/icon/credits_hover.png\\'\" onmouseout=\" this.src=\\'/icon/credits.png\\'\" \\nstyle=\"cursor:pointer;\" /></a><a title=\"Share this on Facebook\" target=\"_blank\" href=\"http://www.facebook.com/sharer.php?u=http://joe-ks.com/factsheets/inspirations.php\"><img alt=\"Facebook\" hspace=\"2\" vspace=\"2\" src=\"/icon/facebook.png\" /></a><a title=\"Tweet this on Twitter\" target=\"_blank\" href=\"http://twitter.com/home?status=Here%27s+something+funny%3A+http://joe-ks.com/factsheets/inspirations.php\"><img alt=\"Twitter\" hspace=\"2\" vspace=\"2\" src=\"/icon/twitter.png\" /></a><a title=\"Share this on Digg\" target=\"_blank\" href=\"http://digg.com/submit?url=http://joe-ks.com/factsheets/inspirations.php\"><img alt=\"Digg\" hspace=\"2\" vspace=\"2\" src=\"/icon/digg.png\" /></a><a title=\"Share this on StumbleUpon\" target=\"_blank\" href=\"http://www.stumbleupon.com/submit?url=http://joe-ks.com/factsheets/inspirations.php\"><img alt=\"StumbleUpon\" hspace=\"2\" vspace=\"2\" src=\"/icon/stumbleupon.png\" /></a><a title=\"Share this on Delicious\" target=\"_blank\" href=\"http://del.icio.us/post?url=http://joe-ks.com/factsheets/inspirations.php\"><img alt=\"Delicious\" hspace=\"2\" vspace=\"2\" src=\"/icon/delicious.png\" /></a>\\n\\t<div id=\"fb-root\"></div>\\n\\t<script>(function(d, s, id) {\\n\\t  var js, fjs = d.getElementsByTagName(s)[0];\\n\\t  if (d.getElementById(id)) return;\\n\\t  js = d.createElement(s); js.id = id;\\n\\t  js.src = \"//connect.facebook.net/en_US/all.js#xfbml=1&appId=384088971601528\";\\n\\t  fjs.parentNode.insertBefore(js, fjs);\\n\\t}(document, \\'script\\', \\'facebook-jssdk\\'));</script>\\n\\t\\n\\t<div class=\"fb-like-box\" data-href=\"http://www.facebook.com/pages/joe-kscom/157110261075810\" data-width=\"175\" data-height=\"80\" data-show-faces=\"false\" data-stream=\"false\" data-header=\"false\" style=\"width:175px; height:80px;\"></div>\\n\\n\\n<br /><a target=\"_blank\" title=\"Voted #1 Humor Site for 2011 by About.com (New York Times)\" href=\"http://websearch.about.com/od/2011-readers-choice-awards/ss/2011-About-Web-Search-Readers-Choice-Awards-The-Winners_8.htm\">Voted #1 Humor Site</a><br />\\n\\n\\t<table style=\"width:auto;margin-top:5px;padding-top:5px;padding-bottom:5px;border-spacing:0px;\" cellpadding=\"0\" cellspacing=\"0\" align=\"center\">\\n    <tr>\\n      <td colspan=\"1\" align=\"left\"><h3 style=\"font-family: Geneva, Arial, Helvetica, sans-serif;text-align:center; font-size: 22px; margin: 0px;\">04-Sep-2014</h3></td>\\n    </tr>\\n\\t<tr>\\n<td style=\"vertical-align:top; text-align:center; width:180px\"><script type=\"text/javascript\"><!--\\n\\t\\tgoogle_ad_client = \"pub-2587246828426244\";\\n\\t\\t/* Joeks left-menu */\\n\\t\\tgoogle_ad_slot = \"4578956032\";\\n\\t\\tgoogle_ad_width = 160;\\n\\t\\tgoogle_ad_height = 600;\\n\\t\\t-->\\n\\t\\t</script>\\n\\t\\t<script type=\"text/javascript\"\\n\\t\\tsrc=\"http://pagead2.googlesyndication.com/pagead/show_ads.js\">\\n\\t\\t</script><span style=\"display:block; padding-bottom:5px; padding-top:10px\"><img src=\"/phpscripts/qr-codes/385719ceab058af5b8cd67714eeb328a.png\" border=\"0\" alt=\"QR Code\" title=\"Scan this QR Code with your mobile phone or iPad and send this page\\'s URL to a friend!\"/></span></td><tr><td style=\"vertical-align:top\"><table style=\"width: 180px; text-align:left; border-spacing:0px; padding:0px;\" cellpadding=\"0\" cellspacing=\"0\"><tr><td style=\"padding:0px; margin:0px; height:19px;\"><h4 style=\"margin:0px; font-size:16px; margin-left: 7px; margin-bottom: 5px; font-family: Geneva, Arial, Helvetica, sans-serif; text-align:center\">Newest</h4></td></tr><tr><td style=\"padding:0px; margin:0px; height:19px\"><a style=\"color:#0033FF;font-family:arial,sans-serif;font-size:12px; margin-left: 8px;\" href=\"/archives/Double_Positive.htm\">Does A Double Positive  ...</a></td></tr>\\n<tr><td style=\"padding:0px; margin:0px; height:19px\"><a style=\"color:#0033FF;font-family:arial,sans-serif;font-size:12px; margin-left: 8px;\" href=\"/archives_jul2006/Overpass_Passover.htm\">Overpass Passover</a></td></tr>\\n<tr><td style=\"padding:0px; margin:0px; height:19px\"><a style=\"color:#0033FF;font-family:arial,sans-serif;font-size:12px; margin-left: 8px;\" href=\"/archives_sep2014/BridgeUplift.htm\">Bridge Uplift</a></td></tr>\\n<tr><td style=\"padding:0px; margin:0px; height:19px\"><a style=\"color:#0033FF;font-family:arial,sans-serif;font-size:12px; margin-left: 8px;\" href=\"/archives_aug2003/FenceSitter.htm\">Fence Sitter</a></td></tr>\\n<tr><td style=\"padding:0px; margin:0px; height:19px\"><a style=\"color:#0033FF;font-family:arial,sans-serif;font-size:12px; margin-left: 8px;\" href=\"/archives_mar2005/Horses_Ass.htm\">A Horse\\'s Ass IS Import ...</a></td></tr>\\n<tr><td style=\"padding:0px; margin:0px; height:19px\"><a style=\"color:#0033FF;font-family:arial,sans-serif;font-size:12px; margin-left: 8px;\" href=\"/WordSearch/WordSearchPuzzles.php\">Word Search Puzzles</a></td></tr>\\n<tr><td style=\"padding:0px; margin:0px; height:19px\"><a style=\"color:#0033FF;font-family:arial,sans-serif;font-size:12px; margin-left: 8px;\" href=\"/archives_sep2014/BaconSandwich.htm\">Bacon Sandwich</a></td></tr>\\n<tr><td style=\"padding:0px; margin:0px; height:19px\"><a style=\"color:#0033FF;font-family:arial,sans-serif;font-size:12px; margin-left: 8px;\" href=\"/archives_nov2007/BraidHairPair.htm\">Braid Hair Pair</a></td></tr>\\n<tr><td style=\"padding:0px; margin:0px; height:19px\"><a style=\"color:#0033FF;font-family:arial,sans-serif;font-size:12px; margin-left: 8px;\" href=\"/archives_sep2014/SteveDelamar_KickstarterProject.html\">Kickstarter Funding for ...</a></td></tr>\\n<tr><td style=\"padding:0px; margin:0px; height:19px\"><a style=\"color:#0033FF;font-family:arial,sans-serif;font-size:12px; margin-left: 8px;\" href=\"/archives_aug2006/BikeTrike.htm\">Bike Trike</a></td></tr>\\n<tr><td style=\"padding:0px; margin:0px; height:19px\"><a style=\"color:#0033FF;font-family:arial,sans-serif;font-size:12px; margin-left: 8px;\" href=\"/archives_jul2012/ScottishChoices.htm\">Scottish Choices</a></td></tr>\\n<tr><td style=\"padding:0px; margin:0px; height:19px\"><a style=\"color:#0033FF;font-family:arial,sans-serif;font-size:12px; margin-left: 8px;\" href=\"/archives_sep2014/CloudZilla.htm\">CloudZilla</a></td></tr>\\n<tr><td style=\"padding:0px; margin:0px; height:19px\"><a style=\"color:#0033FF;font-family:arial,sans-serif;font-size:12px; margin-left: 8px;\" href=\"/archives_sep2012/GiantTexasRedCentipede.htm\">Giant Texas Red Centipe ...</a></td></tr>\\n</table></td></tr><tr><td style=\"vertical-align:top\"><table style=\"width: 180px; text-align:left; border-spacing:0px; padding:0px;\" cellpadding=\"0\" cellspacing=\"0\"><tr><td style=\"padding:0px; margin:0px; height:19px;\"><h4 style=\"margin:0px; font-size:16px; margin-left: 7px; margin-bottom: 5px; font-family: Geneva, Arial, Helvetica, sans-serif; text-align:center\">G\\'Oldies</h4></td></tr><tr><td style=\"padding:0px; margin:0px; height:19px\"><a style=\"color:#0033FF;font-family:arial,sans-serif;font-size:12px; margin-left: 8px;\" href=\"/archives_jun2012/BulgeThatAllWomenLove.htm\">Bulge That All Women Lo ...</a></td></tr>\\n<tr><td style=\"padding:0px; margin:0px; height:19px\"><a style=\"color:#0033FF;font-family:arial,sans-serif;font-size:12px; margin-left: 8px;\" href=\"/MultiMedia/HusbandDayCare.htm\">National Husband Care P ...</a></td></tr>\\n<tr><td style=\"padding:0px; margin:0px; height:19px\"><a style=\"color:#0033FF;font-family:arial,sans-serif;font-size:12px; margin-left: 8px;\" href=\"/archives_sep2006/DuckHeist.htm\">Duck Heist - Ducks Gone ...</a></td></tr>\\n<tr><td style=\"padding:0px; margin:0px; height:19px\"><a style=\"color:#0033FF;font-family:arial,sans-serif;font-size:12px; margin-left: 8px;\" href=\"/archives_jul2010/1957WoolworthMenu.htm\">1957 Woolworth Menu</a></td></tr>\\n<tr><td style=\"padding:0px; margin:0px; height:19px\"><a style=\"color:#0033FF;font-family:arial,sans-serif;font-size:12px; margin-left: 8px;\" href=\"/archives_feb2009/NewIRSForm.htm\">New IRS Form</a></td></tr>\\n<tr><td style=\"padding:0px; margin:0px; height:19px\"><a style=\"color:#0033FF;font-family:arial,sans-serif;font-size:12px; margin-left: 8px;\" href=\"/archives_oct2005/MarzipanBabies.htm\">Marzipan Babies</a></td></tr>\\n<tr><td style=\"padding:0px; margin:0px; height:19px\"><a style=\"color:#0033FF;font-family:arial,sans-serif;font-size:12px; margin-left: 8px;\" href=\"/MultiMedia/WhyBuyExpensiveToys.htm\">Why Buy Expensive Toys?</a></td></tr>\\n<tr><td style=\"padding:0px; margin:0px; height:19px\"><a style=\"color:#0033FF;font-family:arial,sans-serif;font-size:12px; margin-left: 8px;\" href=\"/archives_aug2004/Cowboy_Gift.htm\">Cowboy\\'s Gift From Reve ...</a></td></tr>\\n<tr><td style=\"padding:0px; margin:0px; height:19px\"><a style=\"color:#0033FF;font-family:arial,sans-serif;font-size:12px; margin-left: 8px;\" href=\"/archives_may2007/BearSurveillance.htm\">Bear Surveillance</a></td></tr>\\n<tr><td style=\"padding:0px; margin:0px; height:19px\"><a style=\"color:#0033FF;font-family:arial,sans-serif;font-size:12px; margin-left: 8px;\" href=\"/archives_feb2011/SpringJustAroundCorner.htm\">Spring Is Just Around T ...</a></td></tr>\\n<tr><td style=\"padding:0px; margin:0px; height:19px\"><a style=\"color:#0033FF;font-family:arial,sans-serif;font-size:12px; margin-left: 8px;\" href=\"/archives_oct2010/WindowCleaner.htm\">Window Cleaning in New  ...</a></td></tr>\\n<tr><td style=\"padding:0px; margin:0px; height:19px\"><a style=\"color:#0033FF;font-family:arial,sans-serif;font-size:12px; margin-left: 8px;\" href=\"/archives_jun2007/GoodMahjongSpot.htm\">Addictive Mahjong</a></td></tr>\\n<tr><td style=\"padding:0px; margin:0px; height:19px\"><a style=\"color:#0033FF;font-family:arial,sans-serif;font-size:12px; margin-left: 8px;\" href=\"/MultiMedia/CancelOurDate.htm\">Cancel Our Date</a></td></tr>\\n</table></td></tr><tr><td style=\"vertical-align:top\"><table style=\"width: 180px; text-align:left; border-spacing:0px; padding:0px;\" cellpadding=\"0\" cellspacing=\"0\"><!-- jdlArray\\n(\\n    [0] => Redneck Quotes\\n    [1] => Mission Statement Gener ...\\n    [2] => Pickup Dropoff\\n    [3] => Phrases, Expressions &  ...\\n    [4] => Spring Flowers\\n    [5] => Chicken, Fox & Grain Pu ...\\n    [6] => Phrases, Clich\\xc3\\xa9s, Expr ...\\n    [7] => Autumn Tree\\n    [8] => Daffynitions\\n    [9] => Books Never Written\\n    [10] => Texting Abbreviations f ...\\n    [11] => How To Draw An Owl\\n)\\n--><tr><td style=\"padding:0px; margin:0px; height:19px;\"><h4 style=\"margin:0px; font-size:16px; margin-left: 7px; margin-bottom: 5px; font-family: Geneva, Arial, Helvetica, sans-serif; text-align:center\">Top Joe-ks</h4></td></tr><tr><td style=\"padding:0px; margin:0px; height:19px\"><a style=\"color:#0033FF;font-family:arial,sans-serif;font-size:12px; margin-left: 8px;\" href=\"/archives_sep2011/Redneck_Quotes.htm\">Redneck Quotes</a></td></tr>\\n<tr><td style=\"padding:0px; margin:0px; height:19px\"><a style=\"color:#0033FF;font-family:arial,sans-serif;font-size:12px; margin-left: 8px;\" href=\"/archives_may2005/Elastic_Baby.htm\">Elastic Baby - Family S ...</a></td></tr>\\n<tr><td style=\"padding:0px; margin:0px; height:19px\"><a style=\"color:#0033FF;font-family:arial,sans-serif;font-size:12px; margin-left: 8px;\" href=\"/archives_feb2001/ManualMSG.htm\">Mission Statement Gener ...</a></td></tr>\\n<tr><td style=\"padding:0px; margin:0px; height:19px\"><a style=\"color:#0033FF;font-family:arial,sans-serif;font-size:12px; margin-left: 8px;\" href=\"/archives_dec2007/RevelstokePickupDropoff.htm\">Pickup Dropoff</a></td></tr>\\n<tr><td style=\"padding:0px; margin:0px; height:19px\"><a style=\"color:#0033FF;font-family:arial,sans-serif;font-size:12px; margin-left: 8px;\" href=\"/phrases/phrases.htm\">Phrases, Expressions &amp;  ...</a></td></tr>\\n<tr><td style=\"padding:0px; margin:0px; height:19px\"><a style=\"color:#0033FF;font-family:arial,sans-serif;font-size:12px; margin-left: 8px;\" href=\"/archives_apr2013/SpringFlowers.htm\">Spring Flowers</a></td></tr>\\n<tr><td style=\"padding:0px; margin:0px; height:19px\"><a style=\"color:#0033FF;font-family:arial,sans-serif;font-size:12px; margin-left: 8px;\" href=\"/archives_jan2004/Chicken_Fox_2004.htm\">Chicken, Fox &amp; Grain Pu ...</a></td></tr>\\n<tr><td style=\"padding:0px; margin:0px; height:19px\"><a style=\"color:#0033FF;font-family:arial,sans-serif;font-size:12px; margin-left: 8px;\" href=\"/phrases/phrasesT.htm\">Phrases, Clich&eacute;s, Expr ...</a></td></tr>\\n<tr><td style=\"padding:0px; margin:0px; height:19px\"><a style=\"color:#0033FF;font-family:arial,sans-serif;font-size:12px; margin-left: 8px;\" href=\"/archives_oct2010/AutumnTree.htm\">Autumn Tree</a></td></tr>\\n<tr><td style=\"padding:0px; margin:0px; height:19px\"><a style=\"color:#0033FF;font-family:arial,sans-serif;font-size:12px; margin-left: 8px;\" href=\"/daffynitions.htm\">Daffynitions</a></td></tr>\\n<tr><td style=\"padding:0px; margin:0px; height:19px\"><a style=\"color:#0033FF;font-family:arial,sans-serif;font-size:12px; margin-left: 8px;\" href=\"/archives_aug2005/Books_Never_Written.htm\">Books Never Written</a></td></tr>\\n<tr><td style=\"padding:0px; margin:0px; height:19px\"><a style=\"color:#0033FF;font-family:arial,sans-serif;font-size:12px; margin-left: 8px;\" href=\"/archives_dec2010/Texting_For_The_Elderly.htm\">Texting Abbreviations f ...</a></td></tr>\\n<tr><td style=\"padding:0px; margin:0px; height:19px\"><a style=\"color:#0033FF;font-family:arial,sans-serif;font-size:12px; margin-left: 8px;\" href=\"/archives_may2011/HowToDrawAnOwl.htm\">How To Draw An Owl</a></td></tr>\\n</table></td></tr><tr><td style=\"vertical-align:top\"><table style=\"width: 180px; text-align:left; border-spacing:0px; padding:0px;\" cellpadding=\"0\" cellspacing=\"0\"><tr><td style=\"padding:0px; margin:0px; height:19px;\"><h4 style=\"margin:0px; font-size:16px; margin-left: 7px; margin-bottom: 5px; font-family: Geneva, Arial, Helvetica, sans-serif; text-align:center\">Captions</h4></td></tr><tr><td style=\"padding:0px; margin:0px; height:19px\"><a style=\"color:#0033FF;font-family:arial,sans-serif;font-size:12px; margin-left: 8px;\" href=\"/archives_jul2012/RedneckCeilingTiles.htm\">Redneck Ceiling Tiles</a></td></tr>\\n<tr><td style=\"padding:0px; margin:0px; height:19px\"><a style=\"color:#0033FF;font-family:arial,sans-serif;font-size:12px; margin-left: 8px;\" href=\"/archives_jun2012/HumanAdaption.htm\">Human Adaption</a></td></tr>\\n<tr><td style=\"padding:0px; margin:0px; height:19px\"><a style=\"color:#0033FF;font-family:arial,sans-serif;font-size:12px; margin-left: 8px;\" href=\"/archives_may2012/FishBowlCostume.htm\">Fish Bowl Costume</a></td></tr>\\n<tr><td style=\"padding:0px; margin:0px; height:19px\"><a style=\"color:#0033FF;font-family:arial,sans-serif;font-size:12px; margin-left: 8px;\" href=\"/archives_apr2012/ChinUpExercise.htm\">Chin Up Exercise For Th ...</a></td></tr>\\n<tr><td style=\"padding:0px; margin:0px; height:19px\"><a style=\"color:#0033FF;font-family:arial,sans-serif;font-size:12px; margin-left: 8px;\" href=\"/archives_mar2012/SkeletonOpera.htm\">Skeleton Opera</a></td></tr>\\n<tr><td style=\"padding:0px; margin:0px; height:19px\"><a style=\"color:#0033FF;font-family:arial,sans-serif;font-size:12px; margin-left: 8px;\" href=\"/archives_feb2012/TattooFountain.htm\">Tattoo Fountain</a></td></tr>\\n<tr><td style=\"padding:0px; margin:0px; height:19px\"><a style=\"color:#0033FF;font-family:arial,sans-serif;font-size:12px; margin-left: 8px;\" href=\"/archives_feb2012/SupervisedMotorcycleWash.htm\">Supervised Motorcycle W ...</a></td></tr>\\n<tr><td style=\"padding:0px; margin:0px; height:19px\"><a style=\"color:#0033FF;font-family:arial,sans-serif;font-size:12px; margin-left: 8px;\" href=\"/archives_feb2012/HotAirOven.htm\">Hot Air Oven</a></td></tr>\\n<tr><td style=\"padding:0px; margin:0px; height:19px\"><a style=\"color:#0033FF;font-family:arial,sans-serif;font-size:12px; margin-left: 8px;\" href=\"/archives_jan2012/DinnerAroundTheCorner.htm\">Dinner Around The Corne ...</a></td></tr>\\n<tr><td style=\"padding:0px; margin:0px; height:19px\"><a style=\"color:#0033FF;font-family:arial,sans-serif;font-size:12px; margin-left: 8px;\" href=\"/archives_jan2012/Cartographer.htm\">Cartographer</a></td></tr>\\n<tr><td style=\"padding:0px; margin:0px; height:19px\"><a style=\"color:#0033FF;font-family:arial,sans-serif;font-size:12px; margin-left: 8px;\" href=\"/archives_jan2012/Tire-d_Workers.htm\">Tire-d Workers</a></td></tr>\\n<tr><td style=\"padding:0px; margin:0px; height:19px\"><a style=\"color:#0033FF;font-family:arial,sans-serif;font-size:12px; margin-left: 8px;\" href=\"/archives_oct2011/FishWalker.htm\">Fish Walker</a></td></tr>\\n<tr><td style=\"padding:0px; margin:0px; height:19px\"><a style=\"color:#0033FF;font-family:arial,sans-serif;font-size:12px; margin-left: 8px;\" href=\"/archives_sep2011/AlwaysEnoughTP.htm\">Always Enough TP</a></td></tr>\\n</table></td></tr>\\n</table>\\n</center>\\n\\n<!--google_ad_section_end-->\\t\\t</center></td>\\n\\t</tr>\\n\\t</table>\\n\\n<script type=\"text/javascript\" language=\"javascript\">\\nvar objRandom = document.getElementById(\"RandomQuote\");\\n\\tobjRandom.innerHTML = \"From each according to his ability, to each according to his work\";\\n\\tobjRandom.title = \"From each according to his ability, to each according to his work Claude de Rouvroy\";\\n//\\tfnInitializePage();\\n</script>\\n<table width=\"100%\" border=\"0\"><tr>\\n<td width=\"25%\" align=\"center\" class=\"quotes\">\\n     <a href=\"http://www.quotepuzzle.com\" target=\"_blank\" title=\"Solve these Quote puzzles\">Quote Puzzles</a>\\n     &nbsp;</td>\\n<td><center><span style=\"color:black;font-size:10.0pt;mso-bidi-font-size:12.0pt;font-family:Arial\">Copyright &copy; 2014 joe-ks.com</span></center></td>\\n<td width=\"25%\" align=\"right\">\\n&nbsp;</td>\\n</tr></table>\\n</body>\\n</html>\\n\\n'"
       ]
      }
     ],
     "prompt_number": 15
    },
    {
     "cell_type": "code",
     "collapsed": false,
     "input": [],
     "language": "python",
     "metadata": {},
     "outputs": []
    },
    {
     "cell_type": "code",
     "collapsed": false,
     "input": [],
     "language": "python",
     "metadata": {},
     "outputs": []
    },
    {
     "cell_type": "code",
     "collapsed": false,
     "input": [],
     "language": "python",
     "metadata": {},
     "outputs": []
    },
    {
     "cell_type": "code",
     "collapsed": false,
     "input": [],
     "language": "python",
     "metadata": {},
     "outputs": []
    },
    {
     "cell_type": "code",
     "collapsed": false,
     "input": [],
     "language": "python",
     "metadata": {},
     "outputs": []
    },
    {
     "cell_type": "code",
     "collapsed": false,
     "input": [
      "\n",
      "    \n",
      "start_pos = 0\n",
      "for i in range(len(listlink)):\n",
      "    if start_pos == 0:\n",
      "        if listlink[i][:8] == 'Headshot':\n",
      "            start_pos = i - 1"
     ],
     "language": "python",
     "metadata": {},
     "outputs": [],
     "prompt_number": 4
    },
    {
     "cell_type": "code",
     "collapsed": false,
     "input": [
      "pos = start_pos\n",
      "\n",
      "import pickle\n",
      "\n",
      "results = []\n",
      "\n",
      "while listlink[pos+1][:8] == 'Headshot' and pos <85:\n",
      "    print pos\n",
      "    for link in br.links():\n",
      "        #print link.text, link.url,\n",
      "        if link.url == listurl[pos]:\n",
      "            print listlink[pos] ############\n",
      "            time.sleep((randrange(3)+1)*3)\n",
      "            resp2 = br.follow_link(link)\n",
      "            html = resp2.read()\n",
      "            soup = BeautifulSoup(html)\n",
      "            tempdict = {}\n",
      "            tempdict['name'] = str(soup.find(\"input\", attrs={'name':\"FullName\"})).replace(\"<input name=\\\"FullName\\\" type=\\\"hidden\\\" value=\\\"\", '').replace(\"\\\"/>\", '')\n",
      "            tempdict['sex'] = str(soup.find(\"input\", attrs={'name':\"Gender\"})).replace(\"<input name=\\\"Gender\\\" type=\\\"Hidden\\\" value=\\\"\", '').replace(\"\\\"/>\", '')\n",
      "            tempdict['films'] = str(soup.find(\"div\", attrs={'class':\"moviecount\"})).replace(\"<div class=\\\"moviecount\\\">\", '').replace(\" Titles</div>\", '')\n",
      "            results.append(tempdict)\n",
      "            break\n",
      "    br.back()\n",
      "    pos += 2\n"
     ],
     "language": "python",
     "metadata": {},
     "outputs": [
      {
       "output_type": "stream",
       "stream": "stdout",
       "text": [
        "77\n",
        "420 Stroker\n",
        "79"
       ]
      },
      {
       "output_type": "stream",
       "stream": "stdout",
       "text": [
        "\n",
        "A. D.\n",
        "81"
       ]
      },
      {
       "output_type": "stream",
       "stream": "stdout",
       "text": [
        "\n",
        "A.J. Bailey\n",
        "83"
       ]
      },
      {
       "output_type": "stream",
       "stream": "stdout",
       "text": [
        "\n",
        "A.J. Harwood\n"
       ]
      }
     ],
     "prompt_number": 19
    },
    {
     "cell_type": "code",
     "collapsed": false,
     "input": [
      "results"
     ],
     "language": "python",
     "metadata": {},
     "outputs": [
      {
       "metadata": {},
       "output_type": "pyout",
       "prompt_number": 18,
       "text": [
        "[{'films': '2', 'name': '420 Stroker', 'sex': 'm'},\n",
        " {'films': '2', 'name': '420 Stroker', 'sex': 'm'},\n",
        " {'films': '32', 'name': 'A.J. Bailey', 'sex': 'f'},\n",
        " {'films': '32', 'name': 'A.J. Bailey', 'sex': 'f'}]"
       ]
      }
     ],
     "prompt_number": 18
    },
    {
     "cell_type": "code",
     "collapsed": false,
     "input": [
      "listurl[77:90]"
     ],
     "language": "python",
     "metadata": {},
     "outputs": [
      {
       "metadata": {},
       "output_type": "pyout",
       "prompt_number": 15,
       "text": [
        "['/person.rme/perfid=420Stroker/gender=m/420-stroker.htm',\n",
        " '/person.rme/perfid=420Stroker/gender=m/420-stroker.htm',\n",
        " '/person.rme/perfid=AD/gender=m/a%2e-d%2e.htm',\n",
        " '/person.rme/perfid=AD/gender=m/a%2e-d%2e.htm',\n",
        " '/person.rme/perfid=AJBailey/gender=f/a%2ej%2e-bailey.htm',\n",
        " '/person.rme/perfid=AJBailey/gender=f/a%2ej%2e-bailey.htm',\n",
        " '/person.rme/perfid=AJHarwood/gender=m/a%2ej%2e-harwood.htm',\n",
        " '/person.rme/perfid=AJHarwood/gender=m/a%2ej%2e-harwood.htm',\n",
        " '/person.rme/perfid=AJIrons/gender=m/a%2ej%2e-irons.htm',\n",
        " '/person.rme/perfid=AJIrons/gender=m/a%2ej%2e-irons.htm',\n",
        " '/person.rme/perfid=AjLong/gender=m/a%2ej%2e-long.htm',\n",
        " '/person.rme/perfid=AjLong/gender=m/a%2ej%2e-long.htm',\n",
        " '/person.rme/perfid=AaliyahBrown/gender=f/aaliyah-brown.htm']"
       ]
      }
     ],
     "prompt_number": 15
    },
    {
     "cell_type": "code",
     "collapsed": false,
     "input": [
      "# x = soup.findAll(\"td\", attrs={'valign' :'top'})\n",
      "# x = soup.select('td td')\n",
      "# x = soup.findAll(\"b\")\n",
      "\n"
     ],
     "language": "python",
     "metadata": {},
     "outputs": [
      {
       "output_type": "stream",
       "stream": "stdout",
       "text": [
        "<input name=\"FullName\" type=\"hidden\" value=\"420 Stroker\"/>\n",
        "<input name=\"Gender\" type=\"Hidden\" value=\"m\"/>\n",
        "<div class=\"moviecount\">2 Titles</div>\n"
       ]
      }
     ],
     "prompt_number": 52
    },
    {
     "cell_type": "code",
     "collapsed": false,
     "input": [],
     "language": "python",
     "metadata": {},
     "outputs": []
    },
    {
     "cell_type": "code",
     "collapsed": false,
     "input": [],
     "language": "python",
     "metadata": {},
     "outputs": []
    },
    {
     "cell_type": "code",
     "collapsed": false,
     "input": [],
     "language": "python",
     "metadata": {},
     "outputs": []
    },
    {
     "cell_type": "code",
     "collapsed": false,
     "input": [],
     "language": "python",
     "metadata": {},
     "outputs": []
    },
    {
     "cell_type": "code",
     "collapsed": false,
     "input": [],
     "language": "python",
     "metadata": {},
     "outputs": []
    },
    {
     "cell_type": "code",
     "collapsed": false,
     "input": [
      "#\n",
      "\n",
      "problems = []\n",
      "\n",
      "for bigram in bigrams:\n",
      "    response = br.open(\"http://incompetech.com/named/\")\n",
      "    time.sleep(randrange(5)*5)\n",
      "    print bigram,\n",
      "    thispage = 1\n",
      "    br.form = list(br.forms())[0]  # use when form is unnamed\n",
      "    namecontrol = br.form.find_control(\"name\")\n",
      "    namecontrol.value = bigram\n",
      "    formresponse = br.submit()\n",
      "    time.sleep(randrange(5)*3)\n",
      "    html = formresponse.read()\n",
      "    #extract(html, bigram)\n",
      "    if html.find(\"You can narrow your search in the following ways\") > -1:\n",
      "        problems.append(bigram)\n",
      "    else:\n",
      "#         stopit = False\n",
      "#         while stopit == False:\n",
      "#             thispage += 1\n",
      "#             linknames = []\n",
      "#             for link in br.links():\n",
      "#                 linknames.append(link.text)\n",
      "#             if str(thispage) in linknames:\n",
      "#                 for link in br.links():\n",
      "#                     if link.text == str(thispage):\n",
      "#                         request = br.click_link(link)\n",
      "#                         response = br.follow_link(link)\n",
      "#                         html = response.read()\n",
      "#                         extract(html, bigram)\n",
      "#             else:\n",
      "#                 stopit = True\n",
      "                \n",
      "        pass\n",
      "    br.back()\n",
      "    \n",
      "print problems"
     ],
     "language": "python",
     "metadata": {},
     "outputs": [
      {
       "output_type": "stream",
       "stream": "stdout",
       "text": [
        "ma "
       ]
      },
      {
       "output_type": "stream",
       "stream": "stdout",
       "text": [
        "mb "
       ]
      },
      {
       "output_type": "stream",
       "stream": "stdout",
       "text": [
        "mc "
       ]
      },
      {
       "output_type": "stream",
       "stream": "stdout",
       "text": [
        "md "
       ]
      },
      {
       "output_type": "stream",
       "stream": "stdout",
       "text": [
        "me "
       ]
      },
      {
       "output_type": "stream",
       "stream": "stdout",
       "text": [
        "mf "
       ]
      },
      {
       "output_type": "stream",
       "stream": "stdout",
       "text": [
        "mg "
       ]
      },
      {
       "output_type": "stream",
       "stream": "stdout",
       "text": [
        "mh "
       ]
      },
      {
       "output_type": "stream",
       "stream": "stdout",
       "text": [
        "mi "
       ]
      },
      {
       "output_type": "stream",
       "stream": "stdout",
       "text": [
        "mj "
       ]
      },
      {
       "output_type": "stream",
       "stream": "stdout",
       "text": [
        "mk "
       ]
      },
      {
       "output_type": "stream",
       "stream": "stdout",
       "text": [
        "ml "
       ]
      },
      {
       "output_type": "stream",
       "stream": "stdout",
       "text": [
        "mm "
       ]
      },
      {
       "output_type": "stream",
       "stream": "stdout",
       "text": [
        "mn "
       ]
      },
      {
       "output_type": "stream",
       "stream": "stdout",
       "text": [
        "mo "
       ]
      },
      {
       "output_type": "stream",
       "stream": "stdout",
       "text": [
        "mp "
       ]
      },
      {
       "output_type": "stream",
       "stream": "stdout",
       "text": [
        "mq "
       ]
      },
      {
       "output_type": "stream",
       "stream": "stdout",
       "text": [
        "mr "
       ]
      },
      {
       "output_type": "stream",
       "stream": "stdout",
       "text": [
        "ms "
       ]
      },
      {
       "output_type": "stream",
       "stream": "stdout",
       "text": [
        "mt "
       ]
      },
      {
       "output_type": "stream",
       "stream": "stdout",
       "text": [
        "mu "
       ]
      },
      {
       "output_type": "stream",
       "stream": "stdout",
       "text": [
        "mv "
       ]
      },
      {
       "output_type": "stream",
       "stream": "stdout",
       "text": [
        "mw "
       ]
      },
      {
       "output_type": "stream",
       "stream": "stdout",
       "text": [
        "mx "
       ]
      },
      {
       "output_type": "stream",
       "stream": "stdout",
       "text": [
        "my "
       ]
      },
      {
       "output_type": "stream",
       "stream": "stdout",
       "text": [
        "mz "
       ]
      },
      {
       "output_type": "stream",
       "stream": "stdout",
       "text": [
        "na "
       ]
      },
      {
       "output_type": "stream",
       "stream": "stdout",
       "text": [
        "nb "
       ]
      },
      {
       "output_type": "stream",
       "stream": "stdout",
       "text": [
        "nc "
       ]
      },
      {
       "output_type": "stream",
       "stream": "stdout",
       "text": [
        "nd "
       ]
      },
      {
       "output_type": "stream",
       "stream": "stdout",
       "text": [
        "ne "
       ]
      },
      {
       "output_type": "stream",
       "stream": "stdout",
       "text": [
        "nf "
       ]
      },
      {
       "output_type": "stream",
       "stream": "stdout",
       "text": [
        "ng "
       ]
      },
      {
       "output_type": "stream",
       "stream": "stdout",
       "text": [
        "nh "
       ]
      },
      {
       "output_type": "stream",
       "stream": "stdout",
       "text": [
        "ni "
       ]
      },
      {
       "output_type": "stream",
       "stream": "stdout",
       "text": [
        "nj "
       ]
      },
      {
       "output_type": "stream",
       "stream": "stdout",
       "text": [
        "nk "
       ]
      },
      {
       "output_type": "stream",
       "stream": "stdout",
       "text": [
        "nl "
       ]
      },
      {
       "output_type": "stream",
       "stream": "stdout",
       "text": [
        "nm "
       ]
      },
      {
       "output_type": "stream",
       "stream": "stdout",
       "text": [
        "nn "
       ]
      },
      {
       "output_type": "stream",
       "stream": "stdout",
       "text": [
        "no "
       ]
      },
      {
       "output_type": "stream",
       "stream": "stdout",
       "text": [
        "np "
       ]
      },
      {
       "output_type": "stream",
       "stream": "stdout",
       "text": [
        "nq "
       ]
      },
      {
       "output_type": "stream",
       "stream": "stdout",
       "text": [
        "nr "
       ]
      },
      {
       "output_type": "stream",
       "stream": "stdout",
       "text": [
        "ns "
       ]
      },
      {
       "output_type": "stream",
       "stream": "stdout",
       "text": [
        "nt "
       ]
      },
      {
       "output_type": "stream",
       "stream": "stdout",
       "text": [
        "nu "
       ]
      },
      {
       "output_type": "stream",
       "stream": "stdout",
       "text": [
        "nv "
       ]
      },
      {
       "output_type": "stream",
       "stream": "stdout",
       "text": [
        "nw "
       ]
      },
      {
       "output_type": "stream",
       "stream": "stdout",
       "text": [
        "nx "
       ]
      },
      {
       "output_type": "stream",
       "stream": "stdout",
       "text": [
        "ny "
       ]
      },
      {
       "output_type": "stream",
       "stream": "stdout",
       "text": [
        "nz "
       ]
      },
      {
       "output_type": "stream",
       "stream": "stdout",
       "text": [
        "oa "
       ]
      },
      {
       "output_type": "stream",
       "stream": "stdout",
       "text": [
        "ob "
       ]
      },
      {
       "output_type": "stream",
       "stream": "stdout",
       "text": [
        "oc "
       ]
      },
      {
       "output_type": "stream",
       "stream": "stdout",
       "text": [
        "od "
       ]
      },
      {
       "output_type": "stream",
       "stream": "stdout",
       "text": [
        "oe "
       ]
      },
      {
       "output_type": "stream",
       "stream": "stdout",
       "text": [
        "of "
       ]
      },
      {
       "output_type": "stream",
       "stream": "stdout",
       "text": [
        "og "
       ]
      },
      {
       "output_type": "stream",
       "stream": "stdout",
       "text": [
        "oh "
       ]
      },
      {
       "output_type": "stream",
       "stream": "stdout",
       "text": [
        "oi "
       ]
      },
      {
       "output_type": "stream",
       "stream": "stdout",
       "text": [
        "oj "
       ]
      },
      {
       "output_type": "stream",
       "stream": "stdout",
       "text": [
        "ok "
       ]
      },
      {
       "output_type": "stream",
       "stream": "stdout",
       "text": [
        "ol "
       ]
      },
      {
       "output_type": "stream",
       "stream": "stdout",
       "text": [
        "om "
       ]
      },
      {
       "output_type": "stream",
       "stream": "stdout",
       "text": [
        "on "
       ]
      },
      {
       "output_type": "stream",
       "stream": "stdout",
       "text": [
        "oo "
       ]
      },
      {
       "output_type": "stream",
       "stream": "stdout",
       "text": [
        "op "
       ]
      },
      {
       "output_type": "stream",
       "stream": "stdout",
       "text": [
        "oq "
       ]
      },
      {
       "output_type": "stream",
       "stream": "stdout",
       "text": [
        "or "
       ]
      },
      {
       "output_type": "stream",
       "stream": "stdout",
       "text": [
        "os "
       ]
      },
      {
       "output_type": "stream",
       "stream": "stdout",
       "text": [
        "ot "
       ]
      },
      {
       "output_type": "stream",
       "stream": "stdout",
       "text": [
        "ou "
       ]
      },
      {
       "output_type": "stream",
       "stream": "stdout",
       "text": [
        "ov "
       ]
      },
      {
       "output_type": "stream",
       "stream": "stdout",
       "text": [
        "ow "
       ]
      },
      {
       "output_type": "stream",
       "stream": "stdout",
       "text": [
        "ox "
       ]
      },
      {
       "output_type": "stream",
       "stream": "stdout",
       "text": [
        "oy "
       ]
      },
      {
       "output_type": "stream",
       "stream": "stdout",
       "text": [
        "oz "
       ]
      },
      {
       "output_type": "stream",
       "stream": "stdout",
       "text": [
        "pa "
       ]
      },
      {
       "output_type": "stream",
       "stream": "stdout",
       "text": [
        "pb "
       ]
      },
      {
       "output_type": "stream",
       "stream": "stdout",
       "text": [
        "pc "
       ]
      },
      {
       "output_type": "stream",
       "stream": "stdout",
       "text": [
        "pd "
       ]
      },
      {
       "output_type": "stream",
       "stream": "stdout",
       "text": [
        "pe "
       ]
      },
      {
       "output_type": "stream",
       "stream": "stdout",
       "text": [
        "pf "
       ]
      },
      {
       "output_type": "stream",
       "stream": "stdout",
       "text": [
        "pg "
       ]
      },
      {
       "output_type": "stream",
       "stream": "stdout",
       "text": [
        "ph "
       ]
      },
      {
       "output_type": "stream",
       "stream": "stdout",
       "text": [
        "pi "
       ]
      },
      {
       "output_type": "stream",
       "stream": "stdout",
       "text": [
        "pj "
       ]
      },
      {
       "output_type": "stream",
       "stream": "stdout",
       "text": [
        "pk "
       ]
      },
      {
       "output_type": "stream",
       "stream": "stdout",
       "text": [
        "pl "
       ]
      },
      {
       "output_type": "stream",
       "stream": "stdout",
       "text": [
        "pm "
       ]
      },
      {
       "output_type": "stream",
       "stream": "stdout",
       "text": [
        "pn "
       ]
      },
      {
       "output_type": "stream",
       "stream": "stdout",
       "text": [
        "po "
       ]
      },
      {
       "output_type": "stream",
       "stream": "stdout",
       "text": [
        "pp "
       ]
      },
      {
       "output_type": "stream",
       "stream": "stdout",
       "text": [
        "pq "
       ]
      },
      {
       "output_type": "stream",
       "stream": "stdout",
       "text": [
        "pr "
       ]
      },
      {
       "output_type": "stream",
       "stream": "stdout",
       "text": [
        "ps "
       ]
      },
      {
       "output_type": "stream",
       "stream": "stdout",
       "text": [
        "pt "
       ]
      },
      {
       "output_type": "stream",
       "stream": "stdout",
       "text": [
        "pu "
       ]
      },
      {
       "output_type": "stream",
       "stream": "stdout",
       "text": [
        "pv "
       ]
      },
      {
       "output_type": "stream",
       "stream": "stdout",
       "text": [
        "pw "
       ]
      },
      {
       "output_type": "stream",
       "stream": "stdout",
       "text": [
        "px "
       ]
      },
      {
       "output_type": "stream",
       "stream": "stdout",
       "text": [
        "py "
       ]
      },
      {
       "output_type": "stream",
       "stream": "stdout",
       "text": [
        "pz "
       ]
      },
      {
       "output_type": "stream",
       "stream": "stdout",
       "text": [
        "qa "
       ]
      },
      {
       "output_type": "stream",
       "stream": "stdout",
       "text": [
        "qb "
       ]
      },
      {
       "output_type": "stream",
       "stream": "stdout",
       "text": [
        "qc "
       ]
      },
      {
       "output_type": "stream",
       "stream": "stdout",
       "text": [
        "qd "
       ]
      },
      {
       "output_type": "stream",
       "stream": "stdout",
       "text": [
        "qe "
       ]
      },
      {
       "output_type": "stream",
       "stream": "stdout",
       "text": [
        "qf "
       ]
      },
      {
       "output_type": "stream",
       "stream": "stdout",
       "text": [
        "qg "
       ]
      },
      {
       "output_type": "stream",
       "stream": "stdout",
       "text": [
        "qh "
       ]
      },
      {
       "output_type": "stream",
       "stream": "stdout",
       "text": [
        "qi "
       ]
      },
      {
       "output_type": "stream",
       "stream": "stdout",
       "text": [
        "qj "
       ]
      },
      {
       "output_type": "stream",
       "stream": "stdout",
       "text": [
        "qk "
       ]
      },
      {
       "output_type": "stream",
       "stream": "stdout",
       "text": [
        "ql "
       ]
      },
      {
       "output_type": "stream",
       "stream": "stdout",
       "text": [
        "qm "
       ]
      },
      {
       "output_type": "stream",
       "stream": "stdout",
       "text": [
        "qn "
       ]
      },
      {
       "output_type": "stream",
       "stream": "stdout",
       "text": [
        "qo "
       ]
      },
      {
       "output_type": "stream",
       "stream": "stdout",
       "text": [
        "qp "
       ]
      },
      {
       "output_type": "stream",
       "stream": "stdout",
       "text": [
        "qq "
       ]
      },
      {
       "output_type": "stream",
       "stream": "stdout",
       "text": [
        "qr "
       ]
      },
      {
       "output_type": "stream",
       "stream": "stdout",
       "text": [
        "qs "
       ]
      },
      {
       "output_type": "stream",
       "stream": "stdout",
       "text": [
        "qt "
       ]
      },
      {
       "output_type": "stream",
       "stream": "stdout",
       "text": [
        "qu "
       ]
      },
      {
       "output_type": "stream",
       "stream": "stdout",
       "text": [
        "qv "
       ]
      },
      {
       "output_type": "stream",
       "stream": "stdout",
       "text": [
        "qw "
       ]
      },
      {
       "output_type": "stream",
       "stream": "stdout",
       "text": [
        "qx "
       ]
      },
      {
       "output_type": "stream",
       "stream": "stdout",
       "text": [
        "qy "
       ]
      },
      {
       "output_type": "stream",
       "stream": "stdout",
       "text": [
        "qz "
       ]
      },
      {
       "output_type": "stream",
       "stream": "stdout",
       "text": [
        "ra "
       ]
      },
      {
       "output_type": "stream",
       "stream": "stdout",
       "text": [
        "rb "
       ]
      },
      {
       "output_type": "stream",
       "stream": "stdout",
       "text": [
        "rc "
       ]
      },
      {
       "output_type": "stream",
       "stream": "stdout",
       "text": [
        "rd "
       ]
      },
      {
       "output_type": "stream",
       "stream": "stdout",
       "text": [
        "re "
       ]
      },
      {
       "output_type": "stream",
       "stream": "stdout",
       "text": [
        "rf "
       ]
      },
      {
       "output_type": "stream",
       "stream": "stdout",
       "text": [
        "rg "
       ]
      },
      {
       "output_type": "stream",
       "stream": "stdout",
       "text": [
        "rh "
       ]
      },
      {
       "output_type": "stream",
       "stream": "stdout",
       "text": [
        "ri "
       ]
      },
      {
       "output_type": "stream",
       "stream": "stdout",
       "text": [
        "rj "
       ]
      },
      {
       "output_type": "stream",
       "stream": "stdout",
       "text": [
        "rk "
       ]
      },
      {
       "output_type": "stream",
       "stream": "stdout",
       "text": [
        "rl "
       ]
      },
      {
       "output_type": "stream",
       "stream": "stdout",
       "text": [
        "rm "
       ]
      },
      {
       "output_type": "stream",
       "stream": "stdout",
       "text": [
        "rn "
       ]
      },
      {
       "output_type": "stream",
       "stream": "stdout",
       "text": [
        "ro "
       ]
      },
      {
       "output_type": "stream",
       "stream": "stdout",
       "text": [
        "rp "
       ]
      },
      {
       "output_type": "stream",
       "stream": "stdout",
       "text": [
        "rq "
       ]
      },
      {
       "output_type": "stream",
       "stream": "stdout",
       "text": [
        "rr "
       ]
      },
      {
       "output_type": "stream",
       "stream": "stdout",
       "text": [
        "rs "
       ]
      },
      {
       "output_type": "stream",
       "stream": "stdout",
       "text": [
        "rt "
       ]
      },
      {
       "output_type": "stream",
       "stream": "stdout",
       "text": [
        "ru "
       ]
      },
      {
       "output_type": "stream",
       "stream": "stdout",
       "text": [
        "rv "
       ]
      },
      {
       "output_type": "stream",
       "stream": "stdout",
       "text": [
        "rw "
       ]
      },
      {
       "output_type": "stream",
       "stream": "stdout",
       "text": [
        "rx "
       ]
      },
      {
       "output_type": "stream",
       "stream": "stdout",
       "text": [
        "ry "
       ]
      },
      {
       "output_type": "stream",
       "stream": "stdout",
       "text": [
        "rz "
       ]
      },
      {
       "output_type": "stream",
       "stream": "stdout",
       "text": [
        "sa "
       ]
      },
      {
       "output_type": "stream",
       "stream": "stdout",
       "text": [
        "sb "
       ]
      },
      {
       "output_type": "stream",
       "stream": "stdout",
       "text": [
        "sc "
       ]
      },
      {
       "output_type": "stream",
       "stream": "stdout",
       "text": [
        "sd "
       ]
      },
      {
       "output_type": "stream",
       "stream": "stdout",
       "text": [
        "se "
       ]
      },
      {
       "output_type": "stream",
       "stream": "stdout",
       "text": [
        "sf "
       ]
      },
      {
       "output_type": "stream",
       "stream": "stdout",
       "text": [
        "sg "
       ]
      },
      {
       "output_type": "stream",
       "stream": "stdout",
       "text": [
        "sh "
       ]
      },
      {
       "output_type": "stream",
       "stream": "stdout",
       "text": [
        "si "
       ]
      },
      {
       "output_type": "stream",
       "stream": "stdout",
       "text": [
        "sj "
       ]
      },
      {
       "output_type": "stream",
       "stream": "stdout",
       "text": [
        "sk "
       ]
      },
      {
       "output_type": "stream",
       "stream": "stdout",
       "text": [
        "sl "
       ]
      },
      {
       "output_type": "stream",
       "stream": "stdout",
       "text": [
        "sm "
       ]
      },
      {
       "output_type": "stream",
       "stream": "stdout",
       "text": [
        "sn "
       ]
      },
      {
       "output_type": "stream",
       "stream": "stdout",
       "text": [
        "so "
       ]
      },
      {
       "output_type": "stream",
       "stream": "stdout",
       "text": [
        "sp "
       ]
      },
      {
       "output_type": "stream",
       "stream": "stdout",
       "text": [
        "sq "
       ]
      },
      {
       "output_type": "stream",
       "stream": "stdout",
       "text": [
        "sr "
       ]
      },
      {
       "output_type": "stream",
       "stream": "stdout",
       "text": [
        "ss "
       ]
      },
      {
       "output_type": "stream",
       "stream": "stdout",
       "text": [
        "st "
       ]
      },
      {
       "output_type": "stream",
       "stream": "stdout",
       "text": [
        "su "
       ]
      },
      {
       "output_type": "stream",
       "stream": "stdout",
       "text": [
        "sv "
       ]
      },
      {
       "output_type": "stream",
       "stream": "stdout",
       "text": [
        "sw "
       ]
      },
      {
       "output_type": "stream",
       "stream": "stdout",
       "text": [
        "sx "
       ]
      },
      {
       "output_type": "stream",
       "stream": "stdout",
       "text": [
        "sy "
       ]
      },
      {
       "output_type": "stream",
       "stream": "stdout",
       "text": [
        "sz "
       ]
      },
      {
       "output_type": "stream",
       "stream": "stdout",
       "text": [
        "ta "
       ]
      },
      {
       "output_type": "stream",
       "stream": "stdout",
       "text": [
        "tb "
       ]
      },
      {
       "output_type": "stream",
       "stream": "stdout",
       "text": [
        "tc "
       ]
      },
      {
       "output_type": "stream",
       "stream": "stdout",
       "text": [
        "td "
       ]
      },
      {
       "output_type": "stream",
       "stream": "stdout",
       "text": [
        "te "
       ]
      },
      {
       "output_type": "stream",
       "stream": "stdout",
       "text": [
        "tf "
       ]
      },
      {
       "output_type": "stream",
       "stream": "stdout",
       "text": [
        "tg "
       ]
      },
      {
       "output_type": "stream",
       "stream": "stdout",
       "text": [
        "th "
       ]
      },
      {
       "output_type": "stream",
       "stream": "stdout",
       "text": [
        "ti "
       ]
      },
      {
       "output_type": "stream",
       "stream": "stdout",
       "text": [
        "tj "
       ]
      },
      {
       "output_type": "stream",
       "stream": "stdout",
       "text": [
        "tk "
       ]
      },
      {
       "output_type": "stream",
       "stream": "stdout",
       "text": [
        "tl "
       ]
      },
      {
       "output_type": "stream",
       "stream": "stdout",
       "text": [
        "tm "
       ]
      },
      {
       "output_type": "stream",
       "stream": "stdout",
       "text": [
        "tn "
       ]
      },
      {
       "output_type": "stream",
       "stream": "stdout",
       "text": [
        "to "
       ]
      },
      {
       "output_type": "stream",
       "stream": "stdout",
       "text": [
        "tp "
       ]
      },
      {
       "output_type": "stream",
       "stream": "stdout",
       "text": [
        "tq "
       ]
      },
      {
       "output_type": "stream",
       "stream": "stdout",
       "text": [
        "tr "
       ]
      },
      {
       "output_type": "stream",
       "stream": "stdout",
       "text": [
        "ts "
       ]
      },
      {
       "output_type": "stream",
       "stream": "stdout",
       "text": [
        "tt "
       ]
      },
      {
       "output_type": "stream",
       "stream": "stdout",
       "text": [
        "tu "
       ]
      },
      {
       "output_type": "stream",
       "stream": "stdout",
       "text": [
        "tv "
       ]
      },
      {
       "output_type": "stream",
       "stream": "stdout",
       "text": [
        "tw "
       ]
      },
      {
       "output_type": "stream",
       "stream": "stdout",
       "text": [
        "tx "
       ]
      },
      {
       "output_type": "stream",
       "stream": "stdout",
       "text": [
        "ty "
       ]
      },
      {
       "output_type": "stream",
       "stream": "stdout",
       "text": [
        "tz "
       ]
      },
      {
       "output_type": "stream",
       "stream": "stdout",
       "text": [
        "ua "
       ]
      },
      {
       "output_type": "stream",
       "stream": "stdout",
       "text": [
        "ub "
       ]
      },
      {
       "output_type": "stream",
       "stream": "stdout",
       "text": [
        "uc "
       ]
      },
      {
       "output_type": "stream",
       "stream": "stdout",
       "text": [
        "ud "
       ]
      },
      {
       "output_type": "stream",
       "stream": "stdout",
       "text": [
        "ue "
       ]
      },
      {
       "output_type": "stream",
       "stream": "stdout",
       "text": [
        "uf "
       ]
      },
      {
       "output_type": "stream",
       "stream": "stdout",
       "text": [
        "ug "
       ]
      },
      {
       "output_type": "stream",
       "stream": "stdout",
       "text": [
        "uh "
       ]
      },
      {
       "output_type": "stream",
       "stream": "stdout",
       "text": [
        "ui "
       ]
      },
      {
       "output_type": "stream",
       "stream": "stdout",
       "text": [
        "uj "
       ]
      },
      {
       "output_type": "stream",
       "stream": "stdout",
       "text": [
        "uk "
       ]
      },
      {
       "output_type": "stream",
       "stream": "stdout",
       "text": [
        "ul "
       ]
      },
      {
       "output_type": "stream",
       "stream": "stdout",
       "text": [
        "um "
       ]
      },
      {
       "output_type": "stream",
       "stream": "stdout",
       "text": [
        "un "
       ]
      },
      {
       "output_type": "stream",
       "stream": "stdout",
       "text": [
        "uo "
       ]
      },
      {
       "output_type": "stream",
       "stream": "stdout",
       "text": [
        "up "
       ]
      },
      {
       "output_type": "stream",
       "stream": "stdout",
       "text": [
        "uq "
       ]
      },
      {
       "output_type": "stream",
       "stream": "stdout",
       "text": [
        "ur "
       ]
      },
      {
       "output_type": "stream",
       "stream": "stdout",
       "text": [
        "us "
       ]
      },
      {
       "output_type": "stream",
       "stream": "stdout",
       "text": [
        "ut "
       ]
      },
      {
       "output_type": "stream",
       "stream": "stdout",
       "text": [
        "uu "
       ]
      },
      {
       "output_type": "stream",
       "stream": "stdout",
       "text": [
        "uv "
       ]
      },
      {
       "output_type": "stream",
       "stream": "stdout",
       "text": [
        "uw "
       ]
      },
      {
       "output_type": "stream",
       "stream": "stdout",
       "text": [
        "ux "
       ]
      },
      {
       "output_type": "stream",
       "stream": "stdout",
       "text": [
        "uy "
       ]
      },
      {
       "output_type": "stream",
       "stream": "stdout",
       "text": [
        "uz "
       ]
      },
      {
       "output_type": "stream",
       "stream": "stdout",
       "text": [
        "va "
       ]
      },
      {
       "output_type": "stream",
       "stream": "stdout",
       "text": [
        "vb "
       ]
      },
      {
       "output_type": "stream",
       "stream": "stdout",
       "text": [
        "vc "
       ]
      },
      {
       "output_type": "stream",
       "stream": "stdout",
       "text": [
        "vd "
       ]
      },
      {
       "output_type": "stream",
       "stream": "stdout",
       "text": [
        "ve "
       ]
      },
      {
       "output_type": "stream",
       "stream": "stdout",
       "text": [
        "vf "
       ]
      },
      {
       "output_type": "stream",
       "stream": "stdout",
       "text": [
        "vg "
       ]
      },
      {
       "output_type": "stream",
       "stream": "stdout",
       "text": [
        "vh "
       ]
      },
      {
       "output_type": "stream",
       "stream": "stdout",
       "text": [
        "vi "
       ]
      },
      {
       "output_type": "stream",
       "stream": "stdout",
       "text": [
        "vj "
       ]
      },
      {
       "output_type": "stream",
       "stream": "stdout",
       "text": [
        "vk "
       ]
      },
      {
       "output_type": "stream",
       "stream": "stdout",
       "text": [
        "vl "
       ]
      },
      {
       "output_type": "stream",
       "stream": "stdout",
       "text": [
        "vm "
       ]
      },
      {
       "output_type": "stream",
       "stream": "stdout",
       "text": [
        "vn "
       ]
      },
      {
       "output_type": "stream",
       "stream": "stdout",
       "text": [
        "vo "
       ]
      },
      {
       "output_type": "stream",
       "stream": "stdout",
       "text": [
        "vp "
       ]
      },
      {
       "output_type": "stream",
       "stream": "stdout",
       "text": [
        "vq "
       ]
      },
      {
       "output_type": "stream",
       "stream": "stdout",
       "text": [
        "vr "
       ]
      },
      {
       "output_type": "stream",
       "stream": "stdout",
       "text": [
        "vs "
       ]
      },
      {
       "output_type": "stream",
       "stream": "stdout",
       "text": [
        "vt "
       ]
      },
      {
       "output_type": "stream",
       "stream": "stdout",
       "text": [
        "vu "
       ]
      },
      {
       "output_type": "stream",
       "stream": "stdout",
       "text": [
        "vv "
       ]
      },
      {
       "output_type": "stream",
       "stream": "stdout",
       "text": [
        "vw "
       ]
      },
      {
       "output_type": "stream",
       "stream": "stdout",
       "text": [
        "vx "
       ]
      },
      {
       "output_type": "stream",
       "stream": "stdout",
       "text": [
        "vy "
       ]
      },
      {
       "output_type": "stream",
       "stream": "stdout",
       "text": [
        "vz "
       ]
      },
      {
       "output_type": "stream",
       "stream": "stdout",
       "text": [
        "wa "
       ]
      },
      {
       "output_type": "stream",
       "stream": "stdout",
       "text": [
        "wb "
       ]
      },
      {
       "output_type": "stream",
       "stream": "stdout",
       "text": [
        "wc "
       ]
      },
      {
       "output_type": "stream",
       "stream": "stdout",
       "text": [
        "wd "
       ]
      },
      {
       "output_type": "stream",
       "stream": "stdout",
       "text": [
        "we "
       ]
      },
      {
       "output_type": "stream",
       "stream": "stdout",
       "text": [
        "wf "
       ]
      },
      {
       "output_type": "stream",
       "stream": "stdout",
       "text": [
        "wg "
       ]
      },
      {
       "output_type": "stream",
       "stream": "stdout",
       "text": [
        "wh "
       ]
      },
      {
       "output_type": "stream",
       "stream": "stdout",
       "text": [
        "wi "
       ]
      },
      {
       "output_type": "stream",
       "stream": "stdout",
       "text": [
        "wj "
       ]
      },
      {
       "output_type": "stream",
       "stream": "stdout",
       "text": [
        "wk "
       ]
      },
      {
       "output_type": "stream",
       "stream": "stdout",
       "text": [
        "wl "
       ]
      },
      {
       "output_type": "stream",
       "stream": "stdout",
       "text": [
        "wm "
       ]
      },
      {
       "output_type": "stream",
       "stream": "stdout",
       "text": [
        "wn "
       ]
      },
      {
       "output_type": "stream",
       "stream": "stdout",
       "text": [
        "wo "
       ]
      },
      {
       "output_type": "stream",
       "stream": "stdout",
       "text": [
        "wp "
       ]
      },
      {
       "output_type": "stream",
       "stream": "stdout",
       "text": [
        "wq "
       ]
      },
      {
       "output_type": "stream",
       "stream": "stdout",
       "text": [
        "wr "
       ]
      },
      {
       "output_type": "stream",
       "stream": "stdout",
       "text": [
        "ws "
       ]
      },
      {
       "output_type": "stream",
       "stream": "stdout",
       "text": [
        "wt "
       ]
      },
      {
       "output_type": "stream",
       "stream": "stdout",
       "text": [
        "wu "
       ]
      },
      {
       "output_type": "stream",
       "stream": "stdout",
       "text": [
        "wv "
       ]
      },
      {
       "output_type": "stream",
       "stream": "stdout",
       "text": [
        "ww "
       ]
      },
      {
       "output_type": "stream",
       "stream": "stdout",
       "text": [
        "wx "
       ]
      },
      {
       "output_type": "stream",
       "stream": "stdout",
       "text": [
        "wy "
       ]
      },
      {
       "output_type": "stream",
       "stream": "stdout",
       "text": [
        "wz "
       ]
      },
      {
       "output_type": "stream",
       "stream": "stdout",
       "text": [
        "xa "
       ]
      },
      {
       "output_type": "stream",
       "stream": "stdout",
       "text": [
        "xb "
       ]
      },
      {
       "output_type": "stream",
       "stream": "stdout",
       "text": [
        "xc "
       ]
      },
      {
       "output_type": "stream",
       "stream": "stdout",
       "text": [
        "xd "
       ]
      },
      {
       "output_type": "stream",
       "stream": "stdout",
       "text": [
        "xe "
       ]
      },
      {
       "output_type": "stream",
       "stream": "stdout",
       "text": [
        "xf "
       ]
      },
      {
       "output_type": "stream",
       "stream": "stdout",
       "text": [
        "xg "
       ]
      },
      {
       "output_type": "stream",
       "stream": "stdout",
       "text": [
        "xh "
       ]
      },
      {
       "output_type": "stream",
       "stream": "stdout",
       "text": [
        "xi "
       ]
      },
      {
       "output_type": "stream",
       "stream": "stdout",
       "text": [
        "xj "
       ]
      },
      {
       "output_type": "stream",
       "stream": "stdout",
       "text": [
        "xk "
       ]
      },
      {
       "output_type": "stream",
       "stream": "stdout",
       "text": [
        "xl "
       ]
      },
      {
       "output_type": "stream",
       "stream": "stdout",
       "text": [
        "xm "
       ]
      },
      {
       "output_type": "stream",
       "stream": "stdout",
       "text": [
        "xn "
       ]
      },
      {
       "output_type": "stream",
       "stream": "stdout",
       "text": [
        "xo "
       ]
      },
      {
       "output_type": "stream",
       "stream": "stdout",
       "text": [
        "xp "
       ]
      },
      {
       "output_type": "stream",
       "stream": "stdout",
       "text": [
        "xq "
       ]
      },
      {
       "output_type": "stream",
       "stream": "stdout",
       "text": [
        "xr "
       ]
      },
      {
       "output_type": "stream",
       "stream": "stdout",
       "text": [
        "xs "
       ]
      },
      {
       "output_type": "stream",
       "stream": "stdout",
       "text": [
        "xt "
       ]
      },
      {
       "output_type": "stream",
       "stream": "stdout",
       "text": [
        "xu "
       ]
      },
      {
       "output_type": "stream",
       "stream": "stdout",
       "text": [
        "xv "
       ]
      },
      {
       "output_type": "stream",
       "stream": "stdout",
       "text": [
        "xw "
       ]
      },
      {
       "output_type": "stream",
       "stream": "stdout",
       "text": [
        "xx "
       ]
      },
      {
       "output_type": "stream",
       "stream": "stdout",
       "text": [
        "xy "
       ]
      },
      {
       "output_type": "stream",
       "stream": "stdout",
       "text": [
        "xz "
       ]
      },
      {
       "output_type": "stream",
       "stream": "stdout",
       "text": [
        "ya "
       ]
      },
      {
       "output_type": "stream",
       "stream": "stdout",
       "text": [
        "yb "
       ]
      },
      {
       "output_type": "stream",
       "stream": "stdout",
       "text": [
        "yc "
       ]
      },
      {
       "output_type": "stream",
       "stream": "stdout",
       "text": [
        "yd "
       ]
      },
      {
       "output_type": "stream",
       "stream": "stdout",
       "text": [
        "ye "
       ]
      },
      {
       "output_type": "stream",
       "stream": "stdout",
       "text": [
        "yf "
       ]
      },
      {
       "output_type": "stream",
       "stream": "stdout",
       "text": [
        "yg "
       ]
      },
      {
       "output_type": "stream",
       "stream": "stdout",
       "text": [
        "yh "
       ]
      },
      {
       "output_type": "stream",
       "stream": "stdout",
       "text": [
        "yi "
       ]
      },
      {
       "output_type": "stream",
       "stream": "stdout",
       "text": [
        "yj "
       ]
      },
      {
       "output_type": "stream",
       "stream": "stdout",
       "text": [
        "yk "
       ]
      },
      {
       "output_type": "stream",
       "stream": "stdout",
       "text": [
        "yl "
       ]
      },
      {
       "output_type": "stream",
       "stream": "stdout",
       "text": [
        "ym "
       ]
      },
      {
       "output_type": "stream",
       "stream": "stdout",
       "text": [
        "yn "
       ]
      },
      {
       "output_type": "stream",
       "stream": "stdout",
       "text": [
        "yo "
       ]
      },
      {
       "output_type": "stream",
       "stream": "stdout",
       "text": [
        "yp "
       ]
      },
      {
       "output_type": "stream",
       "stream": "stdout",
       "text": [
        "yq "
       ]
      },
      {
       "output_type": "stream",
       "stream": "stdout",
       "text": [
        "yr "
       ]
      },
      {
       "output_type": "stream",
       "stream": "stdout",
       "text": [
        "ys "
       ]
      },
      {
       "output_type": "stream",
       "stream": "stdout",
       "text": [
        "yt "
       ]
      },
      {
       "output_type": "stream",
       "stream": "stdout",
       "text": [
        "yu "
       ]
      },
      {
       "output_type": "stream",
       "stream": "stdout",
       "text": [
        "yv "
       ]
      },
      {
       "output_type": "stream",
       "stream": "stdout",
       "text": [
        "yw "
       ]
      },
      {
       "output_type": "stream",
       "stream": "stdout",
       "text": [
        "yx "
       ]
      },
      {
       "output_type": "stream",
       "stream": "stdout",
       "text": [
        "yy "
       ]
      },
      {
       "output_type": "stream",
       "stream": "stdout",
       "text": [
        "yz "
       ]
      },
      {
       "output_type": "stream",
       "stream": "stdout",
       "text": [
        "za "
       ]
      },
      {
       "output_type": "stream",
       "stream": "stdout",
       "text": [
        "zb "
       ]
      },
      {
       "output_type": "stream",
       "stream": "stdout",
       "text": [
        "zc "
       ]
      },
      {
       "output_type": "stream",
       "stream": "stdout",
       "text": [
        "zd "
       ]
      },
      {
       "output_type": "stream",
       "stream": "stdout",
       "text": [
        "ze "
       ]
      },
      {
       "output_type": "stream",
       "stream": "stdout",
       "text": [
        "zf "
       ]
      },
      {
       "output_type": "stream",
       "stream": "stdout",
       "text": [
        "zg "
       ]
      },
      {
       "output_type": "stream",
       "stream": "stdout",
       "text": [
        "zh "
       ]
      },
      {
       "output_type": "stream",
       "stream": "stdout",
       "text": [
        "zi "
       ]
      },
      {
       "output_type": "stream",
       "stream": "stdout",
       "text": [
        "zj "
       ]
      },
      {
       "output_type": "stream",
       "stream": "stdout",
       "text": [
        "zk "
       ]
      },
      {
       "output_type": "stream",
       "stream": "stdout",
       "text": [
        "zl "
       ]
      },
      {
       "output_type": "stream",
       "stream": "stdout",
       "text": [
        "zm "
       ]
      },
      {
       "output_type": "stream",
       "stream": "stdout",
       "text": [
        "zn "
       ]
      },
      {
       "output_type": "stream",
       "stream": "stdout",
       "text": [
        "zo "
       ]
      },
      {
       "output_type": "stream",
       "stream": "stdout",
       "text": [
        "zp "
       ]
      },
      {
       "output_type": "stream",
       "stream": "stdout",
       "text": [
        "zq "
       ]
      },
      {
       "output_type": "stream",
       "stream": "stdout",
       "text": [
        "zr "
       ]
      },
      {
       "output_type": "stream",
       "stream": "stdout",
       "text": [
        "zs "
       ]
      },
      {
       "output_type": "stream",
       "stream": "stdout",
       "text": [
        "zt "
       ]
      },
      {
       "output_type": "stream",
       "stream": "stdout",
       "text": [
        "zu "
       ]
      },
      {
       "output_type": "stream",
       "stream": "stdout",
       "text": [
        "zv "
       ]
      },
      {
       "output_type": "stream",
       "stream": "stdout",
       "text": [
        "zw "
       ]
      },
      {
       "output_type": "stream",
       "stream": "stdout",
       "text": [
        "zx "
       ]
      },
      {
       "output_type": "stream",
       "stream": "stdout",
       "text": [
        "zy "
       ]
      },
      {
       "output_type": "stream",
       "stream": "stdout",
       "text": [
        "zz "
       ]
      },
      {
       "output_type": "stream",
       "stream": "stdout",
       "text": [
        "['ma', 'na', 'on', 'ra']\n"
       ]
      }
     ],
     "prompt_number": 4
    },
    {
     "cell_type": "code",
     "collapsed": false,
     "input": [
      "soup = BeautifulSoup(html)\n",
      "trlist = []\n",
      "for tr in soup.find_all('tr'):\n",
      "  if str(tr)[:18] == '<tr><td class=\\\"tan':\n",
      "      trlist.append(tr)\n",
      "# for item in trlist:\n",
      "#   if str(item)[21:24].lower() == bigram:\n",
      "#       names.append(item)"
     ],
     "language": "python",
     "metadata": {},
     "outputs": [],
     "prompt_number": 11
    },
    {
     "cell_type": "code",
     "collapsed": false,
     "input": [
      "str(soup.find_all('tr')[10])[:18]"
     ],
     "language": "python",
     "metadata": {},
     "outputs": [
      {
       "metadata": {},
       "output_type": "pyout",
       "prompt_number": 19,
       "text": [
        "'<tr><td class=\"tan'"
       ]
      }
     ],
     "prompt_number": 19
    },
    {
     "cell_type": "code",
     "collapsed": false,
     "input": [
      "print problems\n",
      "toredo = ['al', 'an', 'ar', 'el', 'en', 'ha', 'ia', 'in', 'la', 'ma', 'na', 'on', 'ra']\n",
      "trigrams = []\n",
      "for problem in toredo:\n",
      "    for ltr in alphabet:\n",
      "        trigrams.append(problem+ltr)"
     ],
     "language": "python",
     "metadata": {},
     "outputs": [
      {
       "output_type": "stream",
       "stream": "stdout",
       "text": [
        "['ma', 'na', 'on', 'ra']\n"
       ]
      }
     ],
     "prompt_number": 5
    },
    {
     "cell_type": "code",
     "collapsed": false,
     "input": [
      "moreproblems = []\n",
      "names = []\n",
      "\n",
      "for trigram in trigrams:\n",
      "    response = br.open(\"http://incompetech.com/named/\")\n",
      "    print trigram,\n",
      "    time.sleep(randrange(5)*3+1)\n",
      "    thispage = 1\n",
      "    br.form = list(br.forms())[0]  # use when form is unnamed\n",
      "    namecontrol = br.form.find_control(\"name\")\n",
      "    namecontrol.value = trigram\n",
      "    formresponse = br.submit()\n",
      "    html = formresponse.read()\n",
      "    extract(html, trigram)\n",
      "    if html.find(\"You can narrow your search in the following ways\") > -1:\n",
      "        moreproblems.append(trigram)\n",
      "    else:\n",
      "        stopit = False\n",
      "        while stopit == False:\n",
      "            thispage += 1\n",
      "            linknames = []\n",
      "            for link in br.links():\n",
      "                linknames.append(link.text)\n",
      "            if str(thispage) in linknames:\n",
      "                for link in br.links():\n",
      "                    if link.text == str(thispage):\n",
      "                        request = br.click_link(link)\n",
      "                        response = br.follow_link(link)\n",
      "                        html = response.read()\n",
      "                        extract(html, trigram)\n",
      "            else:\n",
      "                stopit = True\n",
      "                \n",
      "        time.sleep(randrange(4)*2+1)\n",
      "    #br.back()\n",
      "print \" \"\n",
      "print moreproblems\n",
      "with open('incompetechtri.txt', 'w+') as f:\n",
      "  for name in names:\n",
      "        f.write(str(name)+'\\n')"
     ],
     "language": "python",
     "metadata": {},
     "outputs": [
      {
       "output_type": "stream",
       "stream": "stdout",
       "text": [
        "ala "
       ]
      },
      {
       "output_type": "stream",
       "stream": "stdout",
       "text": [
        "alb "
       ]
      },
      {
       "output_type": "stream",
       "stream": "stdout",
       "text": [
        "alc "
       ]
      },
      {
       "output_type": "stream",
       "stream": "stdout",
       "text": [
        "ald "
       ]
      },
      {
       "output_type": "stream",
       "stream": "stdout",
       "text": [
        "ale "
       ]
      },
      {
       "output_type": "stream",
       "stream": "stdout",
       "text": [
        "alf "
       ]
      },
      {
       "output_type": "stream",
       "stream": "stdout",
       "text": [
        "alg "
       ]
      },
      {
       "output_type": "stream",
       "stream": "stdout",
       "text": [
        "alh "
       ]
      },
      {
       "output_type": "stream",
       "stream": "stdout",
       "text": [
        "ali "
       ]
      },
      {
       "output_type": "stream",
       "stream": "stdout",
       "text": [
        "alj "
       ]
      },
      {
       "output_type": "stream",
       "stream": "stdout",
       "text": [
        "alk "
       ]
      },
      {
       "output_type": "stream",
       "stream": "stdout",
       "text": [
        "all "
       ]
      },
      {
       "output_type": "stream",
       "stream": "stdout",
       "text": [
        "alm "
       ]
      },
      {
       "output_type": "stream",
       "stream": "stdout",
       "text": [
        "aln "
       ]
      },
      {
       "output_type": "stream",
       "stream": "stdout",
       "text": [
        "alo "
       ]
      },
      {
       "output_type": "stream",
       "stream": "stdout",
       "text": [
        "alp "
       ]
      },
      {
       "output_type": "stream",
       "stream": "stdout",
       "text": [
        "alq "
       ]
      },
      {
       "output_type": "stream",
       "stream": "stdout",
       "text": [
        "alr "
       ]
      },
      {
       "output_type": "stream",
       "stream": "stdout",
       "text": [
        "als "
       ]
      },
      {
       "output_type": "stream",
       "stream": "stdout",
       "text": [
        "alt "
       ]
      },
      {
       "output_type": "stream",
       "stream": "stdout",
       "text": [
        "alu "
       ]
      },
      {
       "output_type": "stream",
       "stream": "stdout",
       "text": [
        "alv "
       ]
      },
      {
       "output_type": "stream",
       "stream": "stdout",
       "text": [
        "alw "
       ]
      },
      {
       "output_type": "stream",
       "stream": "stdout",
       "text": [
        "alx "
       ]
      },
      {
       "output_type": "stream",
       "stream": "stdout",
       "text": [
        "aly "
       ]
      },
      {
       "output_type": "stream",
       "stream": "stdout",
       "text": [
        "alz "
       ]
      },
      {
       "output_type": "stream",
       "stream": "stdout",
       "text": [
        "ana "
       ]
      },
      {
       "output_type": "stream",
       "stream": "stdout",
       "text": [
        "anb "
       ]
      },
      {
       "output_type": "stream",
       "stream": "stdout",
       "text": [
        "anc "
       ]
      },
      {
       "output_type": "stream",
       "stream": "stdout",
       "text": [
        "and "
       ]
      },
      {
       "output_type": "stream",
       "stream": "stdout",
       "text": [
        "ane "
       ]
      },
      {
       "output_type": "stream",
       "stream": "stdout",
       "text": [
        "anf "
       ]
      },
      {
       "output_type": "stream",
       "stream": "stdout",
       "text": [
        "ang "
       ]
      },
      {
       "output_type": "stream",
       "stream": "stdout",
       "text": [
        "anh "
       ]
      },
      {
       "output_type": "stream",
       "stream": "stdout",
       "text": [
        "ani "
       ]
      },
      {
       "output_type": "stream",
       "stream": "stdout",
       "text": [
        "anj "
       ]
      },
      {
       "output_type": "stream",
       "stream": "stdout",
       "text": [
        "ank "
       ]
      },
      {
       "output_type": "stream",
       "stream": "stdout",
       "text": [
        "anl "
       ]
      },
      {
       "output_type": "stream",
       "stream": "stdout",
       "text": [
        "anm "
       ]
      },
      {
       "output_type": "stream",
       "stream": "stdout",
       "text": [
        "ann "
       ]
      },
      {
       "output_type": "stream",
       "stream": "stdout",
       "text": [
        "ano "
       ]
      },
      {
       "output_type": "stream",
       "stream": "stdout",
       "text": [
        "anp "
       ]
      },
      {
       "output_type": "stream",
       "stream": "stdout",
       "text": [
        "anq "
       ]
      },
      {
       "output_type": "stream",
       "stream": "stdout",
       "text": [
        "anr "
       ]
      },
      {
       "output_type": "stream",
       "stream": "stdout",
       "text": [
        "ans "
       ]
      },
      {
       "output_type": "stream",
       "stream": "stdout",
       "text": [
        "ant "
       ]
      },
      {
       "output_type": "stream",
       "stream": "stdout",
       "text": [
        "anu "
       ]
      },
      {
       "output_type": "stream",
       "stream": "stdout",
       "text": [
        "anv "
       ]
      },
      {
       "output_type": "stream",
       "stream": "stdout",
       "text": [
        "anw "
       ]
      },
      {
       "output_type": "stream",
       "stream": "stdout",
       "text": [
        "anx "
       ]
      },
      {
       "output_type": "stream",
       "stream": "stdout",
       "text": [
        "any "
       ]
      },
      {
       "output_type": "stream",
       "stream": "stdout",
       "text": [
        "anz "
       ]
      },
      {
       "output_type": "stream",
       "stream": "stdout",
       "text": [
        "ara "
       ]
      },
      {
       "output_type": "stream",
       "stream": "stdout",
       "text": [
        "arb "
       ]
      },
      {
       "output_type": "stream",
       "stream": "stdout",
       "text": [
        "arc "
       ]
      },
      {
       "output_type": "stream",
       "stream": "stdout",
       "text": [
        "ard "
       ]
      },
      {
       "output_type": "stream",
       "stream": "stdout",
       "text": [
        "are "
       ]
      },
      {
       "output_type": "stream",
       "stream": "stdout",
       "text": [
        "arf "
       ]
      },
      {
       "output_type": "stream",
       "stream": "stdout",
       "text": [
        "arg "
       ]
      },
      {
       "output_type": "stream",
       "stream": "stdout",
       "text": [
        "arh "
       ]
      },
      {
       "output_type": "stream",
       "stream": "stdout",
       "text": [
        "ari "
       ]
      },
      {
       "output_type": "stream",
       "stream": "stdout",
       "text": [
        "arj "
       ]
      },
      {
       "output_type": "stream",
       "stream": "stdout",
       "text": [
        "ark "
       ]
      },
      {
       "output_type": "stream",
       "stream": "stdout",
       "text": [
        "arl "
       ]
      },
      {
       "output_type": "stream",
       "stream": "stdout",
       "text": [
        "arm "
       ]
      },
      {
       "output_type": "stream",
       "stream": "stdout",
       "text": [
        "arn "
       ]
      },
      {
       "output_type": "stream",
       "stream": "stdout",
       "text": [
        "aro "
       ]
      },
      {
       "output_type": "stream",
       "stream": "stdout",
       "text": [
        "arp "
       ]
      },
      {
       "output_type": "stream",
       "stream": "stdout",
       "text": [
        "arq "
       ]
      },
      {
       "output_type": "stream",
       "stream": "stdout",
       "text": [
        "arr "
       ]
      },
      {
       "output_type": "stream",
       "stream": "stdout",
       "text": [
        "ars "
       ]
      },
      {
       "output_type": "stream",
       "stream": "stdout",
       "text": [
        "art "
       ]
      },
      {
       "output_type": "stream",
       "stream": "stdout",
       "text": [
        "aru "
       ]
      },
      {
       "output_type": "stream",
       "stream": "stdout",
       "text": [
        "arv "
       ]
      },
      {
       "output_type": "stream",
       "stream": "stdout",
       "text": [
        "arw "
       ]
      },
      {
       "output_type": "stream",
       "stream": "stdout",
       "text": [
        "arx "
       ]
      },
      {
       "output_type": "stream",
       "stream": "stdout",
       "text": [
        "ary "
       ]
      },
      {
       "output_type": "stream",
       "stream": "stdout",
       "text": [
        "arz "
       ]
      },
      {
       "output_type": "stream",
       "stream": "stdout",
       "text": [
        "ela "
       ]
      },
      {
       "output_type": "stream",
       "stream": "stdout",
       "text": [
        "elb "
       ]
      },
      {
       "output_type": "stream",
       "stream": "stdout",
       "text": [
        "elc "
       ]
      },
      {
       "output_type": "stream",
       "stream": "stdout",
       "text": [
        "eld "
       ]
      },
      {
       "output_type": "stream",
       "stream": "stdout",
       "text": [
        "ele "
       ]
      },
      {
       "output_type": "stream",
       "stream": "stdout",
       "text": [
        "elf "
       ]
      },
      {
       "output_type": "stream",
       "stream": "stdout",
       "text": [
        "elg "
       ]
      },
      {
       "output_type": "stream",
       "stream": "stdout",
       "text": [
        "elh "
       ]
      },
      {
       "output_type": "stream",
       "stream": "stdout",
       "text": [
        "eli "
       ]
      },
      {
       "output_type": "stream",
       "stream": "stdout",
       "text": [
        "elj "
       ]
      },
      {
       "output_type": "stream",
       "stream": "stdout",
       "text": [
        "elk "
       ]
      },
      {
       "output_type": "stream",
       "stream": "stdout",
       "text": [
        "ell "
       ]
      },
      {
       "output_type": "stream",
       "stream": "stdout",
       "text": [
        "elm "
       ]
      },
      {
       "output_type": "stream",
       "stream": "stdout",
       "text": [
        "eln "
       ]
      },
      {
       "output_type": "stream",
       "stream": "stdout",
       "text": [
        "elo "
       ]
      },
      {
       "output_type": "stream",
       "stream": "stdout",
       "text": [
        "elp "
       ]
      },
      {
       "output_type": "stream",
       "stream": "stdout",
       "text": [
        "elq "
       ]
      },
      {
       "output_type": "stream",
       "stream": "stdout",
       "text": [
        "elr "
       ]
      },
      {
       "output_type": "stream",
       "stream": "stdout",
       "text": [
        "els "
       ]
      },
      {
       "output_type": "stream",
       "stream": "stdout",
       "text": [
        "elt "
       ]
      },
      {
       "output_type": "stream",
       "stream": "stdout",
       "text": [
        "elu "
       ]
      },
      {
       "output_type": "stream",
       "stream": "stdout",
       "text": [
        "elv "
       ]
      },
      {
       "output_type": "stream",
       "stream": "stdout",
       "text": [
        "elw "
       ]
      },
      {
       "output_type": "stream",
       "stream": "stdout",
       "text": [
        "elx "
       ]
      },
      {
       "output_type": "stream",
       "stream": "stdout",
       "text": [
        "ely "
       ]
      },
      {
       "output_type": "stream",
       "stream": "stdout",
       "text": [
        "elz "
       ]
      },
      {
       "output_type": "stream",
       "stream": "stdout",
       "text": [
        "ena "
       ]
      },
      {
       "output_type": "stream",
       "stream": "stdout",
       "text": [
        "enb "
       ]
      },
      {
       "output_type": "stream",
       "stream": "stdout",
       "text": [
        "enc "
       ]
      },
      {
       "output_type": "stream",
       "stream": "stdout",
       "text": [
        "end "
       ]
      },
      {
       "output_type": "stream",
       "stream": "stdout",
       "text": [
        "ene "
       ]
      },
      {
       "output_type": "stream",
       "stream": "stdout",
       "text": [
        "enf "
       ]
      },
      {
       "output_type": "stream",
       "stream": "stdout",
       "text": [
        "eng "
       ]
      },
      {
       "output_type": "stream",
       "stream": "stdout",
       "text": [
        "enh "
       ]
      },
      {
       "output_type": "stream",
       "stream": "stdout",
       "text": [
        "eni "
       ]
      },
      {
       "output_type": "stream",
       "stream": "stdout",
       "text": [
        "enj "
       ]
      },
      {
       "output_type": "stream",
       "stream": "stdout",
       "text": [
        "enk "
       ]
      },
      {
       "output_type": "stream",
       "stream": "stdout",
       "text": [
        "enl "
       ]
      },
      {
       "output_type": "stream",
       "stream": "stdout",
       "text": [
        "enm "
       ]
      },
      {
       "output_type": "stream",
       "stream": "stdout",
       "text": [
        "enn "
       ]
      },
      {
       "output_type": "stream",
       "stream": "stdout",
       "text": [
        "eno "
       ]
      },
      {
       "output_type": "stream",
       "stream": "stdout",
       "text": [
        "enp "
       ]
      },
      {
       "output_type": "stream",
       "stream": "stdout",
       "text": [
        "enq "
       ]
      },
      {
       "output_type": "stream",
       "stream": "stdout",
       "text": [
        "enr "
       ]
      },
      {
       "output_type": "stream",
       "stream": "stdout",
       "text": [
        "ens "
       ]
      },
      {
       "output_type": "stream",
       "stream": "stdout",
       "text": [
        "ent "
       ]
      },
      {
       "output_type": "stream",
       "stream": "stdout",
       "text": [
        "enu "
       ]
      },
      {
       "output_type": "stream",
       "stream": "stdout",
       "text": [
        "env "
       ]
      },
      {
       "output_type": "stream",
       "stream": "stdout",
       "text": [
        "enw "
       ]
      },
      {
       "output_type": "stream",
       "stream": "stdout",
       "text": [
        "enx "
       ]
      },
      {
       "output_type": "stream",
       "stream": "stdout",
       "text": [
        "eny "
       ]
      },
      {
       "output_type": "stream",
       "stream": "stdout",
       "text": [
        "enz "
       ]
      },
      {
       "output_type": "stream",
       "stream": "stdout",
       "text": [
        "haa "
       ]
      },
      {
       "output_type": "stream",
       "stream": "stdout",
       "text": [
        "hab "
       ]
      },
      {
       "output_type": "stream",
       "stream": "stdout",
       "text": [
        "hac "
       ]
      },
      {
       "output_type": "stream",
       "stream": "stdout",
       "text": [
        "had "
       ]
      },
      {
       "output_type": "stream",
       "stream": "stdout",
       "text": [
        "hae "
       ]
      },
      {
       "output_type": "stream",
       "stream": "stdout",
       "text": [
        "haf "
       ]
      },
      {
       "output_type": "stream",
       "stream": "stdout",
       "text": [
        "hag "
       ]
      },
      {
       "output_type": "stream",
       "stream": "stdout",
       "text": [
        "hah "
       ]
      },
      {
       "output_type": "stream",
       "stream": "stdout",
       "text": [
        "hai "
       ]
      },
      {
       "output_type": "stream",
       "stream": "stdout",
       "text": [
        "haj "
       ]
      },
      {
       "output_type": "stream",
       "stream": "stdout",
       "text": [
        "hak "
       ]
      },
      {
       "output_type": "stream",
       "stream": "stdout",
       "text": [
        "hal "
       ]
      },
      {
       "output_type": "stream",
       "stream": "stdout",
       "text": [
        "ham "
       ]
      },
      {
       "output_type": "stream",
       "stream": "stdout",
       "text": [
        "han "
       ]
      },
      {
       "output_type": "stream",
       "stream": "stdout",
       "text": [
        "hao "
       ]
      },
      {
       "output_type": "stream",
       "stream": "stdout",
       "text": [
        "hap "
       ]
      },
      {
       "output_type": "stream",
       "stream": "stdout",
       "text": [
        "haq "
       ]
      },
      {
       "output_type": "stream",
       "stream": "stdout",
       "text": [
        "har "
       ]
      },
      {
       "output_type": "stream",
       "stream": "stdout",
       "text": [
        "has "
       ]
      },
      {
       "output_type": "stream",
       "stream": "stdout",
       "text": [
        "hat "
       ]
      },
      {
       "output_type": "stream",
       "stream": "stdout",
       "text": [
        "hau "
       ]
      },
      {
       "output_type": "stream",
       "stream": "stdout",
       "text": [
        "hav "
       ]
      },
      {
       "output_type": "stream",
       "stream": "stdout",
       "text": [
        "haw "
       ]
      },
      {
       "output_type": "stream",
       "stream": "stdout",
       "text": [
        "hax "
       ]
      },
      {
       "output_type": "stream",
       "stream": "stdout",
       "text": [
        "hay "
       ]
      },
      {
       "output_type": "stream",
       "stream": "stdout",
       "text": [
        "haz "
       ]
      },
      {
       "output_type": "stream",
       "stream": "stdout",
       "text": [
        "iaa "
       ]
      },
      {
       "output_type": "stream",
       "stream": "stdout",
       "text": [
        "iab "
       ]
      },
      {
       "output_type": "stream",
       "stream": "stdout",
       "text": [
        "iac "
       ]
      },
      {
       "output_type": "stream",
       "stream": "stdout",
       "text": [
        "iad "
       ]
      },
      {
       "output_type": "stream",
       "stream": "stdout",
       "text": [
        "iae "
       ]
      },
      {
       "output_type": "stream",
       "stream": "stdout",
       "text": [
        "iaf "
       ]
      },
      {
       "output_type": "stream",
       "stream": "stdout",
       "text": [
        "iag "
       ]
      },
      {
       "output_type": "stream",
       "stream": "stdout",
       "text": [
        "iah "
       ]
      },
      {
       "output_type": "stream",
       "stream": "stdout",
       "text": [
        "iai "
       ]
      },
      {
       "output_type": "stream",
       "stream": "stdout",
       "text": [
        "iaj "
       ]
      },
      {
       "output_type": "stream",
       "stream": "stdout",
       "text": [
        "iak "
       ]
      },
      {
       "output_type": "stream",
       "stream": "stdout",
       "text": [
        "ial "
       ]
      },
      {
       "output_type": "stream",
       "stream": "stdout",
       "text": [
        "iam "
       ]
      },
      {
       "output_type": "stream",
       "stream": "stdout",
       "text": [
        "ian "
       ]
      },
      {
       "output_type": "stream",
       "stream": "stdout",
       "text": [
        "iao "
       ]
      },
      {
       "output_type": "stream",
       "stream": "stdout",
       "text": [
        "iap "
       ]
      },
      {
       "output_type": "stream",
       "stream": "stdout",
       "text": [
        "iaq "
       ]
      },
      {
       "output_type": "stream",
       "stream": "stdout",
       "text": [
        "iar "
       ]
      },
      {
       "output_type": "stream",
       "stream": "stdout",
       "text": [
        "ias "
       ]
      },
      {
       "output_type": "stream",
       "stream": "stdout",
       "text": [
        "iat "
       ]
      },
      {
       "output_type": "stream",
       "stream": "stdout",
       "text": [
        "iau "
       ]
      },
      {
       "output_type": "stream",
       "stream": "stdout",
       "text": [
        "iav "
       ]
      },
      {
       "output_type": "stream",
       "stream": "stdout",
       "text": [
        "iaw "
       ]
      },
      {
       "output_type": "stream",
       "stream": "stdout",
       "text": [
        "iax "
       ]
      },
      {
       "output_type": "stream",
       "stream": "stdout",
       "text": [
        "iay "
       ]
      },
      {
       "output_type": "stream",
       "stream": "stdout",
       "text": [
        "iaz "
       ]
      },
      {
       "output_type": "stream",
       "stream": "stdout",
       "text": [
        "ina "
       ]
      },
      {
       "output_type": "stream",
       "stream": "stdout",
       "text": [
        "inb "
       ]
      },
      {
       "output_type": "stream",
       "stream": "stdout",
       "text": [
        "inc "
       ]
      },
      {
       "output_type": "stream",
       "stream": "stdout",
       "text": [
        "ind "
       ]
      },
      {
       "output_type": "stream",
       "stream": "stdout",
       "text": [
        "ine "
       ]
      },
      {
       "output_type": "stream",
       "stream": "stdout",
       "text": [
        "inf "
       ]
      },
      {
       "output_type": "stream",
       "stream": "stdout",
       "text": [
        "ing "
       ]
      },
      {
       "output_type": "stream",
       "stream": "stdout",
       "text": [
        "inh "
       ]
      },
      {
       "output_type": "stream",
       "stream": "stdout",
       "text": [
        "ini "
       ]
      },
      {
       "output_type": "stream",
       "stream": "stdout",
       "text": [
        "inj "
       ]
      },
      {
       "output_type": "stream",
       "stream": "stdout",
       "text": [
        "ink "
       ]
      },
      {
       "output_type": "stream",
       "stream": "stdout",
       "text": [
        "inl "
       ]
      },
      {
       "output_type": "stream",
       "stream": "stdout",
       "text": [
        "inm "
       ]
      },
      {
       "output_type": "stream",
       "stream": "stdout",
       "text": [
        "inn "
       ]
      },
      {
       "output_type": "stream",
       "stream": "stdout",
       "text": [
        "ino "
       ]
      },
      {
       "output_type": "stream",
       "stream": "stdout",
       "text": [
        "inp "
       ]
      },
      {
       "output_type": "stream",
       "stream": "stdout",
       "text": [
        "inq "
       ]
      },
      {
       "output_type": "stream",
       "stream": "stdout",
       "text": [
        "inr "
       ]
      },
      {
       "output_type": "stream",
       "stream": "stdout",
       "text": [
        "ins "
       ]
      },
      {
       "output_type": "stream",
       "stream": "stdout",
       "text": [
        "int "
       ]
      },
      {
       "output_type": "stream",
       "stream": "stdout",
       "text": [
        "inu "
       ]
      },
      {
       "output_type": "stream",
       "stream": "stdout",
       "text": [
        "inv "
       ]
      },
      {
       "output_type": "stream",
       "stream": "stdout",
       "text": [
        "inw "
       ]
      },
      {
       "output_type": "stream",
       "stream": "stdout",
       "text": [
        "inx "
       ]
      },
      {
       "output_type": "stream",
       "stream": "stdout",
       "text": [
        "iny "
       ]
      },
      {
       "output_type": "stream",
       "stream": "stdout",
       "text": [
        "inz "
       ]
      },
      {
       "output_type": "stream",
       "stream": "stdout",
       "text": [
        "laa "
       ]
      },
      {
       "output_type": "stream",
       "stream": "stdout",
       "text": [
        "lab "
       ]
      },
      {
       "output_type": "stream",
       "stream": "stdout",
       "text": [
        "lac "
       ]
      },
      {
       "output_type": "stream",
       "stream": "stdout",
       "text": [
        "lad "
       ]
      },
      {
       "output_type": "stream",
       "stream": "stdout",
       "text": [
        "lae "
       ]
      },
      {
       "output_type": "stream",
       "stream": "stdout",
       "text": [
        "laf "
       ]
      },
      {
       "output_type": "stream",
       "stream": "stdout",
       "text": [
        "lag "
       ]
      },
      {
       "output_type": "stream",
       "stream": "stdout",
       "text": [
        "lah "
       ]
      },
      {
       "output_type": "stream",
       "stream": "stdout",
       "text": [
        "lai "
       ]
      },
      {
       "output_type": "stream",
       "stream": "stdout",
       "text": [
        "laj "
       ]
      },
      {
       "output_type": "stream",
       "stream": "stdout",
       "text": [
        "lak "
       ]
      },
      {
       "output_type": "stream",
       "stream": "stdout",
       "text": [
        "lal "
       ]
      },
      {
       "output_type": "stream",
       "stream": "stdout",
       "text": [
        "lam "
       ]
      },
      {
       "output_type": "stream",
       "stream": "stdout",
       "text": [
        "lan "
       ]
      },
      {
       "output_type": "stream",
       "stream": "stdout",
       "text": [
        "lao "
       ]
      },
      {
       "output_type": "stream",
       "stream": "stdout",
       "text": [
        "lap "
       ]
      },
      {
       "output_type": "stream",
       "stream": "stdout",
       "text": [
        "laq "
       ]
      },
      {
       "output_type": "stream",
       "stream": "stdout",
       "text": [
        "lar "
       ]
      },
      {
       "output_type": "stream",
       "stream": "stdout",
       "text": [
        "las "
       ]
      },
      {
       "output_type": "stream",
       "stream": "stdout",
       "text": [
        "lat "
       ]
      },
      {
       "output_type": "stream",
       "stream": "stdout",
       "text": [
        "lau "
       ]
      },
      {
       "output_type": "stream",
       "stream": "stdout",
       "text": [
        "lav "
       ]
      },
      {
       "output_type": "stream",
       "stream": "stdout",
       "text": [
        "law "
       ]
      },
      {
       "output_type": "stream",
       "stream": "stdout",
       "text": [
        "lax "
       ]
      },
      {
       "output_type": "stream",
       "stream": "stdout",
       "text": [
        "lay "
       ]
      },
      {
       "output_type": "stream",
       "stream": "stdout",
       "text": [
        "laz "
       ]
      },
      {
       "output_type": "stream",
       "stream": "stdout",
       "text": [
        "maa "
       ]
      },
      {
       "output_type": "stream",
       "stream": "stdout",
       "text": [
        "mab "
       ]
      },
      {
       "output_type": "stream",
       "stream": "stdout",
       "text": [
        "mac "
       ]
      },
      {
       "output_type": "stream",
       "stream": "stdout",
       "text": [
        "mad "
       ]
      },
      {
       "output_type": "stream",
       "stream": "stdout",
       "text": [
        "mae "
       ]
      },
      {
       "output_type": "stream",
       "stream": "stdout",
       "text": [
        "maf "
       ]
      },
      {
       "output_type": "stream",
       "stream": "stdout",
       "text": [
        "mag "
       ]
      },
      {
       "output_type": "stream",
       "stream": "stdout",
       "text": [
        "mah "
       ]
      },
      {
       "output_type": "stream",
       "stream": "stdout",
       "text": [
        "mai "
       ]
      },
      {
       "output_type": "stream",
       "stream": "stdout",
       "text": [
        "maj "
       ]
      },
      {
       "output_type": "stream",
       "stream": "stdout",
       "text": [
        "mak "
       ]
      },
      {
       "output_type": "stream",
       "stream": "stdout",
       "text": [
        "mal "
       ]
      },
      {
       "output_type": "stream",
       "stream": "stdout",
       "text": [
        "mam "
       ]
      },
      {
       "output_type": "stream",
       "stream": "stdout",
       "text": [
        "man "
       ]
      },
      {
       "output_type": "stream",
       "stream": "stdout",
       "text": [
        "mao "
       ]
      },
      {
       "output_type": "stream",
       "stream": "stdout",
       "text": [
        "map "
       ]
      },
      {
       "output_type": "stream",
       "stream": "stdout",
       "text": [
        "maq "
       ]
      },
      {
       "output_type": "stream",
       "stream": "stdout",
       "text": [
        "mar "
       ]
      },
      {
       "output_type": "stream",
       "stream": "stdout",
       "text": [
        "mas "
       ]
      },
      {
       "output_type": "stream",
       "stream": "stdout",
       "text": [
        "mat "
       ]
      },
      {
       "output_type": "stream",
       "stream": "stdout",
       "text": [
        "mau "
       ]
      },
      {
       "output_type": "stream",
       "stream": "stdout",
       "text": [
        "mav "
       ]
      },
      {
       "output_type": "stream",
       "stream": "stdout",
       "text": [
        "maw "
       ]
      },
      {
       "output_type": "stream",
       "stream": "stdout",
       "text": [
        "max "
       ]
      },
      {
       "output_type": "stream",
       "stream": "stdout",
       "text": [
        "may "
       ]
      },
      {
       "output_type": "stream",
       "stream": "stdout",
       "text": [
        "maz "
       ]
      },
      {
       "output_type": "stream",
       "stream": "stdout",
       "text": [
        "naa "
       ]
      },
      {
       "output_type": "stream",
       "stream": "stdout",
       "text": [
        "nab "
       ]
      },
      {
       "output_type": "stream",
       "stream": "stdout",
       "text": [
        "nac "
       ]
      },
      {
       "output_type": "stream",
       "stream": "stdout",
       "text": [
        "nad "
       ]
      },
      {
       "output_type": "stream",
       "stream": "stdout",
       "text": [
        "nae "
       ]
      },
      {
       "output_type": "stream",
       "stream": "stdout",
       "text": [
        "naf "
       ]
      },
      {
       "output_type": "stream",
       "stream": "stdout",
       "text": [
        "nag "
       ]
      },
      {
       "output_type": "stream",
       "stream": "stdout",
       "text": [
        "nah "
       ]
      },
      {
       "output_type": "stream",
       "stream": "stdout",
       "text": [
        "nai "
       ]
      },
      {
       "output_type": "stream",
       "stream": "stdout",
       "text": [
        "naj "
       ]
      },
      {
       "output_type": "stream",
       "stream": "stdout",
       "text": [
        "nak "
       ]
      },
      {
       "output_type": "stream",
       "stream": "stdout",
       "text": [
        "nal "
       ]
      },
      {
       "output_type": "stream",
       "stream": "stdout",
       "text": [
        "nam "
       ]
      },
      {
       "output_type": "stream",
       "stream": "stdout",
       "text": [
        "nan "
       ]
      },
      {
       "output_type": "stream",
       "stream": "stdout",
       "text": [
        "nao "
       ]
      },
      {
       "output_type": "stream",
       "stream": "stdout",
       "text": [
        "nap "
       ]
      },
      {
       "output_type": "stream",
       "stream": "stdout",
       "text": [
        "naq "
       ]
      },
      {
       "output_type": "stream",
       "stream": "stdout",
       "text": [
        "nar "
       ]
      },
      {
       "output_type": "stream",
       "stream": "stdout",
       "text": [
        "nas "
       ]
      },
      {
       "output_type": "stream",
       "stream": "stdout",
       "text": [
        "nat "
       ]
      },
      {
       "output_type": "stream",
       "stream": "stdout",
       "text": [
        "nau "
       ]
      },
      {
       "output_type": "stream",
       "stream": "stdout",
       "text": [
        "nav "
       ]
      },
      {
       "output_type": "stream",
       "stream": "stdout",
       "text": [
        "naw "
       ]
      },
      {
       "output_type": "stream",
       "stream": "stdout",
       "text": [
        "nax "
       ]
      },
      {
       "output_type": "stream",
       "stream": "stdout",
       "text": [
        "nay "
       ]
      },
      {
       "output_type": "stream",
       "stream": "stdout",
       "text": [
        "naz "
       ]
      },
      {
       "output_type": "stream",
       "stream": "stdout",
       "text": [
        "ona "
       ]
      },
      {
       "output_type": "stream",
       "stream": "stdout",
       "text": [
        "onb "
       ]
      },
      {
       "output_type": "stream",
       "stream": "stdout",
       "text": [
        "onc "
       ]
      },
      {
       "output_type": "stream",
       "stream": "stdout",
       "text": [
        "ond "
       ]
      },
      {
       "output_type": "stream",
       "stream": "stdout",
       "text": [
        "one "
       ]
      },
      {
       "output_type": "stream",
       "stream": "stdout",
       "text": [
        "onf "
       ]
      },
      {
       "output_type": "stream",
       "stream": "stdout",
       "text": [
        "ong "
       ]
      },
      {
       "output_type": "stream",
       "stream": "stdout",
       "text": [
        "onh "
       ]
      },
      {
       "output_type": "stream",
       "stream": "stdout",
       "text": [
        "oni "
       ]
      },
      {
       "output_type": "stream",
       "stream": "stdout",
       "text": [
        "onj "
       ]
      },
      {
       "output_type": "stream",
       "stream": "stdout",
       "text": [
        "onk "
       ]
      },
      {
       "output_type": "stream",
       "stream": "stdout",
       "text": [
        "onl "
       ]
      },
      {
       "output_type": "stream",
       "stream": "stdout",
       "text": [
        "onm "
       ]
      },
      {
       "output_type": "stream",
       "stream": "stdout",
       "text": [
        "onn "
       ]
      },
      {
       "output_type": "stream",
       "stream": "stdout",
       "text": [
        "ono "
       ]
      },
      {
       "output_type": "stream",
       "stream": "stdout",
       "text": [
        "onp "
       ]
      },
      {
       "output_type": "stream",
       "stream": "stdout",
       "text": [
        "onq "
       ]
      },
      {
       "output_type": "stream",
       "stream": "stdout",
       "text": [
        "onr "
       ]
      },
      {
       "output_type": "stream",
       "stream": "stdout",
       "text": [
        "ons "
       ]
      },
      {
       "output_type": "stream",
       "stream": "stdout",
       "text": [
        "ont "
       ]
      },
      {
       "output_type": "stream",
       "stream": "stdout",
       "text": [
        "onu "
       ]
      },
      {
       "output_type": "stream",
       "stream": "stdout",
       "text": [
        "onv "
       ]
      },
      {
       "output_type": "stream",
       "stream": "stdout",
       "text": [
        "onw "
       ]
      },
      {
       "output_type": "stream",
       "stream": "stdout",
       "text": [
        "onx "
       ]
      },
      {
       "output_type": "stream",
       "stream": "stdout",
       "text": [
        "ony "
       ]
      },
      {
       "output_type": "stream",
       "stream": "stdout",
       "text": [
        "onz "
       ]
      },
      {
       "output_type": "stream",
       "stream": "stdout",
       "text": [
        "raa "
       ]
      },
      {
       "output_type": "stream",
       "stream": "stdout",
       "text": [
        "rab "
       ]
      },
      {
       "output_type": "stream",
       "stream": "stdout",
       "text": [
        "rac "
       ]
      },
      {
       "output_type": "stream",
       "stream": "stdout",
       "text": [
        "rad "
       ]
      },
      {
       "output_type": "stream",
       "stream": "stdout",
       "text": [
        "rae "
       ]
      },
      {
       "output_type": "stream",
       "stream": "stdout",
       "text": [
        "raf "
       ]
      },
      {
       "output_type": "stream",
       "stream": "stdout",
       "text": [
        "rag "
       ]
      },
      {
       "output_type": "stream",
       "stream": "stdout",
       "text": [
        "rah "
       ]
      },
      {
       "output_type": "stream",
       "stream": "stdout",
       "text": [
        "rai "
       ]
      },
      {
       "output_type": "stream",
       "stream": "stdout",
       "text": [
        "raj "
       ]
      },
      {
       "output_type": "stream",
       "stream": "stdout",
       "text": [
        "rak "
       ]
      },
      {
       "output_type": "stream",
       "stream": "stdout",
       "text": [
        "ral "
       ]
      },
      {
       "output_type": "stream",
       "stream": "stdout",
       "text": [
        "ram "
       ]
      },
      {
       "output_type": "stream",
       "stream": "stdout",
       "text": [
        "ran "
       ]
      },
      {
       "output_type": "stream",
       "stream": "stdout",
       "text": [
        "rao "
       ]
      },
      {
       "output_type": "stream",
       "stream": "stdout",
       "text": [
        "rap "
       ]
      },
      {
       "output_type": "stream",
       "stream": "stdout",
       "text": [
        "raq "
       ]
      },
      {
       "output_type": "stream",
       "stream": "stdout",
       "text": [
        "rar "
       ]
      },
      {
       "output_type": "stream",
       "stream": "stdout",
       "text": [
        "ras "
       ]
      },
      {
       "output_type": "stream",
       "stream": "stdout",
       "text": [
        "rat "
       ]
      },
      {
       "output_type": "stream",
       "stream": "stdout",
       "text": [
        "rau "
       ]
      },
      {
       "output_type": "stream",
       "stream": "stdout",
       "text": [
        "rav "
       ]
      },
      {
       "output_type": "stream",
       "stream": "stdout",
       "text": [
        "raw "
       ]
      },
      {
       "output_type": "stream",
       "stream": "stdout",
       "text": [
        "rax "
       ]
      },
      {
       "output_type": "stream",
       "stream": "stdout",
       "text": [
        "ray "
       ]
      },
      {
       "output_type": "stream",
       "stream": "stdout",
       "text": [
        "raz "
       ]
      },
      {
       "output_type": "stream",
       "stream": "stdout",
       "text": [
        " \n",
        "[]\n"
       ]
      }
     ],
     "prompt_number": 21
    },
    {
     "cell_type": "code",
     "collapsed": false,
     "input": [
      "with open('incompetech.txt', 'w+') as f:\n",
      "  for name in names:\n",
      "        f.write(str(name)+'\\n')"
     ],
     "language": "python",
     "metadata": {},
     "outputs": [],
     "prompt_number": 14
    },
    {
     "cell_type": "code",
     "collapsed": false,
     "input": [
      "import pandas as pd\n",
      "df_meanings = pd.DataFrame()\n",
      "df_variants = pd.DataFrame()\n",
      "error_catcher = []\n",
      "\n",
      "with open('incompetechall.txt', 'r+') as f:\n",
      "    for line in f.readlines():\n",
      "        try:\n",
      "            ls = line.strip().split('\\t')\n",
      "            name = ls[0]\n",
      "            sex = ls[2]\n",
      "            if sex == 'Male':\n",
      "                sex = 'M'\n",
      "            if sex == 'Female':\n",
      "                sex = 'F'\n",
      "            df_meanings = df_meanings.append(pd.DataFrame({'name':[name], 'origin':[ls[1]], 'sex':[sex], 'meaning':[ls[3]]}), ignore_index=True)\n",
      "            if len(ls)>4:\n",
      "                vars = ls[4].split(', ')\n",
      "                for var in vars:\n",
      "                    df_variants = df_variants.append(pd.DataFrame({'name':[name], 'sex':[sex], 'variant':[var]}), ignore_index=True)\n",
      "        \n",
      "        except:\n",
      "            error_catcher.append(line)\n",
      "        \n",
      "                \n",
      "                \n",
      "print error_catcher\n",
      "\n",
      "df_meanings.reset_index(drop=True, inplace=True)\n",
      "df_variants.reset_index(drop=True, inplace=True)\n",
      "\n",
      "df_meanings.to_pickle('df_meaning.pickle')\n",
      "df_variants.to_pickle('df_variants.pickle')"
     ],
     "language": "python",
     "metadata": {},
     "outputs": [
      {
       "output_type": "stream",
       "stream": "stdout",
       "text": [
        "['Kafu\\tTongan\\tCovering\\n', 'Kawana\\tAustralian-Aboriginal\\tFemale\\n', 'Ligongo\\tAfrican-Male\\tWho is he?\\n', 'Trutta\\tAustralian-Aboriginal\\tFemale\\n', 'Wanikiya\\tNAm.-Indian---Lakota\\tMale\\t\\n', 'Lakkari\\tAustralian-Aboriginal\\tHoneysuckle tree\\n']\n"
       ]
      }
     ],
     "prompt_number": 1
    },
    {
     "cell_type": "code",
     "collapsed": false,
     "input": [
      "import pandas as pd"
     ],
     "language": "python",
     "metadata": {},
     "outputs": [],
     "prompt_number": 1
    },
    {
     "cell_type": "code",
     "collapsed": false,
     "input": [
      "df = pd.read_pickle('df_meaning.pickle')"
     ],
     "language": "python",
     "metadata": {},
     "outputs": [],
     "prompt_number": 11
    },
    {
     "cell_type": "code",
     "collapsed": false,
     "input": [],
     "language": "python",
     "metadata": {},
     "outputs": [],
     "prompt_number": 7
    },
    {
     "cell_type": "code",
     "collapsed": false,
     "input": [
      "df2 = pd.DataFrame()\n",
      "for idx, row in df.iterrows():\n",
      "    if df.sex[idx] == 'Male/Female' or df.sex[idx] == 'Both':\n",
      "        n = df.name[idx]\n",
      "        o = df.origin[idx]\n",
      "        m = df.meaning[idx]\n",
      "        df.sex[idx] = 'M'\n",
      "        df2 = df2.append(pd.DataFrame({'name':[n],'sex':['F'],'origin':[o],'meaning':[m]}), ignore_index = True)\n",
      "\n",
      "df.append(df2, ignore_index=True)\n",
      "df.reset_index(drop=True,inplace=True)"
     ],
     "language": "python",
     "metadata": {},
     "outputs": [],
     "prompt_number": 26
    },
    {
     "cell_type": "code",
     "collapsed": false,
     "input": [
      "df2 = df[(df.sex != 'F') & (df.sex != 'M')]\n",
      "df2"
     ],
     "language": "python",
     "metadata": {},
     "outputs": [
      {
       "html": [
        "<div style=\"max-height:1000px;max-width:1500px;overflow:auto;\">\n",
        "<table border=\"1\" class=\"dataframe\">\n",
        "  <thead>\n",
        "    <tr style=\"text-align: right;\">\n",
        "      <th></th>\n",
        "      <th>meaning</th>\n",
        "      <th>name</th>\n",
        "      <th>origin</th>\n",
        "      <th>sex</th>\n",
        "    </tr>\n",
        "  </thead>\n",
        "  <tbody>\n",
        "    <tr>\n",
        "      <th>5042 </th>\n",
        "      <td> Kerklan, Kirklan</td>\n",
        "      <td> Kirkland</td>\n",
        "      <td>      Old-English-Male</td>\n",
        "      <td> From the church land</td>\n",
        "    </tr>\n",
        "    <tr>\n",
        "      <th>6454 </th>\n",
        "      <td>    God will hear</td>\n",
        "      <td>   Osahar</td>\n",
        "      <td>               African</td>\n",
        "      <td>                 Male</td>\n",
        "    </tr>\n",
        "    <tr>\n",
        "      <th>7016 </th>\n",
        "      <td>             Rhet</td>\n",
        "      <td>    Rhett</td>\n",
        "      <td>           Old-English</td>\n",
        "      <td>       Mighty, strong</td>\n",
        "    </tr>\n",
        "    <tr>\n",
        "      <th>8955 </th>\n",
        "      <td>     Wahad, Wahib</td>\n",
        "      <td>   Wahhab</td>\n",
        "      <td>                Arabic</td>\n",
        "      <td>     Presenter, giver</td>\n",
        "    </tr>\n",
        "    <tr>\n",
        "      <th>9675 </th>\n",
        "      <td>           Female</td>\n",
        "      <td>    Alika</td>\n",
        "      <td>               African</td>\n",
        "      <td>           - Nigerian</td>\n",
        "    </tr>\n",
        "    <tr>\n",
        "      <th>9942 </th>\n",
        "      <td>            Arkel</td>\n",
        "      <td>   Arkell</td>\n",
        "      <td>             Old-Norse</td>\n",
        "      <td>       Eagle cauldron</td>\n",
        "    </tr>\n",
        "    <tr>\n",
        "      <th>10071</th>\n",
        "      <td>             Elis</td>\n",
        "      <td>    Ellis</td>\n",
        "      <td>                Hebrew</td>\n",
        "      <td>   The Lord is my God</td>\n",
        "    </tr>\n",
        "    <tr>\n",
        "      <th>10487</th>\n",
        "      <td>            Lemon</td>\n",
        "      <td>   Lamani</td>\n",
        "      <td>                Tongan</td>\n",
        "      <td>                 Male</td>\n",
        "    </tr>\n",
        "    <tr>\n",
        "      <th>10815</th>\n",
        "      <td>             Male</td>\n",
        "      <td>    Mansa</td>\n",
        "      <td>               African</td>\n",
        "      <td>            - Swahili</td>\n",
        "    </tr>\n",
        "    <tr>\n",
        "      <th>10845</th>\n",
        "      <td>             Male</td>\n",
        "      <td>   Marama</td>\n",
        "      <td>                      </td>\n",
        "      <td>           Polynesian</td>\n",
        "    </tr>\n",
        "    <tr>\n",
        "      <th>10943</th>\n",
        "      <td>           Massie</td>\n",
        "      <td>   Massey</td>\n",
        "      <td>           Old-English</td>\n",
        "      <td>                 Twin</td>\n",
        "    </tr>\n",
        "    <tr>\n",
        "      <th>11051</th>\n",
        "      <td>          Lookout</td>\n",
        "      <td>     Nain</td>\n",
        "      <td> Australian-Aboriginal</td>\n",
        "      <td>                 Male</td>\n",
        "    </tr>\n",
        "    <tr>\n",
        "      <th>11123</th>\n",
        "      <td>   Nerela, Narele</td>\n",
        "      <td>  Narelle</td>\n",
        "      <td> Australian-Aboriginal</td>\n",
        "      <td>   Woman from the sea</td>\n",
        "    </tr>\n",
        "  </tbody>\n",
        "</table>\n",
        "</div>"
       ],
       "metadata": {},
       "output_type": "pyout",
       "prompt_number": 27,
       "text": [
        "                meaning      name                 origin                   sex\n",
        "5042   Kerklan, Kirklan  Kirkland       Old-English-Male  From the church land\n",
        "6454      God will hear    Osahar                African                  Male\n",
        "7016               Rhet     Rhett            Old-English        Mighty, strong\n",
        "8955       Wahad, Wahib    Wahhab                 Arabic      Presenter, giver\n",
        "9675             Female     Alika                African            - Nigerian\n",
        "9942              Arkel    Arkell              Old-Norse        Eagle cauldron\n",
        "10071              Elis     Ellis                 Hebrew    The Lord is my God\n",
        "10487             Lemon    Lamani                 Tongan                  Male\n",
        "10815              Male     Mansa                African             - Swahili\n",
        "10845              Male    Marama                                   Polynesian\n",
        "10943            Massie    Massey            Old-English                  Twin\n",
        "11051           Lookout      Nain  Australian-Aboriginal                  Male\n",
        "11123    Nerela, Narele   Narelle  Australian-Aboriginal    Woman from the sea"
       ]
      }
     ],
     "prompt_number": 27
    },
    {
     "cell_type": "code",
     "collapsed": false,
     "input": [
      "dfv = pd.read_pickle('df_variants.pickle')"
     ],
     "language": "python",
     "metadata": {},
     "outputs": [],
     "prompt_number": 38
    },
    {
     "cell_type": "code",
     "collapsed": false,
     "input": [
      "df.meaning.ix[5042] = 'From the church land'\n",
      "df.origin.ix[5042] = 'Old-English'\n",
      "df.sex.ix[5042] = 'M'\n",
      "df.sex.ix[6454] = 'M'\n",
      "df.meaning.ix[7016] = 'Mighty, strong'\n",
      "df.sex.ix[7016] = 'M'\n",
      "df.meaning.ix[8955] = 'Presenter, giver'\n",
      "df.sex.ix[8955] = 'M'\n",
      "df.meaning.ix[9675] = 'Most beautiful'\n",
      "df.origin.ix[9675] = 'African---Nigerian'\n",
      "df.sex.ix[9675] = 'F'\n",
      "dfv = dfv[dfv.name != 'Alika']\n",
      "df.meaning.ix[9942] = 'Eagle cauldron'\n",
      "df.sex.ix[9942] = 'M'\n",
      "\n",
      "df.meaning.ix[10071] = 'The Lord is my God'\n",
      "df.sex.ix[10071] = 'M'\n",
      "\n",
      "df.sex.ix[10487] = 'M'\n",
      "\n",
      "df.meaning.ix[10815] = 'King'\n",
      "df.origin.ix[10815] = 'African---Swahili'\n",
      "df.sex.ix[10815] = 'M'\n",
      "dfv = dfv[dfv.name != 'Mansa']\n",
      "\n",
      "df.meaning.ix[10845] = 'Moon'\n",
      "df.origin.ix[10845] = 'Polynesian'\n",
      "df.sex.ix[10845] = 'M'\n",
      "dfv = dfv[dfv.name != 'Marama']\n",
      "\n",
      "df.meaning.ix[10943] = 'Twin'"
     ],
     "language": "python",
     "metadata": {},
     "outputs": [],
     "prompt_number": 33
    },
    {
     "cell_type": "code",
     "collapsed": false,
     "input": [
      "dv = {'name': ['Kirkland', 'Kirkland', 'Rhett', 'Wahhab', 'Wahhab', 'Arkell', 'Ellis', 'Massey', 'Narelle', 'Narelle'],\n",
      "      'variant': ['Kerklan', 'Kirklan', 'Rhet', 'Wahad', 'Wahib', 'Arkel', 'Elis', 'Massie', 'Nerela', 'Narele'],\n",
      "\t  'sex': ['M', 'M', 'M', 'M', 'M', 'M', 'M', 'M', 'F', 'F']}"
     ],
     "language": "python",
     "metadata": {},
     "outputs": [],
     "prompt_number": 40
    },
    {
     "cell_type": "code",
     "collapsed": false,
     "input": [
      "dfv=dfv.append(pd.DataFrame(dv))"
     ],
     "language": "python",
     "metadata": {},
     "outputs": [],
     "prompt_number": 41
    },
    {
     "cell_type": "code",
     "collapsed": false,
     "input": [
      "dfv.tail(50)"
     ],
     "language": "python",
     "metadata": {},
     "outputs": [
      {
       "html": [
        "<div style=\"max-height:1000px;max-width:1500px;overflow:auto;\">\n",
        "<table border=\"1\" class=\"dataframe\">\n",
        "  <thead>\n",
        "    <tr style=\"text-align: right;\">\n",
        "      <th></th>\n",
        "      <th>name</th>\n",
        "      <th>sex</th>\n",
        "      <th>variant</th>\n",
        "    </tr>\n",
        "  </thead>\n",
        "  <tbody>\n",
        "    <tr>\n",
        "      <th>16444</th>\n",
        "      <td>  Raymond</td>\n",
        "      <td> M</td>\n",
        "      <td>           Ramon</td>\n",
        "    </tr>\n",
        "    <tr>\n",
        "      <th>16445</th>\n",
        "      <td>  Raymond</td>\n",
        "      <td> M</td>\n",
        "      <td>          Ramond</td>\n",
        "    </tr>\n",
        "    <tr>\n",
        "      <th>16446</th>\n",
        "      <td>  Raymond</td>\n",
        "      <td> M</td>\n",
        "      <td>         Ramonde</td>\n",
        "    </tr>\n",
        "    <tr>\n",
        "      <th>16447</th>\n",
        "      <td>  Raymond</td>\n",
        "      <td> M</td>\n",
        "      <td>          Ramone</td>\n",
        "    </tr>\n",
        "    <tr>\n",
        "      <th>16448</th>\n",
        "      <td>  Raymond</td>\n",
        "      <td> M</td>\n",
        "      <td>             Ray</td>\n",
        "    </tr>\n",
        "    <tr>\n",
        "      <th>16449</th>\n",
        "      <td>  Raymond</td>\n",
        "      <td> M</td>\n",
        "      <td>         Rayment</td>\n",
        "    </tr>\n",
        "    <tr>\n",
        "      <th>16450</th>\n",
        "      <td>  Raymond</td>\n",
        "      <td> M</td>\n",
        "      <td> Reamonn (Irish)</td>\n",
        "    </tr>\n",
        "    <tr>\n",
        "      <th>16451</th>\n",
        "      <td>  Raymond</td>\n",
        "      <td> M</td>\n",
        "      <td>         Redmond</td>\n",
        "    </tr>\n",
        "    <tr>\n",
        "      <th>16452</th>\n",
        "      <td>  Raymond</td>\n",
        "      <td> M</td>\n",
        "      <td>         Reymond</td>\n",
        "    </tr>\n",
        "    <tr>\n",
        "      <th>16453</th>\n",
        "      <td>  Raymond</td>\n",
        "      <td> M</td>\n",
        "      <td>        Reymondo</td>\n",
        "    </tr>\n",
        "    <tr>\n",
        "      <th>16454</th>\n",
        "      <td> Raymonde</td>\n",
        "      <td> F</td>\n",
        "      <td>         Raemond</td>\n",
        "    </tr>\n",
        "    <tr>\n",
        "      <th>16455</th>\n",
        "      <td> Raymonde</td>\n",
        "      <td> F</td>\n",
        "      <td>        Raemonda</td>\n",
        "    </tr>\n",
        "    <tr>\n",
        "      <th>16456</th>\n",
        "      <td> Raymonde</td>\n",
        "      <td> F</td>\n",
        "      <td>         Raimond</td>\n",
        "    </tr>\n",
        "    <tr>\n",
        "      <th>16457</th>\n",
        "      <td> Raymonde</td>\n",
        "      <td> F</td>\n",
        "      <td>        Raimonda</td>\n",
        "    </tr>\n",
        "    <tr>\n",
        "      <th>16458</th>\n",
        "      <td> Raymonde</td>\n",
        "      <td> F</td>\n",
        "      <td>        Raimonde</td>\n",
        "    </tr>\n",
        "    <tr>\n",
        "      <th>16459</th>\n",
        "      <td> Raymonde</td>\n",
        "      <td> F</td>\n",
        "      <td>           Rayma</td>\n",
        "    </tr>\n",
        "    <tr>\n",
        "      <th>16460</th>\n",
        "      <td> Raymonde</td>\n",
        "      <td> F</td>\n",
        "      <td>        Raymonda</td>\n",
        "    </tr>\n",
        "    <tr>\n",
        "      <th>16461</th>\n",
        "      <td>    Rayna</td>\n",
        "      <td> F</td>\n",
        "      <td>            Raen</td>\n",
        "    </tr>\n",
        "    <tr>\n",
        "      <th>16462</th>\n",
        "      <td>    Rayna</td>\n",
        "      <td> F</td>\n",
        "      <td>           Raena</td>\n",
        "    </tr>\n",
        "    <tr>\n",
        "      <th>16463</th>\n",
        "      <td>    Rayna</td>\n",
        "      <td> F</td>\n",
        "      <td>            Rain</td>\n",
        "    </tr>\n",
        "    <tr>\n",
        "      <th>16464</th>\n",
        "      <td>    Rayna</td>\n",
        "      <td> F</td>\n",
        "      <td>           Raina</td>\n",
        "    </tr>\n",
        "    <tr>\n",
        "      <th>16465</th>\n",
        "      <td>    Rayna</td>\n",
        "      <td> F</td>\n",
        "      <td>           Raine</td>\n",
        "    </tr>\n",
        "    <tr>\n",
        "      <th>16466</th>\n",
        "      <td>    Rayna</td>\n",
        "      <td> F</td>\n",
        "      <td>           Reina</td>\n",
        "    </tr>\n",
        "    <tr>\n",
        "      <th>16467</th>\n",
        "      <td>    Rayna</td>\n",
        "      <td> F</td>\n",
        "      <td>           Reyna</td>\n",
        "    </tr>\n",
        "    <tr>\n",
        "      <th>16468</th>\n",
        "      <td>   Raynor</td>\n",
        "      <td> M</td>\n",
        "      <td>          Ragnar</td>\n",
        "    </tr>\n",
        "    <tr>\n",
        "      <th>16469</th>\n",
        "      <td>   Raynor</td>\n",
        "      <td> M</td>\n",
        "      <td>          Rainar</td>\n",
        "    </tr>\n",
        "    <tr>\n",
        "      <th>16470</th>\n",
        "      <td>   Raynor</td>\n",
        "      <td> M</td>\n",
        "      <td>          Rainer</td>\n",
        "    </tr>\n",
        "    <tr>\n",
        "      <th>16471</th>\n",
        "      <td>   Raynor</td>\n",
        "      <td> M</td>\n",
        "      <td>         Rainier</td>\n",
        "    </tr>\n",
        "    <tr>\n",
        "      <th>16472</th>\n",
        "      <td>   Raynor</td>\n",
        "      <td> M</td>\n",
        "      <td>          Rainor</td>\n",
        "    </tr>\n",
        "    <tr>\n",
        "      <th>16473</th>\n",
        "      <td>   Raynor</td>\n",
        "      <td> M</td>\n",
        "      <td>         Ranieri</td>\n",
        "    </tr>\n",
        "    <tr>\n",
        "      <th>16474</th>\n",
        "      <td>   Raynor</td>\n",
        "      <td> M</td>\n",
        "      <td>          Raynar</td>\n",
        "    </tr>\n",
        "    <tr>\n",
        "      <th>16475</th>\n",
        "      <td>   Raynor</td>\n",
        "      <td> M</td>\n",
        "      <td>          Rayner</td>\n",
        "    </tr>\n",
        "    <tr>\n",
        "      <th>16476</th>\n",
        "      <td>     Razi</td>\n",
        "      <td> F</td>\n",
        "      <td>         Razilee</td>\n",
        "    </tr>\n",
        "    <tr>\n",
        "      <th>16477</th>\n",
        "      <td>     Razi</td>\n",
        "      <td> F</td>\n",
        "      <td>          Razili</td>\n",
        "    </tr>\n",
        "    <tr>\n",
        "      <th>16478</th>\n",
        "      <td>   Raziah</td>\n",
        "      <td> F</td>\n",
        "      <td>           Razia</td>\n",
        "    </tr>\n",
        "    <tr>\n",
        "      <th>16479</th>\n",
        "      <td>   Raziah</td>\n",
        "      <td> F</td>\n",
        "      <td>         Raziela</td>\n",
        "    </tr>\n",
        "    <tr>\n",
        "      <th>16480</th>\n",
        "      <td>   Raziah</td>\n",
        "      <td> F</td>\n",
        "      <td>         Razilee</td>\n",
        "    </tr>\n",
        "    <tr>\n",
        "      <th>16481</th>\n",
        "      <td>   Raziah</td>\n",
        "      <td> F</td>\n",
        "      <td>          Razili</td>\n",
        "    </tr>\n",
        "    <tr>\n",
        "      <th>16482</th>\n",
        "      <td>   Raziah</td>\n",
        "      <td> F</td>\n",
        "      <td>          Raziya</td>\n",
        "    </tr>\n",
        "    <tr>\n",
        "      <th>16483</th>\n",
        "      <td>   Razzaq</td>\n",
        "      <td> M</td>\n",
        "      <td>           Razaq</td>\n",
        "    </tr>\n",
        "    <tr>\n",
        "      <th>0    </th>\n",
        "      <td> Kirkland</td>\n",
        "      <td> M</td>\n",
        "      <td>         Kerklan</td>\n",
        "    </tr>\n",
        "    <tr>\n",
        "      <th>1    </th>\n",
        "      <td> Kirkland</td>\n",
        "      <td> M</td>\n",
        "      <td>         Kirklan</td>\n",
        "    </tr>\n",
        "    <tr>\n",
        "      <th>2    </th>\n",
        "      <td>    Rhett</td>\n",
        "      <td> M</td>\n",
        "      <td>            Rhet</td>\n",
        "    </tr>\n",
        "    <tr>\n",
        "      <th>3    </th>\n",
        "      <td>   Wahhab</td>\n",
        "      <td> M</td>\n",
        "      <td>           Wahad</td>\n",
        "    </tr>\n",
        "    <tr>\n",
        "      <th>4    </th>\n",
        "      <td>   Wahhab</td>\n",
        "      <td> M</td>\n",
        "      <td>           Wahib</td>\n",
        "    </tr>\n",
        "    <tr>\n",
        "      <th>5    </th>\n",
        "      <td>   Arkell</td>\n",
        "      <td> M</td>\n",
        "      <td>           Arkel</td>\n",
        "    </tr>\n",
        "    <tr>\n",
        "      <th>6    </th>\n",
        "      <td>    Ellis</td>\n",
        "      <td> M</td>\n",
        "      <td>            Elis</td>\n",
        "    </tr>\n",
        "    <tr>\n",
        "      <th>7    </th>\n",
        "      <td>   Massey</td>\n",
        "      <td> M</td>\n",
        "      <td>          Massie</td>\n",
        "    </tr>\n",
        "    <tr>\n",
        "      <th>8    </th>\n",
        "      <td>  Narelle</td>\n",
        "      <td> F</td>\n",
        "      <td>          Nerela</td>\n",
        "    </tr>\n",
        "    <tr>\n",
        "      <th>9    </th>\n",
        "      <td>  Narelle</td>\n",
        "      <td> F</td>\n",
        "      <td>          Narele</td>\n",
        "    </tr>\n",
        "  </tbody>\n",
        "</table>\n",
        "</div>"
       ],
       "metadata": {},
       "output_type": "pyout",
       "prompt_number": 42,
       "text": [
        "           name sex          variant\n",
        "16444   Raymond   M            Ramon\n",
        "16445   Raymond   M           Ramond\n",
        "16446   Raymond   M          Ramonde\n",
        "16447   Raymond   M           Ramone\n",
        "16448   Raymond   M              Ray\n",
        "16449   Raymond   M          Rayment\n",
        "16450   Raymond   M  Reamonn (Irish)\n",
        "16451   Raymond   M          Redmond\n",
        "16452   Raymond   M          Reymond\n",
        "16453   Raymond   M         Reymondo\n",
        "16454  Raymonde   F          Raemond\n",
        "16455  Raymonde   F         Raemonda\n",
        "16456  Raymonde   F          Raimond\n",
        "16457  Raymonde   F         Raimonda\n",
        "16458  Raymonde   F         Raimonde\n",
        "16459  Raymonde   F            Rayma\n",
        "16460  Raymonde   F         Raymonda\n",
        "16461     Rayna   F             Raen\n",
        "16462     Rayna   F            Raena\n",
        "16463     Rayna   F             Rain\n",
        "16464     Rayna   F            Raina\n",
        "16465     Rayna   F            Raine\n",
        "16466     Rayna   F            Reina\n",
        "16467     Rayna   F            Reyna\n",
        "16468    Raynor   M           Ragnar\n",
        "16469    Raynor   M           Rainar\n",
        "16470    Raynor   M           Rainer\n",
        "16471    Raynor   M          Rainier\n",
        "16472    Raynor   M           Rainor\n",
        "16473    Raynor   M          Ranieri\n",
        "16474    Raynor   M           Raynar\n",
        "16475    Raynor   M           Rayner\n",
        "16476      Razi   F          Razilee\n",
        "16477      Razi   F           Razili\n",
        "16478    Raziah   F            Razia\n",
        "16479    Raziah   F          Raziela\n",
        "16480    Raziah   F          Razilee\n",
        "16481    Raziah   F           Razili\n",
        "16482    Raziah   F           Raziya\n",
        "16483    Razzaq   M            Razaq\n",
        "0      Kirkland   M          Kerklan\n",
        "1      Kirkland   M          Kirklan\n",
        "2         Rhett   M             Rhet\n",
        "3        Wahhab   M            Wahad\n",
        "4        Wahhab   M            Wahib\n",
        "5        Arkell   M            Arkel\n",
        "6         Ellis   M             Elis\n",
        "7        Massey   M           Massie\n",
        "8       Narelle   F           Nerela\n",
        "9       Narelle   F           Narele"
       ]
      }
     ],
     "prompt_number": 42
    },
    {
     "cell_type": "code",
     "collapsed": false,
     "input": [
      "df2 = pd.DataFrame()\n",
      "dfv.reset_index(drop=True, inplace=True)\n",
      "for idx, row in dfv.iterrows():\n",
      "    if dfv.sex[idx] == 'Male/Female' or dfv.sex[idx] == 'Both':\n",
      "        n = dfv.name[idx]\n",
      "        dfv.sex[idx] = 'M'\n",
      "        v = dfv.variant[idx]\n",
      "        df2 = df2.append(pd.DataFrame({'name':[n],'sex':['F'],'variant':[v]}), ignore_index = True)\n",
      "\n",
      "dfv.append(df2, ignore_index=True)\n",
      "dfv.reset_index(drop=True,inplace=True)"
     ],
     "language": "python",
     "metadata": {},
     "outputs": [],
     "prompt_number": 44
    },
    {
     "cell_type": "code",
     "collapsed": false,
     "input": [
      "dfv.tail()"
     ],
     "language": "python",
     "metadata": {},
     "outputs": [
      {
       "html": [
        "<div style=\"max-height:1000px;max-width:1500px;overflow:auto;\">\n",
        "<table border=\"1\" class=\"dataframe\">\n",
        "  <thead>\n",
        "    <tr style=\"text-align: right;\">\n",
        "      <th></th>\n",
        "      <th>name</th>\n",
        "      <th>sex</th>\n",
        "      <th>variant</th>\n",
        "    </tr>\n",
        "  </thead>\n",
        "  <tbody>\n",
        "    <tr>\n",
        "      <th>16489</th>\n",
        "      <td>  Arkell</td>\n",
        "      <td> M</td>\n",
        "      <td>  Arkel</td>\n",
        "    </tr>\n",
        "    <tr>\n",
        "      <th>16490</th>\n",
        "      <td>   Ellis</td>\n",
        "      <td> M</td>\n",
        "      <td>   Elis</td>\n",
        "    </tr>\n",
        "    <tr>\n",
        "      <th>16491</th>\n",
        "      <td>  Massey</td>\n",
        "      <td> M</td>\n",
        "      <td> Massie</td>\n",
        "    </tr>\n",
        "    <tr>\n",
        "      <th>16492</th>\n",
        "      <td> Narelle</td>\n",
        "      <td> F</td>\n",
        "      <td> Nerela</td>\n",
        "    </tr>\n",
        "    <tr>\n",
        "      <th>16493</th>\n",
        "      <td> Narelle</td>\n",
        "      <td> F</td>\n",
        "      <td> Narele</td>\n",
        "    </tr>\n",
        "  </tbody>\n",
        "</table>\n",
        "</div>"
       ],
       "metadata": {},
       "output_type": "pyout",
       "prompt_number": 45,
       "text": [
        "          name sex variant\n",
        "16489   Arkell   M   Arkel\n",
        "16490    Ellis   M    Elis\n",
        "16491   Massey   M  Massie\n",
        "16492  Narelle   F  Nerela\n",
        "16493  Narelle   F  Narele"
       ]
      }
     ],
     "prompt_number": 45
    },
    {
     "cell_type": "code",
     "collapsed": false,
     "input": [
      "dfv.sex.unique()"
     ],
     "language": "python",
     "metadata": {},
     "outputs": [
      {
       "metadata": {},
       "output_type": "pyout",
       "prompt_number": 46,
       "text": [
        "array(['F', 'M', '- Nigerian', ' Male', '- Swahili', 'Polynesian'], dtype=object)"
       ]
      }
     ],
     "prompt_number": 46
    },
    {
     "cell_type": "code",
     "collapsed": false,
     "input": [
      "df.to_pickle('df_meaning_incompetech.pickle')\n",
      "dfv.to_pickle('df_variants_incompetech.pickle')"
     ],
     "language": "python",
     "metadata": {},
     "outputs": [
      {
       "ename": "NameError",
       "evalue": "name 'df' is not defined",
       "output_type": "pyerr",
       "traceback": [
        "\u001b[1;31m---------------------------------------------------------------------------\u001b[0m\n\u001b[1;31mNameError\u001b[0m                                 Traceback (most recent call last)",
        "\u001b[1;32m<ipython-input-2-a18cc88d4b04>\u001b[0m in \u001b[0;36m<module>\u001b[1;34m()\u001b[0m\n\u001b[1;32m----> 1\u001b[1;33m \u001b[0mdf\u001b[0m\u001b[1;33m.\u001b[0m\u001b[0mto_pickle\u001b[0m\u001b[1;33m(\u001b[0m\u001b[1;34m'df_meaning_incompetech.pickle'\u001b[0m\u001b[1;33m)\u001b[0m\u001b[1;33m\u001b[0m\u001b[0m\n\u001b[0m\u001b[0;32m      2\u001b[0m \u001b[0mdfv\u001b[0m\u001b[1;33m.\u001b[0m\u001b[0mto_pickle\u001b[0m\u001b[1;33m(\u001b[0m\u001b[1;34m'df_variants_ict.pickle'\u001b[0m\u001b[1;33m)\u001b[0m\u001b[1;33m\u001b[0m\u001b[0m\n",
        "\u001b[1;31mNameError\u001b[0m: name 'df' is not defined"
       ]
      }
     ],
     "prompt_number": 2
    },
    {
     "cell_type": "heading",
     "level": 2,
     "metadata": {},
     "source": [
      "Cleanup variants - startpoint\n"
     ]
    },
    {
     "cell_type": "code",
     "collapsed": false,
     "input": [
      "import pandas as pd\n",
      "df = pd.read_pickle('df_variants_ict.pickle')"
     ],
     "language": "python",
     "metadata": {},
     "outputs": [],
     "prompt_number": 4
    },
    {
     "cell_type": "code",
     "collapsed": false,
     "input": [
      "df[df.variant.str.contains(\"\\(\")].head(10)"
     ],
     "language": "python",
     "metadata": {},
     "outputs": [
      {
       "html": [
        "<div style=\"max-height:1000px;max-width:1500px;overflow:auto;\">\n",
        "<table border=\"1\" class=\"dataframe\">\n",
        "  <thead>\n",
        "    <tr style=\"text-align: right;\">\n",
        "      <th></th>\n",
        "      <th>name</th>\n",
        "      <th>sex</th>\n",
        "      <th>variant</th>\n",
        "    </tr>\n",
        "  </thead>\n",
        "  <tbody>\n",
        "    <tr>\n",
        "      <th>88 </th>\n",
        "      <td>   Abelia</td>\n",
        "      <td> F</td>\n",
        "      <td> Abelle (feminine of Abel)</td>\n",
        "    </tr>\n",
        "    <tr>\n",
        "      <th>101</th>\n",
        "      <td>  Abigail</td>\n",
        "      <td> F</td>\n",
        "      <td>          Abaigeal (Irish)</td>\n",
        "    </tr>\n",
        "    <tr>\n",
        "      <th>229</th>\n",
        "      <td>     Adam</td>\n",
        "      <td> M</td>\n",
        "      <td>           Adamo (Italian)</td>\n",
        "    </tr>\n",
        "    <tr>\n",
        "      <th>231</th>\n",
        "      <td>     Adam</td>\n",
        "      <td> M</td>\n",
        "      <td>            Adan (Spanish)</td>\n",
        "    </tr>\n",
        "    <tr>\n",
        "      <th>232</th>\n",
        "      <td>     Adam</td>\n",
        "      <td> M</td>\n",
        "      <td>         Adao (Portuguese)</td>\n",
        "    </tr>\n",
        "    <tr>\n",
        "      <th>242</th>\n",
        "      <td>     Adam</td>\n",
        "      <td> M</td>\n",
        "      <td>            Ado (Estonian)</td>\n",
        "    </tr>\n",
        "    <tr>\n",
        "      <th>243</th>\n",
        "      <td>     Adam</td>\n",
        "      <td> M</td>\n",
        "      <td>       Adomas (Lithuanian)</td>\n",
        "    </tr>\n",
        "    <tr>\n",
        "      <th>268</th>\n",
        "      <td> Adelaide</td>\n",
        "      <td> F</td>\n",
        "      <td>          Adalia (Spanish)</td>\n",
        "    </tr>\n",
        "    <tr>\n",
        "      <th>275</th>\n",
        "      <td> Adelaide</td>\n",
        "      <td> F</td>\n",
        "      <td>         Adelajda (Polish)</td>\n",
        "    </tr>\n",
        "    <tr>\n",
        "      <th>277</th>\n",
        "      <td> Adelaide</td>\n",
        "      <td> F</td>\n",
        "      <td>         Adelhaid (German)</td>\n",
        "    </tr>\n",
        "  </tbody>\n",
        "</table>\n",
        "</div>"
       ],
       "metadata": {},
       "output_type": "pyout",
       "prompt_number": 6,
       "text": [
        "         name sex                    variant\n",
        "88     Abelia   F  Abelle (feminine of Abel)\n",
        "101   Abigail   F           Abaigeal (Irish)\n",
        "229      Adam   M            Adamo (Italian)\n",
        "231      Adam   M             Adan (Spanish)\n",
        "232      Adam   M          Adao (Portuguese)\n",
        "242      Adam   M             Ado (Estonian)\n",
        "243      Adam   M        Adomas (Lithuanian)\n",
        "268  Adelaide   F           Adalia (Spanish)\n",
        "275  Adelaide   F          Adelajda (Polish)\n",
        "277  Adelaide   F          Adelhaid (German)"
       ]
      }
     ],
     "prompt_number": 6
    },
    {
     "cell_type": "code",
     "collapsed": false,
     "input": [
      "df['parenthetical_info']=''"
     ],
     "language": "python",
     "metadata": {},
     "outputs": [],
     "prompt_number": 7
    },
    {
     "cell_type": "code",
     "collapsed": false,
     "input": [
      "x = df.variant.ix[88]"
     ],
     "language": "python",
     "metadata": {},
     "outputs": [],
     "prompt_number": 8
    },
    {
     "cell_type": "code",
     "collapsed": false,
     "input": [
      "x"
     ],
     "language": "python",
     "metadata": {},
     "outputs": [
      {
       "metadata": {},
       "output_type": "pyout",
       "prompt_number": 9,
       "text": [
        "'Abelle (feminine of Abel)'"
       ]
      }
     ],
     "prompt_number": 9
    },
    {
     "cell_type": "code",
     "collapsed": false,
     "input": [
      "import re"
     ],
     "language": "python",
     "metadata": {},
     "outputs": [],
     "prompt_number": 10
    },
    {
     "cell_type": "code",
     "collapsed": false,
     "input": [
      "print re.search(\" \\(.+\\)\", x).group(0)[2:-1]"
     ],
     "language": "python",
     "metadata": {},
     "outputs": [
      {
       "output_type": "stream",
       "stream": "stdout",
       "text": [
        "feminine of Abel\n"
       ]
      }
     ],
     "prompt_number": 14
    },
    {
     "cell_type": "code",
     "collapsed": false,
     "input": [
      "print re.sub(\" \\(.+\\)\", '', x)"
     ],
     "language": "python",
     "metadata": {},
     "outputs": [
      {
       "output_type": "stream",
       "stream": "stdout",
       "text": [
        "Abelle\n"
       ]
      }
     ],
     "prompt_number": 15
    },
    {
     "cell_type": "code",
     "collapsed": false,
     "input": [
      "for i in range(len(df)):\n",
      "    var = df.variant.iloc[i]\n",
      "    if re.search(\" \\(.+\\)\", var):\n",
      "        df.variant.iloc[i] = re.sub(\" \\(.+\\)\", '', var)\n",
      "        df.parenthetical_info[i] = re.search(\" \\(.+\\)\", var).group(0)[2:-1]"
     ],
     "language": "python",
     "metadata": {},
     "outputs": [],
     "prompt_number": 16
    },
    {
     "cell_type": "code",
     "collapsed": false,
     "input": [
      "print df[df.parenthetical_info != ''].head(10)"
     ],
     "language": "python",
     "metadata": {},
     "outputs": [
      {
       "output_type": "stream",
       "stream": "stdout",
       "text": [
        "         name sex   variant parenthetical_info\n",
        "88     Abelia   F    Abelle   feminine of Abel\n",
        "101   Abigail   F  Abaigeal              Irish\n",
        "229      Adam   M     Adamo            Italian\n",
        "231      Adam   M      Adan            Spanish\n",
        "232      Adam   M      Adao         Portuguese\n",
        "242      Adam   M       Ado           Estonian\n",
        "243      Adam   M    Adomas         Lithuanian\n",
        "268  Adelaide   F    Adalia            Spanish\n",
        "275  Adelaide   F  Adelajda             Polish\n",
        "277  Adelaide   F  Adelhaid             German\n"
       ]
      }
     ],
     "prompt_number": 17
    },
    {
     "cell_type": "code",
     "collapsed": false,
     "input": [
      "df.to_pickle('df_variants_ict.pickle')"
     ],
     "language": "python",
     "metadata": {},
     "outputs": [],
     "prompt_number": 18
    },
    {
     "cell_type": "code",
     "collapsed": false,
     "input": [],
     "language": "python",
     "metadata": {},
     "outputs": []
    }
   ],
   "metadata": {}
  }
 ]
}