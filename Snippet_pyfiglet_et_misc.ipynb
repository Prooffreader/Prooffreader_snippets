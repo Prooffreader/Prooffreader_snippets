{
 "metadata": {
  "name": "",
  "signature": "sha256:ed9659ed74f930ccb5fb82036d2ca96b4d80f47701f6fa37b7a5c8c7fc7fedce"
 },
 "nbformat": 3,
 "nbformat_minor": 0,
 "worksheets": [
  {
   "cells": [
    {
     "cell_type": "code",
     "collapsed": false,
     "input": [
      "import pyfiglet\n",
      "phrase = 'CStringIO'\n",
      "print \"x = \\\"\\\"\\\"\"\n",
      "print pyfiglet.figlet_format(phrase, font='standard')\n",
      "print \"    \\\"\\\"\\\"\""
     ],
     "language": "python",
     "metadata": {},
     "outputs": [
      {
       "output_type": "stream",
       "stream": "stdout",
       "text": [
        "x = \"\"\"\n",
        "  ____ ____  _        _             ___ ___  \n",
        " / ___/ ___|| |_ _ __(_)_ __   __ _|_ _/ _ \\ \n",
        "| |   \\___ \\| __| '__| | '_ \\ / _` || | | | |\n",
        "| |___ ___) | |_| |  | | | | | (_| || | |_| |\n",
        " \\____|____/ \\__|_|  |_|_| |_|\\__, |___\\___/ \n",
        "                              |___/          \n",
        "\n",
        "    \"\"\"\n"
       ]
      }
     ],
     "prompt_number": 11
    },
    {
     "cell_type": "code",
     "collapsed": false,
     "input": [
      "# Function to show Pillow image inline\n",
      "\n",
      "def nbimage( data, vmin = None, vmax = None, vsym = False, saveas = None ):\n",
      "    '''\n",
      "    Display raw data as a notebook inline image.\n",
      "\n",
      "    Parameters:\n",
      "    data: array-like object, two or three dimensions. If three dimensional,\n",
      "          first or last dimension must have length 3 or 4 and will be\n",
      "          interpreted as color (RGB or RGBA).\n",
      "    vmin, vmax, vsym: refer to rerange()\n",
      "    saveas: Save image file to disk (optional). Proper file name extension\n",
      "            will be appended to the pathname given. [ None ]\n",
      "    '''\n",
      "    from IPython.display import display, Image\n",
      "    from Image import fromarray\n",
      "    from StringIO import StringIO\n",
      "    data = rerange( data, vmin, vmax, vsym )\n",
      "    data = data.squeeze()\n",
      "    # try to be smart\n",
      "    if data.ndim == 3 and 3 <= data.shape[ 0 ] <= 4:\n",
      "        data = data.transpose( ( 1, 2, 0 ) )\n",
      "    s = StringIO()\n",
      "    fromarray( data ).save( s, 'png' )\n",
      "    if saveas is not None:\n",
      "        open( saveas + '.png', 'wb' ).write( s )\n",
      "    display( Image( s.getvalue() ) )\n",
      "    \n",
      "def rerange( data, vmin = None, vmax = None, vsym = False ):\n",
      "    '''\n",
      "    Rescale values of data array to fit the range 0 ... 255 and convert to uint8.\n",
      "\n",
      "    Parameters:\n",
      "    data: array-like object. if data.dtype == uint8, no scaling will occur.\n",
      "    vmin: original array value that will map to 0 in the output. [ data.min() ]\n",
      "    vmax: original array value that will map to 255 in the output. [ data.max() ]\n",
      "    vsym: ensure that 0 will map to gray (if True, may override either vmin or vmax\n",
      "          to accommodate all values.) [ False ]\n",
      "    '''\n",
      "    from numpy import asarray, uint8, clip\n",
      "    data = asarray( data )\n",
      "    if data.dtype != uint8:\n",
      "        if vmin is None:\n",
      "            vmin = data.min()\n",
      "        if vmax is None:\n",
      "            vmax = data.max()\n",
      "        if vsym:\n",
      "            vmax = max( abs( vmin ), abs( vmax ) )\n",
      "            vmin = -vmax\n",
      "        data = ( data - vmin ) * ( 256 / ( vmax - vmin ) )\n",
      "        data = clip( data, 0, 255 ).astype( uint8 )\n",
      "    return data"
     ],
     "language": "python",
     "metadata": {},
     "outputs": []
    }
   ],
   "metadata": {}
  }
 ]
}