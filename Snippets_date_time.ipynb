{
 "metadata": {
  "name": "",
  "signature": "sha256:aa761558f4b61ea587b45ed62de589c6e56e337683ace75d071e862892d341a7"
 },
 "nbformat": 3,
 "nbformat_minor": 0,
 "worksheets": [
  {
   "cells": [
    {
     "cell_type": "code",
     "collapsed": false,
     "input": [
      "import time\n",
      "import datetime\n",
      "from datetime import datetime #???"
     ],
     "language": "python",
     "metadata": {},
     "outputs": [],
     "prompt_number": 5
    },
    {
     "cell_type": "raw",
     "metadata": {},
     "source": [
      "%a\tLocale\u2019s abbreviated weekday name.\t \n",
      "%A\tLocale\u2019s full weekday name.\t \n",
      "%b\tLocale\u2019s abbreviated month name.\t \n",
      "%B\tLocale\u2019s full month name.\t \n",
      "%c\tLocale\u2019s appropriate date and time representation.\t \n",
      "%d\tDay of the month as a decimal number [01,31].\t \n",
      "%H\tHour (24-hour clock) as a decimal number [00,23].\t \n",
      "%I\tHour (12-hour clock) as a decimal number [01,12].\t \n",
      "%j\tDay of the year as a decimal number [001,366].\t \n",
      "%m\tMonth as a decimal number [01,12].\t \n",
      "%M\tMinute as a decimal number [00,59].\t \n",
      "%p\tLocale\u2019s equivalent of either AM or PM.\t(1)\n",
      "%S\tSecond as a decimal number [00,61].\t(2)\n",
      "%U\tWeek number of the year (Sunday as the first day of the week) as a decimal number [00,53]. All days in a new year preceding the first Sunday are considered to be in week 0.\t(3)\n",
      "%w\tWeekday as a decimal number [0(Sunday),6].\t \n",
      "%W\tWeek number of the year (Monday as the first day of the week) as a decimal number [00,53]. All days in a new year preceding the first Monday are considered to be in week 0.\t(3)\n",
      "%x\tLocale\u2019s appropriate date representation.\t \n",
      "%X\tLocale\u2019s appropriate time representation.\t \n",
      "%y\tYear without century as a decimal number [00,99].\t \n",
      "%Y\tYear with century as a decimal number.\t \n",
      "%Z\tTime zone name (no characters if no time zone exists).\t \n",
      "%%\tA literal '%' character."
     ]
    },
    {
     "cell_type": "heading",
     "level": 3,
     "metadata": {},
     "source": [
      "Parsing time and date from text"
     ]
    },
    {
     "cell_type": "code",
     "collapsed": false,
     "input": [
      "#time\n",
      "\n",
      "time_tuple = time.strptime(txt, \"%m/%d/%Y %I:%M:%S %p\") # time tuple\n",
      "print time_tuple"
     ],
     "language": "python",
     "metadata": {},
     "outputs": [
      {
       "output_type": "stream",
       "stream": "stdout",
       "text": [
        "time.struct_time(tm_year=2011, tm_mon=1, tm_mday=11, tm_hour=11, tm_min=15, tm_sec=0, tm_wday=1, tm_yday=11, tm_isdst=-1)\n"
       ]
      }
     ],
     "prompt_number": 3
    },
    {
     "cell_type": "code",
     "collapsed": false,
     "input": [
      "#date\n",
      "txt = \"1/11/2011 11:15:00 AM\"\n",
      "datetime_ = datetime.strptime(txt, \"%m/%d/%Y %I:%M:%S %p\")\n",
      "print datetime_\n",
      "print type(datetime_)\n",
      "print str(datetime_)"
     ],
     "language": "python",
     "metadata": {},
     "outputs": [
      {
       "output_type": "stream",
       "stream": "stdout",
       "text": [
        "2011-01-11 11:15:00\n",
        "<type 'datetime.datetime'>\n",
        "2011-01-11 11:15:00\n"
       ]
      }
     ],
     "prompt_number": 7
    },
    {
     "cell_type": "code",
     "collapsed": false,
     "input": [],
     "language": "python",
     "metadata": {},
     "outputs": []
    }
   ],
   "metadata": {}
  }
 ]
}